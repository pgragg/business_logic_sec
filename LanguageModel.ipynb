{
 "cells": [
  {
   "cell_type": "code",
   "execution_count": 31,
   "metadata": {},
   "outputs": [],
   "source": [
    "%reload_ext autoreload\n",
    "%autoreload 2\n",
    "%matplotlib inline\n",
    "import importlib\n",
    "from fastai.learner import *\n",
    "\n",
    "import torchtext\n",
    "from torchtext import vocab, data\n",
    "from torchtext.datasets import language_modeling\n",
    "\n",
    "from fastai.rnn_reg import *\n",
    "from fastai.rnn_train import *\n",
    "from fastai.nlp import *\n",
    "from fastai.lm_rnn import *\n",
    "\n",
    "import dill as pickle\n",
    "import spacy\n"
   ]
  },
  {
   "cell_type": "code",
   "execution_count": 32,
   "metadata": {},
   "outputs": [],
   "source": [
    "PATH='data/language_model/'\n",
    "\n",
    "TRN_PATH = 'train/all/'\n",
    "VAL_PATH = 'test/all/'\n",
    "TRN = f'{PATH}{TRN_PATH}' \n",
    "VAL = f'{PATH}{VAL_PATH}' "
   ]
  },
  {
   "cell_type": "code",
   "execution_count": 33,
   "metadata": {},
   "outputs": [],
   "source": [
    "spacy_tok = spacy.load('en')"
   ]
  },
  {
   "cell_type": "code",
   "execution_count": 34,
   "metadata": {},
   "outputs": [
    {
     "data": {
      "text/plain": [
       "'b\" < SEC - DOCUMENT>0001004878 - 18 - 000132.txt : 20180601\\\\n < SEC - HEADER>0001004878 - 18 - 000132.hdr.sgml : 20180601\\\\n < ACCEPTANCE - DATETIME>20180531200503\\\\nACCESSION NUMBER:\\\\t\\\\t0001004878 - 18 - 000132\\\\nCONFORMED SUBMISSION TYPE:\\\\t8-K\\\\nPUBLIC DOCUMENT COUNT:\\\\t\\\\t1\\\\nCONFORMED PERIOD OF REPORT:\\\\t20180531\\\\nITEM INFORMATION:\\\\t\\\\tDeparture of Directors or Certain Officers ; Election of Directors ; Appointment of Certain Officers : Compensatory Arrangements of Certain Officers\\\\nFILED AS OF DATE:\\\\t\\\\t20180601\\\\nDATE AS OF CHANGE:\\\\t\\\\t20180531\\\\n\\\\nFILER:\\\\n\\\\n\\\\tCOMPANY DATA:\\\\t\\\\n\\\\t\\\\tCOMPANY CONFORMED NAME:\\\\t\\\\t\\\\tAdvantego Corp\\\\n\\\\t\\\\tCENTRAL INDEX KEY:\\\\t\\\\t\\\\t0000869531\\\\n\\\\t\\\\tSTANDARD INDUSTRIAL CLASSIFICATION:\\\\tMETAL MINING [ 1000]\\\\n\\\\t\\\\tIRS NUMBER:\\\\t\\\\t\\\\t\\\\t841116515\\\\n\\\\t\\\\tSTATE OF INCORPORATION:\\\\t\\\\t\\\\tCO\\\\n\\\\t\\\\tFISCAL YEAR END:\\\\t\\\\t\\\\t1231\\\\n\\\\n\\\\tFILING VALUES:\\\\n\\\\t\\\\tFORM TYPE:\\\\t\\\\t8-K\\\\n\\\\t\\\\tSEC ACT:\\\\t\\\\t1934 Act\\\\n\\\\t\\\\tSEC FILE NUMBER:\\\\t000 - 23726\\\\n\\\\t\\\\tFILM NUMBER:\\\\t\\\\t18873151\\\\n\\\\n\\\\tBUSINESS ADDRESS:\\\\t\\\\n\\\\t\\\\tSTREET 1:\\\\t\\\\t3802 EAST FLORIDA AVE.\\\\n\\\\t\\\\tSTREET 2:\\\\t\\\\tSUITE 400\\\\n\\\\t\\\\tCITY:\\\\t\\\\t\\\\tDENVER\\\\n\\\\t\\\\tSTATE:\\\\t\\\\t\\\\tCO\\\\n\\\\t\\\\tZIP:\\\\t\\\\t\\\\t80210\\\\n\\\\t\\\\tBUSINESS PHONE:\\\\t\\\\t(949 ) 627 - 8977\\\\n\\\\n\\\\tMAIL ADDRESS:\\\\t\\\\n\\\\t\\\\tSTREET 1:\\\\t\\\\t3802 EAST FLORIDA AVE.\\\\n\\\\t\\\\tSTREET 2:\\\\t\\\\tSUITE 400\\\\n\\\\t\\\\tCITY:\\\\t\\\\t\\\\tDENVER\\\\n\\\\t\\\\tSTATE:\\\\t\\\\t\\\\tCO\\\\n\\\\t\\\\tZIP:\\\\t\\\\t\\\\t80210\\\\n\\\\n\\\\tFORMER COMPANY:\\\\t\\\\n\\\\t\\\\tFORMER CONFORMED NAME:\\\\tGOLDEN EAGLE INTERNATIONAL INC\\\\n\\\\t\\\\tDATE OF NAME CHANGE:\\\\t19950821\\\\n\\\\n\\\\tFORMER COMPANY:\\\\t\\\\n\\\\t\\\\tFORMER CONFORMED NAME:\\\\tBENEFICIAL CAPITAL FINANCIAL SERVICES CORP\\\\n\\\\t\\\\tDATE OF NAME CHANGE:\\\\t19940329\\\\n</SEC - HEADER>\\\\n < DOCUMENT>\\\\n < TYPE>8-K\\\\n < SEQUENCE>1\\\\n < FILENAME > form8kitem502greyresig5 - 18.txt\\\\n < TEXT>\\\\n  UNITED STATES\\\\n  SECURITIES AND EXCHANGE COMMISSION\\\\n  WASHINGTON , D.C. 20549\\\\n\\\\n  FORM 8-K\\\\n\\\\n  CURRENT REPORT\\\\n\\\\n  Pursuant to Section 13 or 15(d ) of the\\\\n  Securities Exchange Act of 1934\\\\n\\\\n  Date of Report ( date of earliest event reported ) :  May 31 , 2018\\\\n\\\\n  ADVANTEGO CORPORATION\\\\n  ---------------------\\\\n  ( Exact name of Registrant as specified in its charter)\\\\n\\\\n  Colorado  0 - 23726  84 - 1116515\\\\n----------------------------  -------------------  ----------------------\\\\n(State or other jurisdiction  ( Commission File No . )  ( IRS Employer\\\\n  of incorporation )  Identification No.)\\\\n\\\\n  3802 East Florida Ave . , Suite 400 , Denver , CO 80210\\\\n  ---------------------------------------------------\\\\n  ( Address of principal executive offices , including Zip Code)\\\\n\\\\n  Registrant \\'s telephone number , including area code : ( 949 ) 627 - 8977\\\\n\\\\n  Golden Eagle International , Inc.\\\\n  1 Park Plaza , Suite 600\\\\n  Irvine , CA 92614\\\\n  ----------------------------------------\\\\n  ( Former name or former address if changed since last report)\\\\n\\\\nCheck appropriate box below if the Form 8-K filing is intended to simultaneously\\\\nsatisfy the filing obligation of the registrant under any of the following\\\\nprovisions ( see General Instruction A.2 . below)\\\\n\\\\n\\\\n [ ]  Written communications pursuant to Rule 425 under the Securities Act ( 17\\\\n  CFR 230.425)\\\\n\\\\n [ ]  Soliciting material pursuant to Rule 14a-12 under the Exchange Act ( 17 CFR\\\\n  240.14a-12)\\\\n\\\\n [ ]  Pre - commencement communications pursuant to Rule 14d-2(b ) under the\\\\n  Exchange Act ( 17 CFR 240.14d-2(b))\\\\n\\\\n [ ]  Pre - commencement communications pursuant to Rule 13e-4(c ) under the\\\\n  Exchange Act ( 17 CFR 240.13e-4(c))\\\\n\\\\nIndicate by check mark whether the Registrant is an emerging growth company as\\\\ndefined in Rule 405 of the Securities Act of 1933 ( 230.405 of this chapter ) or\\\\nRule 12b-2 of the Securities Exchange Act of 1934 ( 240.12b-2 of this chapter).\\\\n\\\\n  Emerging Growth Company [  ] \\\\n\\\\nIf an emerging growth company , indicate by check mark if the Registrant has\\\\nelected not to use the extended transition period for complying with any new\\\\nor revised financial accounting standards provided pursuant to Section 13a of\\\\nthe Exchange Act . [  ] \\\\n\\\\n\\\\n < PAGE>\\\\n\\\\nItem 5.02  Departure  of  Directors  or  Certain  Officers ;  Election  of\\\\n  Directors ;  Appointment  of  Certain  Officers ;  Compensation\\\\n  Arrangements of Certain Officers\\\\n\\\\n  On May 31 , 2018 Frank  ( Philip ) Grey resigned as an officer and director\\\\nof  the  Company .  Mr.  Grey \\'s  resignation  was  not  the  result  of  any\\\\ndisagreements  with the  Company .  Mr. Grey will  consult  with the Company in\\\\nvarious areas , including capital formation and investor relations.\\\\n\\\\n < PAGE>\\\\n\\\\n  SIGNATURES\\\\n\\\\n  Pursuant to the  requirements  of the Securities  Exchange Act of 1934 , the\\\\nregistrant  caused  this  report to be signed on its behalf by the  undersigned,\\\\nthereunto duly authorized , on the 31st day of May , 2018.\\\\n\\\\n\\\\n  ADVANTEGO CORPORATION\\\\n\\\\n\\\\n  By : /s/ Robert W. Ferguson\\\\n  -----------------------------\\\\n  Robert W. Ferguson\\\\n  Chief Executive Officer\\\\n\\\\n\\\\n\\\\n\\\\n</TEXT>\\\\n</DOCUMENT>\\\\n</SEC - DOCUMENT>\\\\n \"'"
      ]
     },
     "execution_count": 34,
     "metadata": {},
     "output_type": "execute_result"
    }
   ],
   "source": [
    "' '.join([sent.string.strip() for sent in spacy_tok(review[0])])"
   ]
  },
  {
   "cell_type": "code",
   "execution_count": 46,
   "metadata": {},
   "outputs": [],
   "source": [
    "TEXT = data.Field(lower=True, tokenize=\"spacy\")"
   ]
  },
  {
   "cell_type": "code",
   "execution_count": 55,
   "metadata": {},
   "outputs": [],
   "source": [
    "bs=8; bptt=70"
   ]
  },
  {
   "cell_type": "code",
   "execution_count": 56,
   "metadata": {},
   "outputs": [],
   "source": [
    "FILES = dict(train=TRN_PATH, validation=VAL_PATH, test=VAL_PATH)\n",
    "md = LanguageModelData.from_text_files(PATH, TEXT, **FILES, bs=bs, bptt=bptt, min_freq=10)"
   ]
  },
  {
   "cell_type": "code",
   "execution_count": 57,
   "metadata": {},
   "outputs": [
    {
     "name": "stdout",
     "output_type": "stream",
     "text": [
      "mkdir: cannot create directory ‘data/language_model/models’: File exists\r\n"
     ]
    }
   ],
   "source": [
    "% rm data/language_model/models/TEXT.pkl\n",
    "% mkdir data/language_model/models\n",
    "pickle.dump(TEXT, open(f'{PATH}models/TEXT.pkl','wb'))"
   ]
  },
  {
   "cell_type": "markdown",
   "metadata": {},
   "source": [
    "The # batches; # unique tokens in the vocab; # tokens in the training set; # sentences"
   ]
  },
  {
   "cell_type": "code",
   "execution_count": 58,
   "metadata": {},
   "outputs": [
    {
     "data": {
      "text/plain": [
       "(85932, 57669, 1, 48122517)"
      ]
     },
     "execution_count": 58,
     "metadata": {},
     "output_type": "execute_result"
    }
   ],
   "source": [
    "len(md.trn_dl), md.nt, len(md.trn_ds), len(md.trn_ds[0].text)"
   ]
  },
  {
   "cell_type": "code",
   "execution_count": 59,
   "metadata": {},
   "outputs": [
    {
     "data": {
      "text/plain": [
       "['<unk>', '<pad>', '-', ':', '*', '_', '<', '%', '>', ',', '\"', '/']"
      ]
     },
     "execution_count": 59,
     "metadata": {},
     "output_type": "execute_result"
    }
   ],
   "source": [
    "TEXT.vocab.itos[:12]"
   ]
  },
  {
   "cell_type": "code",
   "execution_count": 60,
   "metadata": {},
   "outputs": [
    {
     "data": {
      "text/plain": [
       "4162"
      ]
     },
     "execution_count": 60,
     "metadata": {},
     "output_type": "execute_result"
    }
   ],
   "source": [
    "TEXT.vocab.stoi['attorney']"
   ]
  },
  {
   "cell_type": "code",
   "execution_count": 61,
   "metadata": {},
   "outputs": [],
   "source": [
    "em_sz = 200  # size of each embedding vector\n",
    "nh = 500     # number of hidden activations per layer\n",
    "nl = 3       # number of layers\n",
    "opt_fn = partial(optim.Adam, betas=(0.7, 0.99)) # Adam with less momentum"
   ]
  },
  {
   "cell_type": "code",
   "execution_count": 62,
   "metadata": {},
   "outputs": [
    {
     "data": {
      "application/vnd.jupyter.widget-view+json": {
       "model_id": "6e77d4c3a7eb4727961d1fd2799c022d",
       "version_major": 2,
       "version_minor": 0
      },
      "text/plain": [
       "HBox(children=(IntProgress(value=0, description='Epoch', max=15), HTML(value='')))"
      ]
     },
     "metadata": {},
     "output_type": "display_data"
    },
    {
     "name": "stdout",
     "output_type": "stream",
     "text": [
      "epoch      trn_loss   val_loss                                  \n",
      "    0      2.608248   2.624434  \n",
      "    1      2.134051   2.741595                                  \n",
      "    2      2.48611    2.511693                                  \n",
      "    3      2.374393   2.721114                                  \n",
      "    4      2.218454   2.682373                                  \n",
      "    5      2.111241   2.650925                                  \n",
      "    6      2.797106   2.494725                                  \n",
      "    7      2.093039   2.777062                                  \n",
      "    8      2.354067   2.732445                                  \n",
      "    9      2.121959   2.745906                                  \n",
      "    10     2.166346   2.696924                                  \n",
      "    11     2.106757   2.660498                                  \n",
      "    12     2.420785   2.634942                                  \n",
      "    13     2.27844    2.677652                                  \n",
      "    14     2.733559   2.454241                                  \n"
     ]
    },
    {
     "data": {
      "text/plain": [
       "[array([2.45424])]"
      ]
     },
     "execution_count": 62,
     "metadata": {},
     "output_type": "execute_result"
    }
   ],
   "source": [
    "learner = md.get_model(opt_fn, em_sz, nh, nl,\n",
    "               dropouti=0.05, dropout=0.05, wdrop=0.1, dropoute=0.02, dropouth=0.05)\n",
    "learner.reg_fn = partial(seq2seq_reg, alpha=2, beta=1)\n",
    "learner.clip=0.3\n",
    "learner.fit(3e-3, 4, wds=1e-6, cycle_len=1, cycle_mult=2)"
   ]
  },
  {
   "cell_type": "code",
   "execution_count": 65,
   "metadata": {},
   "outputs": [],
   "source": [
    "pickle.dump(TEXT, open(f'{PATH}models/TEXT.pkl','wb'))\n"
   ]
  },
  {
   "cell_type": "code",
   "execution_count": 63,
   "metadata": {},
   "outputs": [],
   "source": [
    "learner.save_encoder('adam1_enc')"
   ]
  },
  {
   "cell_type": "code",
   "execution_count": null,
   "metadata": {},
   "outputs": [],
   "source": [
    "learner.fit(3e-3, 1, wds=1e-6, cycle_len=10)"
   ]
  },
  {
   "cell_type": "code",
   "execution_count": null,
   "metadata": {},
   "outputs": [],
   "source": [
    "learner.save_encoder('adam3_10_enc')"
   ]
  },
  {
   "cell_type": "code",
   "execution_count": null,
   "metadata": {},
   "outputs": [],
   "source": [
    "learner.save_encoder('adam3_20_enc')"
   ]
  },
  {
   "cell_type": "code",
   "execution_count": null,
   "metadata": {},
   "outputs": [],
   "source": [
    "learner.load_encoder('adam3_20_enc')\n"
   ]
  },
  {
   "cell_type": "code",
   "execution_count": null,
   "metadata": {},
   "outputs": [],
   "source": []
  },
  {
   "cell_type": "code",
   "execution_count": null,
   "metadata": {},
   "outputs": [],
   "source": []
  },
  {
   "cell_type": "code",
   "execution_count": null,
   "metadata": {},
   "outputs": [],
   "source": []
  },
  {
   "cell_type": "code",
   "execution_count": null,
   "metadata": {},
   "outputs": [],
   "source": []
  },
  {
   "cell_type": "code",
   "execution_count": null,
   "metadata": {},
   "outputs": [],
   "source": []
  },
  {
   "cell_type": "code",
   "execution_count": null,
   "metadata": {},
   "outputs": [],
   "source": []
  },
  {
   "cell_type": "code",
   "execution_count": null,
   "metadata": {},
   "outputs": [],
   "source": []
  }
 ],
 "metadata": {
  "kernelspec": {
   "display_name": "Python (fastai)",
   "language": "python",
   "name": "fastai"
  },
  "language_info": {
   "codemirror_mode": {
    "name": "ipython",
    "version": 3
   },
   "file_extension": ".py",
   "mimetype": "text/x-python",
   "name": "python",
   "nbconvert_exporter": "python",
   "pygments_lexer": "ipython3",
   "version": "3.6.5"
  }
 },
 "nbformat": 4,
 "nbformat_minor": 2
}
