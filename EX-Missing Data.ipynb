{
 "cells": [
  {
   "cell_type": "code",
   "execution_count": 2,
   "metadata": {},
   "outputs": [],
   "source": [
    "import pandas as pd\n",
    "import numpy as np\n",
    "import time\n",
    "from tqdm import *\n",
    "\n",
    "from models.filing_text import FilingText\n",
    "from models.sls_web_httparty import SlsWebHTTParty\n",
    "from bs4 import BeautifulSoup as Soup\n",
    "\n",
    "        "
   ]
  },
  {
   "cell_type": "code",
   "execution_count": 3,
   "metadata": {},
   "outputs": [],
   "source": [
    "stops = [\n",
    "    'PLC',\n",
    "    'INC',\n",
    "    'CORP',\n",
    "    'LLC',\n",
    "    'LP',\n",
    "    'COS',\n",
    "    'LTD',\n",
    "    'CO',\n",
    "    'II'\n",
    "]\n",
    "\n",
    "# indices = ['cik', 'link', 'summary', 'title', 'updated']\n",
    "\n",
    "def preformat_title(cn):\n",
    "    for stop in stops:\n",
    "        cn = cn + \" \"\n",
    "        cn = cn.replace(f' .{stop} ', '')\n",
    "        cn = cn.replace(f' {stop}. ', '')\n",
    "        cn = cn.replace(f' {stop} ', '')\n",
    "    cn = cn.strip()\n",
    "    return cn.replace(\" \", \"%20\")\n",
    "\n",
    "def get_mw_soup(title):\n",
    "    url = f'https://www.marketwatch.com/tools/quotes/lookup.asp?siteID=mktw&Lookup={title}+&Country=us&Type=All'\n",
    "    res = SlsWebHTTParty().simple_get(url)\n",
    "    soup = Soup(res,'html.parser')\n",
    "    return soup\n",
    "\n",
    "def cik_title(val):\n",
    "    cik = val[0]\n",
    "    title = val[3]\n",
    "    return [cik, title.upper()]\n",
    "\n",
    "def get_mapping(soup, original_title, cn):\n",
    "    mw_titles = soup.find_all('td', {\"class\": \"bottomborder\"})\n",
    "    ts_mapping = {}\n",
    "    for i in range(len(mw_titles)):\n",
    "        use_title = True\n",
    "        if i%3 != 0:\n",
    "            continue \n",
    "        mw_title = soup.find_all('td', {\"class\": \"bottomborder\"})[i].a['title'].upper()\n",
    "        symbol = soup.find_all('td', {\"class\": \"bottomborder\"})[i].text\n",
    "        ts_mapping[original_title] = ts_mapping.get(original_title, [])\n",
    "        ts_mapping[original_title].append([mw_title, symbol])\n",
    "    return ts_mapping\n",
    "\n"
   ]
  },
  {
   "cell_type": "code",
   "execution_count": 4,
   "metadata": {},
   "outputs": [],
   "source": [
    "def get_mappings(df):\n",
    "    mappings = []\n",
    "    for val in tqdm(df.values):\n",
    "        record = {}\n",
    "        cik, original_title  = cik_title(val)\n",
    "        cn                   = preformat_title(original_title)\n",
    "        soup                 = get_mw_soup(cn)\n",
    "        mapping              = get_mapping(soup, original_title, cn)\n",
    "        mappings.append(mapping)\n",
    "    return mappings\n",
    "    "
   ]
  },
  {
   "cell_type": "code",
   "execution_count": 5,
   "metadata": {},
   "outputs": [],
   "source": [
    "def get_title_2_cik(df):\n",
    "    title_2_cik = {}\n",
    "    for val in tqdm(df.values):\n",
    "        record = {}\n",
    "        cik, original_title  = cik_title(val)\n",
    "        title_2_cik[original_title] = cik\n",
    "\n",
    "def get_records(mappings, title_2_cik):\n",
    "    records = []\n",
    "    for mapping in mappings:\n",
    "        use_title = True\n",
    "        record = {}\n",
    "        if mapping == {}:\n",
    "            continue \n",
    "        company_name = list(mapping.keys())[0].upper()\n",
    "        results = list(mapping.values())[0]\n",
    "        for suggested_name, suggested_ticker in results:\n",
    "            for word in suggested_name.upper().split(' '):\n",
    "                if word not in company_name:\n",
    "                    use_title = False\n",
    "            if use_title:\n",
    "                record['name']             = company_name\n",
    "                record['ticker_symbol']    = suggested_ticker\n",
    "                record['cik']              = title_2_cik[company_name]\n",
    "                record['marketwatch_name'] = suggested_name\n",
    "        if record == {}:\n",
    "            continue\n",
    "        records.append(record)\n",
    "    return records"
   ]
  },
  {
   "cell_type": "code",
   "execution_count": 6,
   "metadata": {},
   "outputs": [
    {
     "data": {
      "text/plain": [
       "1171"
      ]
     },
     "execution_count": 6,
     "metadata": {},
     "output_type": "execute_result"
    }
   ],
   "source": [
    "df = FilingText().missing_ticker_symbol_dates()\n",
    "title_2_cik = get_title_2_cik(df)\n",
    "mappings = get_mappings(df)\n",
    "\n",
    "records = get_records(mappings, title_2_cik)\n",
    "\n",
    "new_ctm_df = pd.DataFrame.from_records(records)\n",
    "ctm_df = pd.read_csv('company_ticker_mapping.csv')\n",
    "all_ctm = ctm_df.append(new_ctm_df)\n",
    "deduped_ctm = all_ctm.drop_duplicates(subset=['ticker_symbol'])\n",
    "\n",
    "new_count = len(deduped_ctm) - len(ctm_df)\n",
    "print(f'{new_count} new company tickers added to company_ticker_mapping.csv')\n",
    "\n",
    "deduped_ctm.to_csv('company_ticker_mapping.csv', index=False)\n"
   ]
  },
  {
   "cell_type": "code",
   "execution_count": null,
   "metadata": {},
   "outputs": [],
   "source": []
  }
 ],
 "metadata": {
  "kernelspec": {
   "display_name": "Python [conda env:sls_sec]",
   "language": "python",
   "name": "conda-env-sls_sec-py"
  },
  "language_info": {
   "codemirror_mode": {
    "name": "ipython",
    "version": 3
   },
   "file_extension": ".py",
   "mimetype": "text/x-python",
   "name": "python",
   "nbconvert_exporter": "python",
   "pygments_lexer": "ipython3",
   "version": "3.6.5"
  }
 },
 "nbformat": 4,
 "nbformat_minor": 2
}
