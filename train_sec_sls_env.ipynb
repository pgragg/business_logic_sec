{
 "cells": [
  {
   "cell_type": "code",
   "execution_count": 2,
   "metadata": {},
   "outputs": [
    {
     "name": "stderr",
     "output_type": "stream",
     "text": [
      "Using TensorFlow backend.\n"
     ]
    }
   ],
   "source": [
    "import tensorflow as tf \n",
    "import keras\n",
    "\n",
    "from sklearn.feature_extraction.text import TfidfVectorizer\n",
    "import glob\n",
    "import os \n",
    "import pandas as pd\n",
    "import datetime\n",
    "from scipy.stats import iqr\n",
    "import numpy as np\n",
    "\n",
    "from sklearn.pipeline import Pipeline\n",
    "from sklearn.naive_bayes import MultinomialNB\n",
    "from sklearn.ensemble import RandomForestRegressor\n",
    "from sklearn import metrics\n",
    "from sklearn.base import BaseEstimator, TransformerMixin\n",
    "from sklearn.model_selection import train_test_split\n",
    "\n",
    "from sklearn.pipeline import FeatureUnion\n",
    "from sklearn.preprocessing import StandardScaler\n",
    "from sklearn.preprocessing import Imputer as SimpleImputer\n",
    "# from sklearn.impute import SimpleImputer\n",
    "\n",
    "import matplotlib.pyplot as plt\n",
    "%matplotlib inline\n",
    "\n",
    "%load_ext autoreload\n",
    "\n",
    "%autoreload 2\n",
    "\n",
    "import math\n",
    "\n",
    "spm = None\n",
    "english_words = None\n",
    "excepted_stock_names = []\n",
    "limit = -1"
   ]
  },
  {
   "cell_type": "code",
   "execution_count": 3,
   "metadata": {},
   "outputs": [],
   "source": [
    "import keras\n",
    "from keras.layers import Dense, Dropout, RepeatVector, BatchNormalization, Convolution1D, Flatten, Lambda, Permute, MaxPooling1D, AlphaDropout\n",
    "from keras.models import Sequential\n",
    "from keras.utils import to_categorical\n",
    "import keras.backend as K\n",
    "from sklearn.model_selection import train_test_split\n",
    "from keras.models import load_model\n",
    "from tqdm import *"
   ]
  },
  {
   "cell_type": "code",
   "execution_count": 4,
   "metadata": {},
   "outputs": [
    {
     "name": "stdout",
     "output_type": "stream",
     "text": [
      "(3413, 50429)\n",
      "(3413,)\n"
     ]
    }
   ],
   "source": [
    "import pickle as pickle\n",
    "x_name = 'X_3413_p015_min_df_p5_max_df_1_7_ngram.p'\n",
    "y_name = 'y_3413.p'\n",
    "# pickle.dump(X, open( x_name, \"wb\" ))\n",
    "# pickle.dump(y, open( y_name, \"wb\" ))\n",
    "X = pickle.load(open(x_name, 'rb'))\n",
    "y = pickle.load(open(y_name, 'rb'))\n",
    "print(X.shape)\n",
    "print(y.shape)"
   ]
  },
  {
   "cell_type": "code",
   "execution_count": 5,
   "metadata": {},
   "outputs": [],
   "source": [
    "class DateRange():\n",
    "    def __init__(self, start_int, end_int):\n",
    "        self.start_int = start_int\n",
    "        self.end_int = end_int\n",
    "        self.range = (range(start_int, end_int))\n",
    "\n",
    "    def transform(self, date):\n",
    "        output = {}\n",
    "        dates = []\n",
    "        for delta in self.range:\n",
    "            date_delta = datetime.timedelta(days=delta)\n",
    "            date_string = datetime.datetime.strptime(date, '%Y-%m-%d').date()\n",
    "            dates.append(str(date_string + date_delta))\n",
    "        return dates"
   ]
  },
  {
   "cell_type": "code",
   "execution_count": 6,
   "metadata": {},
   "outputs": [],
   "source": [
    "class PriceData:\n",
    "    def __init__(self, stock_name):\n",
    "        self.stock_name = stock_name\n",
    "        try:\n",
    "            self.price_data = pd.read_csv('prices/' + stock_name + '.csv')\n",
    "        except:\n",
    "            self.price_data = pd.DataFrame.from_dict({})\n",
    "\n",
    "    def on_date(self, date, market_time = 'open'): \n",
    "        try:\n",
    "            return float(self.price_data.loc[self.price_data['date'] == date][market_time])\n",
    "        except: \n",
    "            return None"
   ]
  },
  {
   "cell_type": "code",
   "execution_count": 7,
   "metadata": {},
   "outputs": [],
   "source": [
    "class X_y_mapping():\n",
    "    def __init__(self, start_int, end_int):\n",
    "        self.filing_int = start_int * -1\n",
    "        self.start_int = start_int\n",
    "        self.end_int = end_int\n",
    "        self.range = (range(start_int, end_int))\n",
    "        \n",
    "    def __stock_name_from_filename(self, filename):\n",
    "        return filename.split('/')[-1]\n",
    "        \n",
    "    def transform(self):\n",
    "        stock_names = [self.__stock_name_from_filename(filename) for filename in glob.glob('proc_filing_texts/*')]\n",
    "        price_ranges = self.__get_price_ranges(stock_names)\n",
    "        X_y = {}\n",
    "        for stock_name in price_ranges.keys():\n",
    "            cp_ratio = self.__comparison_price_ratio(price_ranges, stock_name)\n",
    "            if cp_ratio and not math.isnan(cp_ratio):\n",
    "                X_y[stock_name] = cp_ratio\n",
    "        return X_y\n",
    "    \n",
    "    \n",
    "    def __get_price_ranges(self, stock_names):\n",
    "        h = {}\n",
    "        for i, stock_name in enumerate(stock_names):\n",
    "            try:\n",
    "                date = stock_name.split('_')[1]\n",
    "            except:\n",
    "                continue # Ignore stocks which don't have a date\n",
    "            dates = []\n",
    "            for delta in self.range:\n",
    "                date_delta = datetime.timedelta(days=delta)\n",
    "                date_string = datetime.datetime.strptime(date, '%Y-%m-%d').date()\n",
    "                dates.append(str(date_string + date_delta))\n",
    "            h[stock_name] = dates\n",
    "        return h\n",
    "    \n",
    "    def __comparison_price_ratio(self,h, stock_name_with_date):\n",
    "        earliest_price_after_filing = None\n",
    "        hist_p = []\n",
    "        stock_name = stock_name_with_date.split('_')[0]\n",
    "        for i, date in enumerate(h[stock_name_with_date]):\n",
    "            price = PriceData(stock_name).on_date(date, 'open')\n",
    "            if price and not math.isnan(price):\n",
    "                if i > self.filing_int:\n",
    "                    earliest_price_after_filing = earliest_price_after_filing or price\n",
    "                else:\n",
    "                    hist_p.append(price)\n",
    "        # Closing price on day of filing\n",
    "        price_close_filing = PriceData(stock_name).on_date(h[stock_name_with_date][self.filing_int], 'close')\n",
    "        # Use either the next open day of trading or the close price on day of filing\n",
    "        comparison_price = earliest_price_after_filing or price_close_filing\n",
    "        # Remove nans from historical prices before taking the mean\n",
    "        this_mean = np.mean(hist_p)\n",
    "        if comparison_price and this_mean:\n",
    "            return ((comparison_price-this_mean)/this_mean)\n",
    "        else:\n",
    "            return None"
   ]
  },
  {
   "cell_type": "code",
   "execution_count": 8,
   "metadata": {},
   "outputs": [
    {
     "name": "stderr",
     "output_type": "stream",
     "text": [
      "/home/piper/anaconda2/envs/sls_sec/lib/python3.6/site-packages/numpy/core/fromnumeric.py:2957: RuntimeWarning: Mean of empty slice.\n",
      "  out=out, **kwargs)\n",
      "/home/piper/anaconda2/envs/sls_sec/lib/python3.6/site-packages/numpy/core/_methods.py:80: RuntimeWarning: invalid value encountered in double_scalars\n",
      "  ret = ret.dtype.type(ret / rcount)\n"
     ]
    },
    {
     "data": {
      "text/plain": [
       "3413"
      ]
     },
     "execution_count": 8,
     "metadata": {},
     "output_type": "execute_result"
    }
   ],
   "source": [
    "spm = X_y_mapping(-3,4).transform()\n",
    "len(spm)"
   ]
  },
  {
   "cell_type": "code",
   "execution_count": 9,
   "metadata": {},
   "outputs": [],
   "source": [
    "# import operator\n",
    "# sorted(spm.items(), key=operator.itemgetter(1))"
   ]
  },
  {
   "cell_type": "code",
   "execution_count": 10,
   "metadata": {},
   "outputs": [],
   "source": [
    "class FilenamesToStockNamesTransformer(BaseEstimator, TransformerMixin):\n",
    "    def __init__(self):\n",
    "        return None\n",
    "    \n",
    "    def fit(self, X, y=None):\n",
    "        return self\n",
    "    \n",
    "    def fit_transform(self, X, y=None):\n",
    "        return self.fit(X, y).transform(X)\n",
    "        \n",
    "    def transform(self, X):\n",
    "        output = []\n",
    "        for filename in X:\n",
    "            stock_name = self.__stock_name_from_filename(filename)\n",
    "            output.append(stock_name)\n",
    "        return output\n",
    "    def __stock_name_from_filename(self, filename):\n",
    "        return filename.split('/')[-1].split('_')[0]"
   ]
  },
  {
   "cell_type": "code",
   "execution_count": 11,
   "metadata": {},
   "outputs": [],
   "source": [
    "## Used in y pipeline\n",
    "class SpmToFileNamesTransformer(BaseEstimator, TransformerMixin):\n",
    "    def __init__(self):\n",
    "        return None\n",
    "    \n",
    "    def fit(self, X, y=None):\n",
    "        return self\n",
    "    \n",
    "    def fit_transform(self, X, y=None):\n",
    "        return self.fit(X, y).transform(X)\n",
    "    def transform(self, X):\n",
    "        output = []\n",
    "        for key in X.keys():\n",
    "            output.append(f'proc_filing_texts/{key}')\n",
    "        return output\n",
    "    \n",
    "class SpmToStockNamesTransformer(BaseEstimator, TransformerMixin):\n",
    "    def __init__(self):\n",
    "        return None\n",
    "    \n",
    "    def fit(self, X, y=None):\n",
    "        return self\n",
    "    \n",
    "    def fit_transform(self, X, y=None):\n",
    "        return self.fit(X, y).transform(X)\n",
    "        \n",
    "    def transform(self, X):\n",
    "        return X.keys()\n",
    "    \n",
    "class StockNamesToFileNamesTransformer(BaseEstimator, TransformerMixin):\n",
    "    def __init__(self):\n",
    "        return None\n",
    "    \n",
    "    def fit(self, X, y=None):\n",
    "        return self\n",
    "    \n",
    "    def fit_transform(self, X, y=None):\n",
    "        return self.fit(X, y).transform(X)\n",
    "        \n",
    "    def transform(self, X):\n",
    "        return [f'filing_texts/{stock_name}' for stock_name in X]\n",
    "    \n",
    "class StatisticalMeasuresTransformer(BaseEstimator, TransformerMixin):\n",
    "    # Returns the interquartile-range and median.\n",
    "    def __init__(self):\n",
    "        return None\n",
    "        \n",
    "    def fit(self, X, y=None):\n",
    "        # ldcom = last_day_change_over_median\n",
    "        \n",
    "        output = []\n",
    "        self.iqr_var = []\n",
    "        self.median = []\n",
    "        for prices in X:\n",
    "            this_iqr = iqr(prices[0:-3])\n",
    "            this_median = np.median(prices[0:-3])\n",
    "            self.iqr_var.append(this_iqr)\n",
    "            self.median.append(this_median)\n",
    "        return self\n",
    "    \n",
    "    def fit_transform(self, X, y=None):\n",
    "        return self.fit(X, y).transform(X)\n",
    "        \n",
    "    def transform(self, X):\n",
    "        X_output = []\n",
    "        for i, prices in enumerate(X):\n",
    "            stats   = []\n",
    "            iqr_var = self.iqr_var[i] or iqr(prices)\n",
    "            median  = self.median[i]  or np.median(prices)\n",
    "            \n",
    "            stats.append(iqr_var)\n",
    "            stats.append(median)\n",
    "            \n",
    "            X_output.append(stats)\n",
    "        return np.array(X_output)\n",
    "class SparseToArray(BaseEstimator, TransformerMixin):\n",
    "    def __init__(self):\n",
    "        return None\n",
    "        \n",
    "    def fit(self, X, y=None):\n",
    "        return self\n",
    "    \n",
    "    def fit_transform(self, X, y=None):\n",
    "        return self.fit(X, y).transform(X)\n",
    "        \n",
    "    def transform(self, X):\n",
    "        return np.array(X.toarray()) #[ar.toarray() for ar in X]\n",
    "    \n",
    "class ReadFiles(BaseEstimator, TransformerMixin): \n",
    "    def __init__(self):\n",
    "        return None\n",
    "        \n",
    "    def fit(self, X, y=None):\n",
    "        return self\n",
    "    \n",
    "    def fit_transform(self, X, y=None):\n",
    "        return self.fit(X, y).transform(X)\n",
    "        \n",
    "    def transform(self, X):\n",
    "        return (open(filename, 'r').read() for filename in tqdm(X))\n",
    "            "
   ]
  },
  {
   "cell_type": "code",
   "execution_count": 12,
   "metadata": {},
   "outputs": [],
   "source": [
    "class SpmToContinuousLabelsTransformer(BaseEstimator, TransformerMixin): \n",
    "    def __init__(self):\n",
    "        return None\n",
    "        \n",
    "    def fit(self, X, y=None):\n",
    "        return self\n",
    "    \n",
    "    def fit_transform(self, X, y=None):\n",
    "        return self.fit(X, y).transform(X)\n",
    "        \n",
    "    def transform(self, X):\n",
    "        return np.array(list(X.values()))"
   ]
  },
  {
   "cell_type": "code",
   "execution_count": 13,
   "metadata": {},
   "outputs": [],
   "source": [
    "# Used to build other pipelines\n",
    "from sklearn.preprocessing import Imputer\n",
    "\n",
    "labels_pipeline = Pipeline([\n",
    "    ('dates_to_prices_transformer', SpmToContinuousLabelsTransformer())\n",
    "])\n",
    "\n",
    "text_word_counts = Pipeline([\n",
    "    ('spm_to_file_names', SpmToFileNamesTransformer()),\n",
    "    ('read_files', ReadFiles()),\n",
    "    ('vect', TfidfVectorizer(\n",
    "                token_pattern=r\"[a-zA-Z]+\", \n",
    "                min_df = 0.015,\n",
    "                max_df = 0.5,\n",
    "                stop_words = 'english',\n",
    "                ngram_range=(1, 7))),\n",
    "    ('sparse_to_array', SparseToArray()),\n",
    "    ('std_scaler', StandardScaler(with_mean=False)),\n",
    "])\n"
   ]
  },
  {
   "cell_type": "code",
   "execution_count": 14,
   "metadata": {},
   "outputs": [],
   "source": [
    "def load_x_y():\n",
    "    X = text_word_counts.fit_transform(spm)\n",
    "    y = labels_pipeline.fit_transform(spm)\n",
    "    print(X.shape)\n",
    "    print(y.shape)\n",
    "    return [X, y]"
   ]
  },
  {
   "cell_type": "code",
   "execution_count": 15,
   "metadata": {},
   "outputs": [
    {
     "name": "stdout",
     "output_type": "stream",
     "text": [
      "(3413, 50429)\n",
      "(3413,)\n"
     ]
    }
   ],
   "source": [
    "import pickle as pickle\n",
    "x_name = 'X_3413_p015_min_df_p5_max_df_1_7_ngram.p'\n",
    "y_name = 'y_3413.p'\n",
    "# pickle.dump(X, open( x_name, \"wb\" ))\n",
    "# pickle.dump(y, open( y_name, \"wb\" ))\n",
    "X = pickle.load(open(x_name, 'rb'))\n",
    "y = pickle.load(open(y_name, 'rb'))\n",
    "print(X.shape)\n",
    "print(y.shape)"
   ]
  },
  {
   "cell_type": "code",
   "execution_count": 16,
   "metadata": {},
   "outputs": [],
   "source": [
    "def get_weighted_return(prob_preds, threshold):\n",
    "    total = 0\n",
    "    amount_wagered = 0\n",
    "    bet_amount = 1\n",
    "    bets = 0\n",
    "    good_is = []\n",
    "    for i, confidence in enumerate(prob_preds):\n",
    "        if confidence >= threshold:\n",
    "            return_v = y_test_continuous[i]\n",
    "            good_is.append(i)\n",
    "#             print(f'{confidence} confidence, {return_v} return')\n",
    "            total += (bet_amount * confidence * return_v)\n",
    "            amount_wagered += bet_amount * confidence\n",
    "            bets += 1\n",
    "\n",
    "    if amount_wagered == 0:\n",
    "        print('No confident bets')\n",
    "    else:\n",
    "        av_return = total/float(amount_wagered)\n",
    "        print(f'{bets} bets, {total} return. {av_return} av return')\n",
    "        print(good_is)"
   ]
  },
  {
   "cell_type": "code",
   "execution_count": 17,
   "metadata": {},
   "outputs": [],
   "source": [
    "def get_unweighted_return(pred, threshold):\n",
    "    total = 0\n",
    "    amount_wagered = 0\n",
    "    bet_amount = 1\n",
    "    bets = 0\n",
    "    good_is = []\n",
    "    for i, confidence in enumerate(pred):\n",
    "        if confidence >= threshold:\n",
    "            return_v = y_test_continuous[i]\n",
    "            good_is.append(i)\n",
    "#             print(f'{confidence} confidence, {return_v} return')\n",
    "            total += (bet_amount * return_v)\n",
    "            amount_wagered += bet_amount\n",
    "            bets += 1\n",
    "\n",
    "    if amount_wagered == 0:\n",
    "        print('No confident bets')\n",
    "    else:\n",
    "        av_return = total/float(amount_wagered)\n",
    "        print(f'{bets} bets, {total} return. {av_return} av return')\n",
    "        print(good_is)"
   ]
  },
  {
   "cell_type": "code",
   "execution_count": 60,
   "metadata": {},
   "outputs": [],
   "source": [
    "ys = []\n",
    "for val in y:\n",
    "    if val <= 0.5:\n",
    "        ys.append(val)\n",
    "    else:\n",
    "        ys.append(0)\n",
    "y = ys\n",
    "\n",
    "X_train, X_test, y_train_continuous, y_test_continuous = train_test_split(X, y, test_size=0.2)\n",
    "def bool_arr(arr, limit=0.5):\n",
    "    y_bool = []\n",
    "    for num in arr:\n",
    "        if num >= limit:\n",
    "            y_bool.append(1)\n",
    "        else:\n",
    "            y_bool.append(0)\n",
    "    return np.array(y_bool)\n",
    "\n",
    "y_train = bool_arr(y_train_continuous, 0.00)\n",
    "y_test = bool_arr(y_test_continuous, 0.00)"
   ]
  },
  {
   "cell_type": "code",
   "execution_count": 61,
   "metadata": {},
   "outputs": [
    {
     "data": {
      "text/plain": [
       "[<matplotlib.lines.Line2D at 0x7fd4298bba58>]"
      ]
     },
     "execution_count": 61,
     "metadata": {},
     "output_type": "execute_result"
    },
    {
     "data": {
      "image/png": "[encoded data removed]",
      "text/plain": [
       "<Figure size 432x288 with 1 Axes>"
      ]
     },
     "metadata": {},
     "output_type": "display_data"
    }
   ],
   "source": [
    "v = y_train_continuous\n",
    "v.sort()\n",
    "plt.plot(v)"
   ]
  },
  {
   "cell_type": "markdown",
   "metadata": {},
   "source": [
    "## Support Vector Classifier"
   ]
  },
  {
   "cell_type": "code",
   "execution_count": 62,
   "metadata": {},
   "outputs": [
    {
     "name": "stdout",
     "output_type": "stream",
     "text": [
      "0.48462664714494874\n"
     ]
    }
   ],
   "source": [
    "from sklearn.feature_selection import SelectFpr\n",
    "from sklearn.svm import SVC\n",
    "from sklearn.model_selection import RandomizedSearchCV, cross_val_score\n",
    "import tensorflow as tf\n",
    "\n",
    "from sklearn.svm import LinearSVC\n",
    "lin_svc_train_pipeline = Pipeline([\n",
    "    ('reduce_false_pos', SelectFpr(alpha=0.5)),\n",
    "    ('svc', LinearSVC(\n",
    "        class_weight='balanced'))\n",
    "     ])\n",
    "\n",
    "# svc_train_pipeline = Pipeline([\n",
    "#     ('reduce_false_pos', SelectFpr(alpha=0.5)),\n",
    "#     ('svc', SVC( \n",
    "#             gamma='auto', \n",
    "#             kernel='sigmoid',\n",
    "#             probability=False,\n",
    "#             class_weight='balanced')\n",
    "#         )\n",
    "#     ])\n",
    "\n",
    "lin_svc_train_pipeline.fit(X_train, y_train)\n",
    "print(lin_svc_train_pipeline.score(X_test, y_test))\n",
    "svc_prob_preds = lin_svc_train_pipeline.decision_function(X_test)"
   ]
  },
  {
   "cell_type": "markdown",
   "metadata": {},
   "source": [
    "### Voting Classifier"
   ]
  },
  {
   "cell_type": "code",
   "execution_count": 63,
   "metadata": {},
   "outputs": [
    {
     "data": {
      "text/plain": [
       "PCA(copy=True, iterated_power='auto', n_components=None, random_state=None,\n",
       "  svd_solver='auto', tol=0.0, whiten=False)"
      ]
     },
     "execution_count": 63,
     "metadata": {},
     "output_type": "execute_result"
    }
   ],
   "source": [
    "from sklearn.decomposition import PCA\n",
    "pca = PCA()\n",
    "pca.fit(X_train)"
   ]
  },
  {
   "cell_type": "code",
   "execution_count": 64,
   "metadata": {},
   "outputs": [
    {
     "data": {
      "text/plain": [
       "array([2.11378947e+03, 9.16755441e+02, 7.56607773e+02, ...,\n",
       "       9.89142878e-31, 8.27842393e-31, 5.97256964e-31])"
      ]
     },
     "execution_count": 64,
     "metadata": {},
     "output_type": "execute_result"
    }
   ],
   "source": [
    "pca.explained_variance_"
   ]
  },
  {
   "cell_type": "code",
   "execution_count": 65,
   "metadata": {},
   "outputs": [],
   "source": [
    "from sklearn.decomposition import PCA\n",
    "pca = PCA()\n",
    "pca.fit(X_train)\n",
    "X_train_pca = pca.transform(X_train)"
   ]
  },
  {
   "cell_type": "code",
   "execution_count": 70,
   "metadata": {},
   "outputs": [
    {
     "name": "stdout",
     "output_type": "stream",
     "text": [
      "[LibSVM][LibSVM]"
     ]
    },
    {
     "name": "stderr",
     "output_type": "stream",
     "text": [
      "[Parallel(n_jobs=-1)]: Done  10 out of  10 | elapsed:    0.1s finished\n"
     ]
    },
    {
     "data": {
      "text/plain": [
       "VotingClassifier(estimators=[('l_svc', SVC(C=1.0, cache_size=200, class_weight='balanced', coef0=0.0,\n",
       "  decision_function_shape='ovr', degree=3, gamma='auto', kernel='linear',\n",
       "  max_iter=-1, probability=True, random_state=None, shrinking=True,\n",
       "  tol=0.001, verbose=1)), ('s_svc', SVC(C=1.0, cache_size=200, class_weig..._jobs=-1,\n",
       "            oob_score=False, random_state=None, verbose=1,\n",
       "            warm_start=False))],\n",
       "         flatten_transform=None, n_jobs=1, voting='soft', weights=None)"
      ]
     },
     "execution_count": 70,
     "metadata": {},
     "output_type": "execute_result"
    }
   ],
   "source": [
    "from sklearn.ensemble import VotingClassifier\n",
    "from sklearn.svm import LinearSVC\n",
    "from sklearn.svm import SVC\n",
    "from sklearn.ensemble import RandomForestClassifier\n",
    "\n",
    "s_svc = SVC(\n",
    "        gamma='auto', \n",
    "        kernel='poly',\n",
    "        probability=True,\n",
    "        class_weight='balanced',\n",
    "        verbose=1)\n",
    "\n",
    "l_svc = SVC(\n",
    "        gamma='auto', \n",
    "        kernel='linear',\n",
    "        probability=True,\n",
    "        class_weight='balanced',\n",
    "        verbose=1)\n",
    "\n",
    "rfc = RandomForestClassifier(\n",
    "    min_weight_fraction_leaf=0.02,\n",
    "    n_jobs=-1,\n",
    "    verbose=1\n",
    ")    \n",
    "\n",
    "vc = VotingClassifier(\n",
    "    [   ('l_svc', l_svc),\n",
    "        ('s_svc', s_svc),\n",
    "        ('rfc', rfc)\n",
    "    ],\n",
    "    voting='soft'\n",
    ")\n",
    "vc.fit(X_train_pca, y_train)\n"
   ]
  },
  {
   "cell_type": "code",
   "execution_count": 71,
   "metadata": {},
   "outputs": [
    {
     "name": "stderr",
     "output_type": "stream",
     "text": [
      "[Parallel(n_jobs=10)]: Done   2 out of  10 | elapsed:    0.0s remaining:    0.0s\n",
      "[Parallel(n_jobs=10)]: Done  10 out of  10 | elapsed:    0.0s finished\n"
     ]
    }
   ],
   "source": [
    "X_test_pca = pca.transform(X_test)\n",
    "preds = vc.predict_proba(X_test_pca)[:, 1]"
   ]
  },
  {
   "cell_type": "code",
   "execution_count": 72,
   "metadata": {},
   "outputs": [
    {
     "name": "stderr",
     "output_type": "stream",
     "text": [
      "[Parallel(n_jobs=10)]: Done   2 out of  10 | elapsed:    0.0s remaining:    0.0s\n",
      "[Parallel(n_jobs=10)]: Done  10 out of  10 | elapsed:    0.0s finished\n",
      "/home/piper/anaconda2/envs/sls_sec/lib/python3.6/site-packages/sklearn/preprocessing/label.py:151: DeprecationWarning: The truth value of an empty array is ambiguous. Returning False, but in future this will result in an error. Use `array.size > 0` to check that an array is not empty.\n",
      "  if diff:\n"
     ]
    },
    {
     "data": {
      "text/plain": [
       "0.7860805860805861"
      ]
     },
     "execution_count": 72,
     "metadata": {},
     "output_type": "execute_result"
    }
   ],
   "source": [
    "vc.score(X_train_pca, y_train)"
   ]
  },
  {
   "cell_type": "code",
   "execution_count": 73,
   "metadata": {},
   "outputs": [
    {
     "name": "stderr",
     "output_type": "stream",
     "text": [
      "[Parallel(n_jobs=10)]: Done   2 out of  10 | elapsed:    0.0s remaining:    0.0s\n",
      "[Parallel(n_jobs=10)]: Done  10 out of  10 | elapsed:    0.0s finished\n",
      "/home/piper/anaconda2/envs/sls_sec/lib/python3.6/site-packages/sklearn/preprocessing/label.py:151: DeprecationWarning: The truth value of an empty array is ambiguous. Returning False, but in future this will result in an error. Use `array.size > 0` to check that an array is not empty.\n",
      "  if diff:\n"
     ]
    },
    {
     "data": {
      "text/plain": [
       "0.4699853587115666"
      ]
     },
     "execution_count": 73,
     "metadata": {},
     "output_type": "execute_result"
    }
   ],
   "source": [
    "vc.score(X_test_pca, y_test)"
   ]
  },
  {
   "cell_type": "code",
   "execution_count": 147,
   "metadata": {},
   "outputs": [
    {
     "name": "stderr",
     "output_type": "stream",
     "text": [
      "[Parallel(n_jobs=10)]: Done   2 out of  10 | elapsed:    0.0s remaining:    0.0s\n",
      "[Parallel(n_jobs=10)]: Done  10 out of  10 | elapsed:    0.0s finished\n",
      "  0%|          | 0/10 [00:00<?, ?it/s]\n"
     ]
    },
    {
     "ename": "ValueError",
     "evalue": "cannot reshape array of size 682 into shape (683,)",
     "output_type": "error",
     "traceback": [
      "\u001b[0;31m---------------------------------------------------------------------------\u001b[0m",
      "\u001b[0;31mValueError\u001b[0m                                Traceback (most recent call last)",
      "\u001b[0;32m<ipython-input-147-853b8bd84e2a>\u001b[0m in \u001b[0;36m<module>\u001b[0;34m()\u001b[0m\n\u001b[1;32m      6\u001b[0m \u001b[0;34m\u001b[0m\u001b[0m\n\u001b[1;32m      7\u001b[0m \u001b[0mpreds\u001b[0m \u001b[0;34m=\u001b[0m \u001b[0mvc\u001b[0m\u001b[0;34m.\u001b[0m\u001b[0mpredict_proba\u001b[0m\u001b[0;34m(\u001b[0m\u001b[0mX_test_pca\u001b[0m\u001b[0;34m[\u001b[0m\u001b[0;34m:\u001b[0m\u001b[0mnum\u001b[0m\u001b[0;34m]\u001b[0m\u001b[0;34m)\u001b[0m\u001b[0;34m[\u001b[0m\u001b[0;34m:\u001b[0m\u001b[0;34m,\u001b[0m \u001b[0;36m1\u001b[0m\u001b[0;34m]\u001b[0m\u001b[0;34m\u001b[0m\u001b[0m\n\u001b[0;32m----> 8\u001b[0;31m \u001b[0mPlotter\u001b[0m\u001b[0;34m(\u001b[0m\u001b[0mpreds\u001b[0m\u001b[0;34m)\u001b[0m\u001b[0;34m.\u001b[0m\u001b[0mplot_score\u001b[0m\u001b[0;34m(\u001b[0m\u001b[0mnp\u001b[0m\u001b[0;34m.\u001b[0m\u001b[0marray\u001b[0m\u001b[0;34m(\u001b[0m\u001b[0my_test_continuous\u001b[0m\u001b[0;34m)\u001b[0m\u001b[0;34m)\u001b[0m\u001b[0;34m\u001b[0m\u001b[0m\n\u001b[0m",
      "\u001b[0;32m~/Desktop/sls_sec/all/utilities/plotter.py\u001b[0m in \u001b[0;36mplot_score\u001b[0;34m(self, y, num)\u001b[0m\n\u001b[1;32m     17\u001b[0m \u001b[0;34m\u001b[0m\u001b[0m\n\u001b[1;32m     18\u001b[0m         \u001b[0;32mfor\u001b[0m \u001b[0mthreshold\u001b[0m \u001b[0;32min\u001b[0m \u001b[0mtqdm\u001b[0m\u001b[0;34m(\u001b[0m\u001b[0mnp\u001b[0m\u001b[0;34m.\u001b[0m\u001b[0mlinspace\u001b[0m\u001b[0;34m(\u001b[0m\u001b[0mself\u001b[0m\u001b[0;34m.\u001b[0m\u001b[0my_pred\u001b[0m\u001b[0;34m.\u001b[0m\u001b[0mmin\u001b[0m\u001b[0;34m(\u001b[0m\u001b[0;34m)\u001b[0m\u001b[0;34m,\u001b[0m \u001b[0mself\u001b[0m\u001b[0;34m.\u001b[0m\u001b[0my_pred\u001b[0m\u001b[0;34m.\u001b[0m\u001b[0mmax\u001b[0m\u001b[0;34m(\u001b[0m\u001b[0;34m)\u001b[0m\u001b[0;34m,\u001b[0m \u001b[0mnum\u001b[0m\u001b[0;34m)\u001b[0m\u001b[0;34m)\u001b[0m\u001b[0;34m:\u001b[0m\u001b[0;34m\u001b[0m\u001b[0m\n\u001b[0;32m---> 19\u001b[0;31m             \u001b[0msc\u001b[0m \u001b[0;34m=\u001b[0m \u001b[0mself\u001b[0m\u001b[0;34m.\u001b[0m\u001b[0mscore\u001b[0m\u001b[0;34m(\u001b[0m\u001b[0my\u001b[0m\u001b[0;34m,\u001b[0m \u001b[0mthreshold\u001b[0m\u001b[0;34m)\u001b[0m\u001b[0;34m\u001b[0m\u001b[0m\n\u001b[0m\u001b[1;32m     20\u001b[0m             \u001b[0mbuy_rec_ys\u001b[0m\u001b[0;34m.\u001b[0m\u001b[0mappend\u001b[0m\u001b[0;34m(\u001b[0m\u001b[0msc\u001b[0m\u001b[0;34m[\u001b[0m\u001b[0;36m0\u001b[0m\u001b[0;34m]\u001b[0m\u001b[0;34m)\u001b[0m\u001b[0;34m\u001b[0m\u001b[0m\n\u001b[1;32m     21\u001b[0m             \u001b[0mbuy_all_ys\u001b[0m\u001b[0;34m.\u001b[0m\u001b[0mappend\u001b[0m\u001b[0;34m(\u001b[0m\u001b[0msc\u001b[0m\u001b[0;34m[\u001b[0m\u001b[0;36m1\u001b[0m\u001b[0;34m]\u001b[0m\u001b[0;34m)\u001b[0m\u001b[0;34m\u001b[0m\u001b[0m\n",
      "\u001b[0;32m~/Desktop/sls_sec/all/utilities/plotter.py\u001b[0m in \u001b[0;36mscore\u001b[0;34m(self, y, cutoff)\u001b[0m\n\u001b[1;32m     39\u001b[0m         \u001b[0my_pred_bool\u001b[0m \u001b[0;34m=\u001b[0m \u001b[0mUtility\u001b[0m\u001b[0;34m(\u001b[0m\u001b[0;34m)\u001b[0m\u001b[0;34m.\u001b[0m\u001b[0mbool_arr\u001b[0m\u001b[0;34m(\u001b[0m\u001b[0my_pred\u001b[0m\u001b[0;34m,\u001b[0m \u001b[0mcutoff\u001b[0m\u001b[0;34m)\u001b[0m\u001b[0;34m\u001b[0m\u001b[0m\n\u001b[1;32m     40\u001b[0m \u001b[0;34m\u001b[0m\u001b[0m\n\u001b[0;32m---> 41\u001b[0;31m         \u001b[0mconfidence_weighted\u001b[0m    \u001b[0;34m=\u001b[0m \u001b[0mnp\u001b[0m\u001b[0;34m.\u001b[0m\u001b[0mdot\u001b[0m\u001b[0;34m(\u001b[0m\u001b[0my_pred\u001b[0m\u001b[0;34m.\u001b[0m\u001b[0mreshape\u001b[0m\u001b[0;34m(\u001b[0m\u001b[0my\u001b[0m\u001b[0;34m.\u001b[0m\u001b[0mshape\u001b[0m\u001b[0;34m)\u001b[0m\u001b[0;34m,\u001b[0m \u001b[0my\u001b[0m\u001b[0;34m)\u001b[0m\u001b[0;34m\u001b[0m\u001b[0m\n\u001b[0m\u001b[1;32m     42\u001b[0m         \u001b[0mbuy_rec\u001b[0m                \u001b[0;34m=\u001b[0m \u001b[0mnp\u001b[0m\u001b[0;34m.\u001b[0m\u001b[0mdot\u001b[0m\u001b[0;34m(\u001b[0m\u001b[0my_pred_bool\u001b[0m\u001b[0;34m.\u001b[0m\u001b[0mreshape\u001b[0m\u001b[0;34m(\u001b[0m\u001b[0my\u001b[0m\u001b[0;34m.\u001b[0m\u001b[0mshape\u001b[0m\u001b[0;34m)\u001b[0m\u001b[0;34m,\u001b[0m \u001b[0my\u001b[0m\u001b[0;34m)\u001b[0m\u001b[0;34m\u001b[0m\u001b[0m\n\u001b[1;32m     43\u001b[0m         \u001b[0mbuy_all\u001b[0m                \u001b[0;34m=\u001b[0m \u001b[0mnp\u001b[0m\u001b[0;34m.\u001b[0m\u001b[0mdot\u001b[0m\u001b[0;34m(\u001b[0m\u001b[0mnp\u001b[0m\u001b[0;34m.\u001b[0m\u001b[0mones\u001b[0m\u001b[0;34m(\u001b[0m\u001b[0my\u001b[0m\u001b[0;34m.\u001b[0m\u001b[0mshape\u001b[0m\u001b[0;34m[\u001b[0m\u001b[0;36m0\u001b[0m\u001b[0;34m]\u001b[0m\u001b[0;34m)\u001b[0m\u001b[0;34m,\u001b[0m \u001b[0my\u001b[0m\u001b[0;34m)\u001b[0m\u001b[0;34m\u001b[0m\u001b[0m\n",
      "\u001b[0;31mValueError\u001b[0m: cannot reshape array of size 682 into shape (683,)"
     ]
    }
   ],
   "source": [
    "from utilities.plotter import Plotter\n",
    "\n",
    "num = -1\n",
    "\n",
    "# Plotter().plot_score(vc, X_test_pca[:num], y_test[:num])\n",
    "\n",
    "preds = vc.predict_proba(X_test_pca[:num])[:, 1]\n",
    "Plotter(preds).plot_score(np.array(y_test_continuous))"
   ]
  },
  {
   "cell_type": "code",
   "execution_count": null,
   "metadata": {},
   "outputs": [],
   "source": [
    "preds = vc.predict_proba(X_train_pca[:num])[:, 1]\n",
    "Plotter(preds).plot_score(np.array(y_train_continuous))"
   ]
  },
  {
   "cell_type": "code",
   "execution_count": null,
   "metadata": {},
   "outputs": [],
   "source": []
  },
  {
   "cell_type": "code",
   "execution_count": null,
   "metadata": {},
   "outputs": [],
   "source": []
  },
  {
   "cell_type": "markdown",
   "metadata": {},
   "source": [
    "## Support Vector Regressor"
   ]
  },
  {
   "cell_type": "code",
   "execution_count": 422,
   "metadata": {},
   "outputs": [
    {
     "name": "stdout",
     "output_type": "stream",
     "text": [
      "-0.4933139542581251\n"
     ]
    }
   ],
   "source": [
    "from sklearn.feature_selection import SelectFpr\n",
    "from sklearn.svm import SVR\n",
    "from sklearn.model_selection import RandomizedSearchCV, cross_val_score\n",
    "import tensorflow as tf\n",
    "\n",
    "\n",
    "param_distributions = dict(C=np.logspace(-1,1,num=10))\n",
    "\n",
    "svr_train_pipeline = Pipeline([\n",
    "    ('svc', RandomizedSearchCV(estimator=SVR(\n",
    "        gamma='auto', \n",
    "        kernel='rbf'), \n",
    "        scoring='neg_mean_absolute_error',\n",
    "        param_distributions=param_distributions))\n",
    "     ])\n",
    "svr_train_pipeline.fit(X_train, y_train_continuous)\n",
    "print(svr_train_pipeline.score(X_test, y_test))"
   ]
  },
  {
   "cell_type": "code",
   "execution_count": 423,
   "metadata": {},
   "outputs": [
    {
     "name": "stdout",
     "output_type": "stream",
     "text": [
      "20 bets, 0.5321300286398862 return. 0.026606501431994313 av return\n",
      "[2, 3, 10, 19, 28, 30, 37, 42, 43, 49, 53, 58, 62, 67, 70, 75, 76, 89, 96, 98]\n",
      "20 bets, 0.5321300286398862 return. 0.026606501431994313 av return\n",
      "[2, 3, 10, 19, 28, 30, 37, 42, 43, 49, 53, 58, 62, 67, 70, 75, 76, 89, 96, 98]\n"
     ]
    }
   ],
   "source": [
    "svc_prob_preds = svc_train_pipeline.predict(X_test)\n",
    "get_weighted_return(svc_prob_preds, 0.03)\n",
    "get_unweighted_return(svc_prob_preds, 0.03)"
   ]
  },
  {
   "cell_type": "code",
   "execution_count": 434,
   "metadata": {},
   "outputs": [
    {
     "name": "stdout",
     "output_type": "stream",
     "text": [
      "8 bets, 0.00398947972416052 return. 0.023264985931279722 av return\n",
      "[12, 19, 31, 49, 70, 71, 89, 90]\n",
      "8 bets, 0.18362775323697944 return. 0.02295346915462243 av return\n",
      "[12, 19, 31, 49, 70, 71, 89, 90]\n"
     ]
    }
   ],
   "source": [
    "svr_prob_preds = svr_train_pipeline.predict(X_test)\n",
    "get_weighted_return(svr_prob_preds, 0.021)\n",
    "get_unweighted_return(svr_prob_preds, 0.021)"
   ]
  },
  {
   "cell_type": "code",
   "execution_count": null,
   "metadata": {},
   "outputs": [],
   "source": [
    "a = svr_train_pipeline.predict(X_test)\n",
    "a.sort()\n",
    "plt.plot(a)"
   ]
  },
  {
   "cell_type": "code",
   "execution_count": null,
   "metadata": {},
   "outputs": [],
   "source": [
    "a = svc_train_pipeline.predict_proba(X_test)\n",
    "a.sort()\n",
    "plt.plot(a)"
   ]
  },
  {
   "cell_type": "code",
   "execution_count": null,
   "metadata": {},
   "outputs": [],
   "source": [
    "ya = y_train_continuous\n",
    "ya.sort()\n",
    "plt.plot(ya)"
   ]
  },
  {
   "cell_type": "code",
   "execution_count": null,
   "metadata": {},
   "outputs": [],
   "source": [
    "% matplotlib inline\n",
    "pred = svc_train_pipeline.predict_proba(X_test)[:, 1]\n",
    "plt.hist(pred, bins=100, range=(0,1))\n",
    "None"
   ]
  },
  {
   "cell_type": "code",
   "execution_count": 296,
   "metadata": {},
   "outputs": [
    {
     "data": {
      "text/plain": [
       "0.013314499907574611"
      ]
     },
     "execution_count": 296,
     "metadata": {},
     "output_type": "execute_result"
    }
   ],
   "source": [
    "np.sum(y_test_continuous)/len(y_test_continuous)"
   ]
  },
  {
   "cell_type": "markdown",
   "metadata": {},
   "source": [
    "## What are the returns given by this model over a range of confidence level cutoffs?"
   ]
  },
  {
   "cell_type": "code",
   "execution_count": 102,
   "metadata": {},
   "outputs": [
    {
     "ename": "NameError",
     "evalue": "name 'svc_train_pipeline' is not defined",
     "output_type": "error",
     "traceback": [
      "\u001b[0;31m---------------------------------------------------------------------------\u001b[0m",
      "\u001b[0;31mNameError\u001b[0m                                 Traceback (most recent call last)",
      "\u001b[0;32m<ipython-input-102-2b5a237e0250>\u001b[0m in \u001b[0;36m<module>\u001b[0;34m()\u001b[0m\n\u001b[1;32m      1\u001b[0m \u001b[0mnum\u001b[0m \u001b[0;34m=\u001b[0m \u001b[0;36m10\u001b[0m\u001b[0;34m\u001b[0m\u001b[0m\n\u001b[0;32m----> 2\u001b[0;31m \u001b[0mPlotter\u001b[0m\u001b[0;34m(\u001b[0m\u001b[0;34m)\u001b[0m\u001b[0;34m.\u001b[0m\u001b[0mplot_score\u001b[0m\u001b[0;34m(\u001b[0m\u001b[0msvc_train_pipeline\u001b[0m\u001b[0;34m,\u001b[0m \u001b[0mX_test\u001b[0m\u001b[0;34m[\u001b[0m\u001b[0;34m:\u001b[0m\u001b[0mnum\u001b[0m\u001b[0;34m]\u001b[0m\u001b[0;34m,\u001b[0m \u001b[0my_test\u001b[0m\u001b[0;34m[\u001b[0m\u001b[0;34m:\u001b[0m\u001b[0mnum\u001b[0m\u001b[0;34m]\u001b[0m\u001b[0;34m)\u001b[0m\u001b[0;34m\u001b[0m\u001b[0m\n\u001b[0m",
      "\u001b[0;31mNameError\u001b[0m: name 'svc_train_pipeline' is not defined"
     ]
    }
   ],
   "source": [
    "num = 10\n",
    "Plotter().plot_score(svc_train_pipeline, X_test[:num], y_test[:num])"
   ]
  },
  {
   "cell_type": "code",
   "execution_count": 103,
   "metadata": {},
   "outputs": [],
   "source": [
    "from keras import regularizers\n",
    "from sklearn.metrics import confusion_matrix"
   ]
  },
  {
   "cell_type": "code",
   "execution_count": null,
   "metadata": {},
   "outputs": [
    {
     "name": "stdout",
     "output_type": "stream",
     "text": [
      "Train on 2730 samples, validate on 683 samples\n",
      "Epoch 1/2\n",
      "2730/2730 [==============================] - 2s 882us/step - loss: 0.3465 - acc: 0.5037 - val_loss: 0.6961 - val_acc: 0.4963\n",
      "Epoch 2/2\n",
      "2730/2730 [==============================] - 1s 269us/step - loss: 0.3474 - acc: 0.4872 - val_loss: 0.6967 - val_acc: 0.5066\n",
      "Train on 2730 samples, validate on 683 samples\n",
      "Epoch 1/20\n",
      "2730/2730 [==============================] - 1s 266us/step - loss: 0.3475 - acc: 0.4952 - val_loss: 0.6966 - val_acc: 0.5037\n",
      "Epoch 2/20\n",
      "2730/2730 [==============================] - 1s 267us/step - loss: 0.3427 - acc: 0.5264 - val_loss: 0.6965 - val_acc: 0.5066\n",
      "Epoch 3/20\n",
      "2730/2730 [==============================] - 1s 270us/step - loss: 0.3433 - acc: 0.5059 - val_loss: 0.6961 - val_acc: 0.5037\n",
      "Epoch 4/20\n",
      "2730/2730 [==============================] - 1s 269us/step - loss: 0.3429 - acc: 0.5223 - val_loss: 0.6961 - val_acc: 0.5051\n",
      "Epoch 5/20\n",
      "2730/2730 [==============================] - 1s 276us/step - loss: 0.3442 - acc: 0.5278 - val_loss: 0.6958 - val_acc: 0.5051\n",
      "Epoch 6/20\n",
      "2730/2730 [==============================] - 1s 268us/step - loss: 0.3420 - acc: 0.5304 - val_loss: 0.6957 - val_acc: 0.5095\n",
      "Epoch 7/20\n",
      "2730/2730 [==============================] - 1s 269us/step - loss: 0.3415 - acc: 0.5432 - val_loss: 0.6956 - val_acc: 0.5154\n",
      "Epoch 8/20\n",
      "2730/2730 [==============================] - 1s 269us/step - loss: 0.3391 - acc: 0.5388 - val_loss: 0.6956 - val_acc: 0.5139\n",
      "Epoch 9/20\n",
      "2730/2730 [==============================] - 1s 269us/step - loss: 0.3413 - acc: 0.5234 - val_loss: 0.6956 - val_acc: 0.5154\n",
      "Epoch 10/20\n",
      "2730/2730 [==============================] - 1s 271us/step - loss: 0.3385 - acc: 0.5487 - val_loss: 0.6955 - val_acc: 0.5198\n",
      "Epoch 11/20\n",
      "2730/2730 [==============================] - 1s 270us/step - loss: 0.3394 - acc: 0.5429 - val_loss: 0.6956 - val_acc: 0.5139\n",
      "Epoch 12/20\n",
      "2730/2730 [==============================] - 1s 271us/step - loss: 0.3395 - acc: 0.5304 - val_loss: 0.6956 - val_acc: 0.5095\n",
      "Epoch 13/20\n",
      "2730/2730 [==============================] - 1s 269us/step - loss: 0.3352 - acc: 0.5615 - val_loss: 0.6956 - val_acc: 0.5095\n",
      "Epoch 14/20\n",
      "2730/2730 [==============================] - 1s 269us/step - loss: 0.3373 - acc: 0.5385 - val_loss: 0.6955 - val_acc: 0.5095\n",
      "Epoch 15/20\n",
      "2730/2730 [==============================] - 1s 270us/step - loss: 0.3329 - acc: 0.5641 - val_loss: 0.6955 - val_acc: 0.5139\n",
      "Epoch 16/20\n",
      "2730/2730 [==============================] - 1s 268us/step - loss: 0.3360 - acc: 0.5531 - val_loss: 0.6955 - val_acc: 0.5139\n",
      "Epoch 17/20\n",
      "2730/2730 [==============================] - 1s 268us/step - loss: 0.3338 - acc: 0.5667 - val_loss: 0.6955 - val_acc: 0.5110\n",
      "Epoch 18/20\n",
      "2730/2730 [==============================] - 1s 270us/step - loss: 0.3296 - acc: 0.5835 - val_loss: 0.6955 - val_acc: 0.5124\n",
      "Epoch 19/20\n",
      "2730/2730 [==============================] - 1s 272us/step - loss: 0.3298 - acc: 0.5795 - val_loss: 0.6955 - val_acc: 0.5139\n",
      "Epoch 20/20\n",
      "2730/2730 [==============================] - 1s 272us/step - loss: 0.3302 - acc: 0.5714 - val_loss: 0.6955 - val_acc: 0.5139\n",
      "Train on 2730 samples, validate on 683 samples\n",
      "Epoch 1/2\n",
      "2730/2730 [==============================] - 1s 269us/step - loss: 0.3296 - acc: 0.5832 - val_loss: 0.6955 - val_acc: 0.5154\n",
      "Epoch 2/2\n",
      "2730/2730 [==============================] - 1s 271us/step - loss: 0.3299 - acc: 0.5835 - val_loss: 0.6955 - val_acc: 0.5198\n",
      "Train on 2730 samples, validate on 683 samples\n",
      "Epoch 1/2\n",
      "2730/2730 [==============================] - 1s 266us/step - loss: 0.3298 - acc: 0.5788 - val_loss: 0.6956 - val_acc: 0.5212\n",
      "Epoch 2/2\n",
      "2730/2730 [==============================] - 1s 274us/step - loss: 0.3261 - acc: 0.5916 - val_loss: 0.6956 - val_acc: 0.5168\n",
      "Train on 2730 samples, validate on 683 samples\n",
      "Epoch 1/1\n",
      "2730/2730 [==============================] - 1s 271us/step - loss: 0.3276 - acc: 0.5853 - val_loss: 0.6956 - val_acc: 0.5139\n",
      "Train on 2730 samples, validate on 683 samples\n",
      "Epoch 1/5\n",
      "2730/2730 [==============================] - 1s 269us/step - loss: 0.3244 - acc: 0.6084 - val_loss: 0.6957 - val_acc: 0.5095\n",
      "Epoch 2/5\n",
      "2730/2730 [==============================] - 1s 270us/step - loss: 0.3237 - acc: 0.6084 - val_loss: 0.6957 - val_acc: 0.5095\n",
      "Epoch 3/5\n",
      "2730/2730 [==============================] - 1s 271us/step - loss: 0.3248 - acc: 0.6000 - val_loss: 0.6958 - val_acc: 0.5081\n",
      "Epoch 4/5\n",
      "2730/2730 [==============================] - 1s 269us/step - loss: 0.3247 - acc: 0.6037 - val_loss: 0.6958 - val_acc: 0.5081\n",
      "Epoch 5/5\n",
      "2730/2730 [==============================] - 1s 268us/step - loss: 0.3221 - acc: 0.6048 - val_loss: 0.6959 - val_acc: 0.5051\n",
      "Train on 2730 samples, validate on 683 samples\n",
      "Epoch 1/20\n",
      "2730/2730 [==============================] - 1s 267us/step - loss: 0.3220 - acc: 0.6139 - val_loss: 0.6959 - val_acc: 0.5066\n",
      "Epoch 2/20\n",
      "2730/2730 [==============================] - 1s 272us/step - loss: 0.3209 - acc: 0.6117 - val_loss: 0.6960 - val_acc: 0.5051\n",
      "Epoch 3/20\n",
      "2730/2730 [==============================] - 1s 270us/step - loss: 0.3189 - acc: 0.6403 - val_loss: 0.6960 - val_acc: 0.5051\n",
      "Epoch 4/20\n",
      "2730/2730 [==============================] - 1s 270us/step - loss: 0.3190 - acc: 0.6308 - val_loss: 0.6960 - val_acc: 0.5022\n",
      "Epoch 5/20\n",
      "2730/2730 [==============================] - 1s 270us/step - loss: 0.3155 - acc: 0.6451 - val_loss: 0.6961 - val_acc: 0.5037\n",
      "Epoch 6/20\n",
      "2730/2730 [==============================] - 1s 270us/step - loss: 0.3192 - acc: 0.5989 - val_loss: 0.6962 - val_acc: 0.5007\n",
      "Epoch 7/20\n",
      "2730/2730 [==============================] - 1s 272us/step - loss: 0.3170 - acc: 0.6374 - val_loss: 0.6963 - val_acc: 0.5007\n",
      "Epoch 8/20\n",
      "2730/2730 [==============================] - 1s 273us/step - loss: 0.3148 - acc: 0.6359 - val_loss: 0.6964 - val_acc: 0.5037\n",
      "Epoch 9/20\n",
      "2730/2730 [==============================] - 1s 272us/step - loss: 0.3143 - acc: 0.6418 - val_loss: 0.6966 - val_acc: 0.5037\n",
      "Epoch 10/20\n",
      "2730/2730 [==============================] - 1s 272us/step - loss: 0.3109 - acc: 0.6538 - val_loss: 0.6967 - val_acc: 0.5022\n",
      "Epoch 11/20\n",
      "2730/2730 [==============================] - 1s 270us/step - loss: 0.3125 - acc: 0.6421 - val_loss: 0.6968 - val_acc: 0.5007\n",
      "Epoch 12/20\n",
      "2730/2730 [==============================] - 1s 270us/step - loss: 0.3107 - acc: 0.6487 - val_loss: 0.6968 - val_acc: 0.5007\n",
      "Epoch 13/20\n",
      "2730/2730 [==============================] - 1s 272us/step - loss: 0.3103 - acc: 0.6553 - val_loss: 0.6969 - val_acc: 0.5022\n",
      "Epoch 14/20\n",
      "2730/2730 [==============================] - 1s 271us/step - loss: 0.3078 - acc: 0.6725 - val_loss: 0.6970 - val_acc: 0.5007\n",
      "Epoch 15/20\n",
      "2730/2730 [==============================] - 1s 269us/step - loss: 0.3069 - acc: 0.6751 - val_loss: 0.6971 - val_acc: 0.5007\n",
      "Epoch 16/20\n",
      "2730/2730 [==============================] - 1s 270us/step - loss: 0.3062 - acc: 0.6766 - val_loss: 0.6972 - val_acc: 0.5022\n",
      "Epoch 17/20\n",
      "2730/2730 [==============================] - 1s 269us/step - loss: 0.3039 - acc: 0.6791 - val_loss: 0.6972 - val_acc: 0.5066\n",
      "Epoch 18/20\n",
      "2730/2730 [==============================] - 1s 268us/step - loss: 0.3051 - acc: 0.6784 - val_loss: 0.6973 - val_acc: 0.5066\n",
      "Epoch 19/20\n",
      "2730/2730 [==============================] - 1s 270us/step - loss: 0.3034 - acc: 0.6821 - val_loss: 0.6974 - val_acc: 0.5110\n",
      "Epoch 20/20\n",
      "2730/2730 [==============================] - 1s 269us/step - loss: 0.3016 - acc: 0.6806 - val_loss: 0.6975 - val_acc: 0.5081\n",
      "Train on 2730 samples, validate on 683 samples\n",
      "Epoch 1/40\n",
      "2730/2730 [==============================] - 1s 267us/step - loss: 0.3003 - acc: 0.6894 - val_loss: 0.6976 - val_acc: 0.5110\n",
      "Epoch 2/40\n",
      "2730/2730 [==============================] - 1s 270us/step - loss: 0.2997 - acc: 0.6901 - val_loss: 0.6977 - val_acc: 0.5124\n",
      "Epoch 3/40\n",
      "2730/2730 [==============================] - 1s 269us/step - loss: 0.2973 - acc: 0.6996 - val_loss: 0.6979 - val_acc: 0.5110\n",
      "Epoch 4/40\n",
      "2730/2730 [==============================] - 1s 268us/step - loss: 0.2953 - acc: 0.7011 - val_loss: 0.6981 - val_acc: 0.5110\n",
      "Epoch 5/40\n",
      "2730/2730 [==============================] - 1s 268us/step - loss: 0.2965 - acc: 0.6934 - val_loss: 0.6982 - val_acc: 0.5095\n",
      "Epoch 6/40\n"
     ]
    },
    {
     "name": "stdout",
     "output_type": "stream",
     "text": [
      "2730/2730 [==============================] - 1s 270us/step - loss: 0.2965 - acc: 0.6945 - val_loss: 0.6984 - val_acc: 0.5110\n",
      "Epoch 7/40\n",
      "2730/2730 [==============================] - 1s 270us/step - loss: 0.2958 - acc: 0.7011 - val_loss: 0.6986 - val_acc: 0.5095\n",
      "Epoch 8/40\n",
      "2730/2730 [==============================] - 1s 271us/step - loss: 0.2916 - acc: 0.7154 - val_loss: 0.6988 - val_acc: 0.5124\n",
      "Epoch 9/40\n",
      "2730/2730 [==============================] - 1s 270us/step - loss: 0.2891 - acc: 0.7212 - val_loss: 0.6991 - val_acc: 0.5110\n",
      "Epoch 10/40\n",
      "2730/2730 [==============================] - 1s 271us/step - loss: 0.2891 - acc: 0.7216 - val_loss: 0.6993 - val_acc: 0.5110\n",
      "Epoch 11/40\n",
      "2730/2730 [==============================] - 1s 268us/step - loss: 0.2870 - acc: 0.7264 - val_loss: 0.6995 - val_acc: 0.5095\n",
      "Epoch 12/40\n",
      "2730/2730 [==============================] - 1s 272us/step - loss: 0.2842 - acc: 0.7410 - val_loss: 0.6998 - val_acc: 0.5081\n",
      "Epoch 13/40\n",
      "2730/2730 [==============================] - 1s 270us/step - loss: 0.2837 - acc: 0.7341 - val_loss: 0.7000 - val_acc: 0.5081\n",
      "Epoch 14/40\n",
      "2730/2730 [==============================] - 1s 272us/step - loss: 0.2817 - acc: 0.7469 - val_loss: 0.7002 - val_acc: 0.5037\n",
      "Epoch 15/40\n",
      "2730/2730 [==============================] - 1s 267us/step - loss: 0.2825 - acc: 0.7447 - val_loss: 0.7004 - val_acc: 0.5022\n",
      "Epoch 16/40\n",
      "2730/2730 [==============================] - 1s 273us/step - loss: 0.2794 - acc: 0.7473 - val_loss: 0.7006 - val_acc: 0.5037\n",
      "Epoch 17/40\n",
      "2730/2730 [==============================] - 1s 270us/step - loss: 0.2791 - acc: 0.7374 - val_loss: 0.7009 - val_acc: 0.5051\n",
      "Epoch 18/40\n",
      "2730/2730 [==============================] - 1s 269us/step - loss: 0.2771 - acc: 0.7535 - val_loss: 0.7012 - val_acc: 0.5022\n",
      "Epoch 19/40\n",
      "2730/2730 [==============================] - 1s 270us/step - loss: 0.2741 - acc: 0.7678 - val_loss: 0.7014 - val_acc: 0.5022\n",
      "Epoch 20/40\n",
      "2730/2730 [==============================] - 1s 271us/step - loss: 0.2751 - acc: 0.7626 - val_loss: 0.7016 - val_acc: 0.5022\n",
      "Epoch 21/40\n",
      "2730/2730 [==============================] - 1s 273us/step - loss: 0.2735 - acc: 0.7568 - val_loss: 0.7020 - val_acc: 0.5051\n",
      "Epoch 22/40\n",
      "2730/2730 [==============================] - 1s 275us/step - loss: 0.2710 - acc: 0.7645 - val_loss: 0.7023 - val_acc: 0.5066\n",
      "Epoch 23/40\n",
      "2730/2730 [==============================] - 1s 273us/step - loss: 0.2703 - acc: 0.7645 - val_loss: 0.7026 - val_acc: 0.5095\n",
      "Epoch 24/40\n",
      "2730/2730 [==============================] - 1s 273us/step - loss: 0.2696 - acc: 0.7714 - val_loss: 0.7029 - val_acc: 0.5139\n",
      "Epoch 25/40\n",
      "2730/2730 [==============================] - 1s 274us/step - loss: 0.2675 - acc: 0.7718 - val_loss: 0.7033 - val_acc: 0.5139\n",
      "Epoch 26/40\n",
      "2730/2730 [==============================] - 1s 272us/step - loss: 0.2660 - acc: 0.7784 - val_loss: 0.7036 - val_acc: 0.5110\n",
      "Epoch 27/40\n",
      "2730/2730 [==============================] - 1s 272us/step - loss: 0.2648 - acc: 0.7813 - val_loss: 0.7039 - val_acc: 0.5124\n",
      "Epoch 28/40\n",
      "2730/2730 [==============================] - 1s 271us/step - loss: 0.2627 - acc: 0.7853 - val_loss: 0.7044 - val_acc: 0.5139\n",
      "Epoch 29/40\n",
      "2730/2730 [==============================] - 1s 268us/step - loss: 0.2597 - acc: 0.7890 - val_loss: 0.7049 - val_acc: 0.5168\n",
      "Epoch 30/40\n",
      "2730/2730 [==============================] - 1s 270us/step - loss: 0.2599 - acc: 0.7835 - val_loss: 0.7053 - val_acc: 0.5168\n",
      "Epoch 31/40\n",
      "2730/2730 [==============================] - 1s 272us/step - loss: 0.2581 - acc: 0.7945 - val_loss: 0.7056 - val_acc: 0.5168\n",
      "Epoch 32/40\n",
      "2730/2730 [==============================] - 1s 271us/step - loss: 0.2587 - acc: 0.7923 - val_loss: 0.7060 - val_acc: 0.5168\n",
      "Epoch 33/40\n",
      "2730/2730 [==============================] - 1s 272us/step - loss: 0.2558 - acc: 0.8048 - val_loss: 0.7065 - val_acc: 0.5168\n",
      "Epoch 34/40\n",
      "2730/2730 [==============================] - 1s 277us/step - loss: 0.2515 - acc: 0.8026 - val_loss: 0.7069 - val_acc: 0.5139\n",
      "Epoch 35/40\n",
      "2730/2730 [==============================] - 1s 271us/step - loss: 0.2524 - acc: 0.8007 - val_loss: 0.7073 - val_acc: 0.5139\n",
      "Epoch 36/40\n",
      "2730/2730 [==============================] - 1s 270us/step - loss: 0.2531 - acc: 0.7993 - val_loss: 0.7076 - val_acc: 0.5154\n",
      "Epoch 37/40\n",
      "2730/2730 [==============================] - 1s 270us/step - loss: 0.2499 - acc: 0.8099 - val_loss: 0.7079 - val_acc: 0.5168\n",
      "Epoch 38/40\n",
      "2730/2730 [==============================] - 1s 268us/step - loss: 0.2484 - acc: 0.8092 - val_loss: 0.7082 - val_acc: 0.5168\n",
      "Epoch 39/40\n",
      "2730/2730 [==============================] - 1s 279us/step - loss: 0.2475 - acc: 0.8110 - val_loss: 0.7086 - val_acc: 0.5154\n",
      "Epoch 40/40\n",
      "2730/2730 [==============================] - 1s 274us/step - loss: 0.2459 - acc: 0.8205 - val_loss: 0.7091 - val_acc: 0.5168\n",
      "Train on 2730 samples, validate on 683 samples\n",
      "Epoch 1/80\n",
      "2730/2730 [==============================] - 1s 272us/step - loss: 0.2425 - acc: 0.8275 - val_loss: 0.7095 - val_acc: 0.5168\n",
      "Epoch 2/80\n",
      "2730/2730 [==============================] - 1s 270us/step - loss: 0.2425 - acc: 0.8311 - val_loss: 0.7099 - val_acc: 0.5168\n",
      "Epoch 3/80\n",
      "2730/2730 [==============================] - 1s 269us/step - loss: 0.2418 - acc: 0.8216 - val_loss: 0.7104 - val_acc: 0.5183\n",
      "Epoch 4/80\n",
      "2730/2730 [==============================] - 1s 271us/step - loss: 0.2391 - acc: 0.8201 - val_loss: 0.7108 - val_acc: 0.5183\n",
      "Epoch 5/80\n",
      "2730/2730 [==============================] - 1s 275us/step - loss: 0.2381 - acc: 0.8234 - val_loss: 0.7113 - val_acc: 0.5212\n",
      "Epoch 6/80\n",
      "2730/2730 [==============================] - 1s 269us/step - loss: 0.2358 - acc: 0.8227 - val_loss: 0.7118 - val_acc: 0.5227\n",
      "Epoch 7/80\n",
      "2730/2730 [==============================] - 1s 267us/step - loss: 0.2344 - acc: 0.8326 - val_loss: 0.7124 - val_acc: 0.5212\n",
      "Epoch 8/80\n",
      "2730/2730 [==============================] - 1s 272us/step - loss: 0.2330 - acc: 0.8293 - val_loss: 0.7129 - val_acc: 0.5212\n",
      "Epoch 9/80\n",
      "2730/2730 [==============================] - 1s 272us/step - loss: 0.2321 - acc: 0.8399 - val_loss: 0.7135 - val_acc: 0.5256\n",
      "Epoch 10/80\n",
      "2730/2730 [==============================] - 1s 270us/step - loss: 0.2324 - acc: 0.8341 - val_loss: 0.7140 - val_acc: 0.5256\n",
      "Epoch 11/80\n",
      "2730/2730 [==============================] - 1s 270us/step - loss: 0.2302 - acc: 0.8286 - val_loss: 0.7144 - val_acc: 0.5242\n",
      "Epoch 12/80\n",
      "2730/2730 [==============================] - 1s 270us/step - loss: 0.2267 - acc: 0.8355 - val_loss: 0.7149 - val_acc: 0.5212\n",
      "Epoch 13/80\n",
      "2730/2730 [==============================] - 1s 271us/step - loss: 0.2276 - acc: 0.8436 - val_loss: 0.7155 - val_acc: 0.5198\n",
      "Epoch 14/80\n",
      "2730/2730 [==============================] - 1s 272us/step - loss: 0.2249 - acc: 0.8403 - val_loss: 0.7161 - val_acc: 0.5183\n",
      "Epoch 15/80\n",
      "2730/2730 [==============================] - 1s 274us/step - loss: 0.2219 - acc: 0.8491 - val_loss: 0.7166 - val_acc: 0.5183\n",
      "Epoch 16/80\n",
      "2730/2730 [==============================] - 1s 273us/step - loss: 0.2213 - acc: 0.8520 - val_loss: 0.7173 - val_acc: 0.5183\n",
      "Epoch 17/80\n",
      "2730/2730 [==============================] - 1s 274us/step - loss: 0.2208 - acc: 0.8527 - val_loss: 0.7178 - val_acc: 0.5154\n",
      "Epoch 18/80\n",
      "2730/2730 [==============================] - 1s 271us/step - loss: 0.2192 - acc: 0.8480 - val_loss: 0.7184 - val_acc: 0.5168\n",
      "Epoch 19/80\n",
      "2730/2730 [==============================] - 1s 273us/step - loss: 0.2169 - acc: 0.8505 - val_loss: 0.7190 - val_acc: 0.5183\n",
      "Epoch 20/80\n",
      "2730/2730 [==============================] - 1s 276us/step - loss: 0.2161 - acc: 0.8546 - val_loss: 0.7195 - val_acc: 0.5183\n",
      "Epoch 21/80\n",
      "2730/2730 [==============================] - 1s 270us/step - loss: 0.2144 - acc: 0.8549 - val_loss: 0.7199 - val_acc: 0.5212\n",
      "Epoch 22/80\n",
      "2730/2730 [==============================] - 1s 275us/step - loss: 0.2142 - acc: 0.8513 - val_loss: 0.7204 - val_acc: 0.5198\n",
      "Epoch 23/80\n",
      "2730/2730 [==============================] - 1s 270us/step - loss: 0.2109 - acc: 0.8590 - val_loss: 0.7208 - val_acc: 0.5212\n",
      "Epoch 24/80\n",
      "2730/2730 [==============================] - 1s 278us/step - loss: 0.2113 - acc: 0.8538 - val_loss: 0.7213 - val_acc: 0.5212\n",
      "Epoch 25/80\n"
     ]
    },
    {
     "name": "stdout",
     "output_type": "stream",
     "text": [
      "2730/2730 [==============================] - 1s 268us/step - loss: 0.2107 - acc: 0.8535 - val_loss: 0.7219 - val_acc: 0.5242\n",
      "Epoch 26/80\n",
      "2730/2730 [==============================] - 1s 270us/step - loss: 0.2095 - acc: 0.8524 - val_loss: 0.7225 - val_acc: 0.5227\n",
      "Epoch 27/80\n",
      "2730/2730 [==============================] - 1s 271us/step - loss: 0.2064 - acc: 0.8659 - val_loss: 0.7230 - val_acc: 0.5198\n",
      "Epoch 28/80\n",
      "2730/2730 [==============================] - 1s 273us/step - loss: 0.2064 - acc: 0.8608 - val_loss: 0.7234 - val_acc: 0.5227\n",
      "Epoch 29/80\n",
      "2730/2730 [==============================] - 1s 268us/step - loss: 0.2036 - acc: 0.8626 - val_loss: 0.7238 - val_acc: 0.5227\n",
      "Epoch 30/80\n",
      "2730/2730 [==============================] - 1s 271us/step - loss: 0.2018 - acc: 0.8645 - val_loss: 0.7242 - val_acc: 0.5227\n",
      "Epoch 31/80\n",
      "2730/2730 [==============================] - 1s 271us/step - loss: 0.2023 - acc: 0.8707 - val_loss: 0.7247 - val_acc: 0.5198\n",
      "Epoch 32/80\n",
      "2730/2730 [==============================] - 1s 270us/step - loss: 0.1997 - acc: 0.8729 - val_loss: 0.7251 - val_acc: 0.5212\n",
      "Epoch 33/80\n",
      "2730/2730 [==============================] - 1s 269us/step - loss: 0.1984 - acc: 0.8733 - val_loss: 0.7256 - val_acc: 0.5227\n",
      "Epoch 34/80\n",
      "2730/2730 [==============================] - 1s 269us/step - loss: 0.1984 - acc: 0.8696 - val_loss: 0.7260 - val_acc: 0.5256\n",
      "Epoch 35/80\n",
      "2730/2730 [==============================] - 1s 271us/step - loss: 0.1967 - acc: 0.8747 - val_loss: 0.7265 - val_acc: 0.5256\n",
      "Epoch 36/80\n",
      "2730/2730 [==============================] - 1s 272us/step - loss: 0.1952 - acc: 0.8714 - val_loss: 0.7269 - val_acc: 0.5242\n",
      "Epoch 37/80\n",
      "2730/2730 [==============================] - 1s 269us/step - loss: 0.1936 - acc: 0.8780 - val_loss: 0.7274 - val_acc: 0.5271\n",
      "Epoch 38/80\n",
      "2730/2730 [==============================] - 1s 272us/step - loss: 0.1944 - acc: 0.8729 - val_loss: 0.7278 - val_acc: 0.5315\n",
      "Epoch 39/80\n",
      "2730/2730 [==============================] - 1s 269us/step - loss: 0.1913 - acc: 0.8751 - val_loss: 0.7282 - val_acc: 0.5315\n",
      "Epoch 40/80\n",
      "2730/2730 [==============================] - 1s 271us/step - loss: 0.1908 - acc: 0.8780 - val_loss: 0.7287 - val_acc: 0.5315\n",
      "Epoch 41/80\n",
      "2730/2730 [==============================] - 1s 271us/step - loss: 0.1884 - acc: 0.8788 - val_loss: 0.7293 - val_acc: 0.5329\n",
      "Epoch 42/80\n",
      "2730/2730 [==============================] - 1s 270us/step - loss: 0.1893 - acc: 0.8788 - val_loss: 0.7300 - val_acc: 0.5329\n",
      "Epoch 43/80\n",
      "2730/2730 [==============================] - 1s 269us/step - loss: 0.1855 - acc: 0.8802 - val_loss: 0.7307 - val_acc: 0.5344\n"
     ]
    }
   ],
   "source": [
    "class DeepEstimator():\n",
    "    def __init__(self):\n",
    "        return None\n",
    "    def fit(self, X, y, X_val, y_val):\n",
    "        class_weight = {0: 0.05,\n",
    "                1: 0.95}\n",
    "        self.model = self.__define_model(X)\n",
    "        sched = [[0.0001, 2], [0.001, 20], [0.01, 2], [0.1, 2], [0.5, 1], [0.1, 5], [0.01, 20], [0.001, 40], [0.0001, 80], [0.00005, 120]]\n",
    "        for lr, epochs in sched:\n",
    "            self.model.optimizer.lr = lr\n",
    "            self.model.fit(np.array(X), np.array(y), epochs=epochs, verbose=True, class_weight=class_weight, batch_size=2048, validation_data=(X_val, y_val))\n",
    "        return self\n",
    "    def predict(self, X):\n",
    "        return self.model.predict(X)\n",
    "    \n",
    "    def predict_proba(self, X):\n",
    "        return self.model.predict(X)\n",
    "    \n",
    "    def __define_model(self, X):\n",
    "        shape = X.shape[1]\n",
    "        model = Sequential([\n",
    "            BatchNormalization(input_shape=(shape,)),\n",
    "            Dense(64, kernel_initializer='normal', activation='relu'),\n",
    "            Dropout(0.5),\n",
    "            BatchNormalization(),\n",
    "            Dense(32, kernel_initializer='normal', activation='relu'),\n",
    "            Dropout(0.5),\n",
    "            BatchNormalization(),\n",
    "            Dense(1, kernel_initializer='normal', activation='sigmoid')   \n",
    "        ])\n",
    "\n",
    "        model.compile(optimizer='adam',\n",
    "                      loss='binary_crossentropy',\n",
    "                      metrics=['accuracy'])\n",
    "        return model\n",
    "    \n",
    "#                 Dense(1024, activation='relu', kernel_regularizer=regularizers.l1(0.5)),\n",
    "#             Dropout(0.5),\n",
    "#             BatchNormalization(),\n",
    "#             Dense(64, activation='relu', kernel_regularizer=regularizers.l1(0.5)),\n",
    "#             Dropout(0.5),\n",
    "#             BatchNormalization(),\n",
    "    \n",
    "\n",
    "# select_fpr = SelectFpr(alpha=0.99)\n",
    "\n",
    "# X_train = select_fpr.fit_transform(X_train, y_train)\n",
    "# X_test = select_fpr.transform(X_test)\n",
    "\n",
    "# deep_estimator = DeepEstimator()\n",
    "# deep_estimator.fit(X_train, y_train, X_test, y_test)"
   ]
  },
  {
   "cell_type": "code",
   "execution_count": null,
   "metadata": {},
   "outputs": [],
   "source": [
    "preds = deep_estimator.predict(X_test)\n",
    "Plotter(preds).plot_score(np.array(y_test_continuous))"
   ]
  },
  {
   "cell_type": "code",
   "execution_count": 203,
   "metadata": {},
   "outputs": [
    {
     "name": "stdout",
     "output_type": "stream",
     "text": [
      "Train on 2730 samples, validate on 683 samples\n",
      "Epoch 1/2\n",
      "2730/2730 [==============================] - 2s 607us/step - loss: 35.7009 - acc: 0.4897 - val_loss: 36.0528 - val_acc: 0.4817\n",
      "Epoch 2/2\n",
      "2730/2730 [==============================] - 0s 14us/step - loss: 35.5556 - acc: 0.4930 - val_loss: 35.8884 - val_acc: 0.4817\n",
      "Train on 2730 samples, validate on 683 samples\n",
      "Epoch 1/20\n",
      "2730/2730 [==============================] - 0s 14us/step - loss: 35.3910 - acc: 0.5022 - val_loss: 35.7208 - val_acc: 0.4832\n",
      "Epoch 2/20\n",
      "2730/2730 [==============================] - 0s 14us/step - loss: 35.2213 - acc: 0.4985 - val_loss: 35.5481 - val_acc: 0.4832\n",
      "Epoch 3/20\n",
      "2730/2730 [==============================] - 0s 14us/step - loss: 35.0510 - acc: 0.4996 - val_loss: 35.3746 - val_acc: 0.4817\n",
      "Epoch 4/20\n",
      "2730/2730 [==============================] - 0s 14us/step - loss: 34.8768 - acc: 0.5099 - val_loss: 35.1991 - val_acc: 0.4817\n",
      "Epoch 5/20\n",
      "2730/2730 [==============================] - 0s 14us/step - loss: 34.7034 - acc: 0.5011 - val_loss: 35.0228 - val_acc: 0.4832\n",
      "Epoch 6/20\n",
      "2730/2730 [==============================] - 0s 14us/step - loss: 34.5301 - acc: 0.4945 - val_loss: 34.8479 - val_acc: 0.4846\n",
      "Epoch 7/20\n",
      "2730/2730 [==============================] - 0s 14us/step - loss: 34.3581 - acc: 0.4938 - val_loss: 34.6734 - val_acc: 0.4846\n",
      "Epoch 8/20\n",
      "2730/2730 [==============================] - 0s 14us/step - loss: 34.1842 - acc: 0.4916 - val_loss: 34.4987 - val_acc: 0.4846\n",
      "Epoch 9/20\n",
      "2730/2730 [==============================] - 0s 14us/step - loss: 34.0119 - acc: 0.5004 - val_loss: 34.3255 - val_acc: 0.4846\n",
      "Epoch 10/20\n",
      "2730/2730 [==============================] - 0s 14us/step - loss: 33.8377 - acc: 0.4978 - val_loss: 34.1521 - val_acc: 0.4846\n",
      "Epoch 11/20\n",
      "2730/2730 [==============================] - 0s 14us/step - loss: 33.6689 - acc: 0.4894 - val_loss: 33.9795 - val_acc: 0.4846\n",
      "Epoch 12/20\n",
      "2730/2730 [==============================] - 0s 15us/step - loss: 33.4953 - acc: 0.4832 - val_loss: 33.8071 - val_acc: 0.4832\n",
      "Epoch 13/20\n",
      "2730/2730 [==============================] - 0s 15us/step - loss: 33.3220 - acc: 0.4982 - val_loss: 33.6361 - val_acc: 0.4817\n",
      "Epoch 14/20\n",
      "2730/2730 [==============================] - 0s 14us/step - loss: 33.1538 - acc: 0.5059 - val_loss: 33.4651 - val_acc: 0.4817\n",
      "Epoch 15/20\n",
      "2730/2730 [==============================] - 0s 14us/step - loss: 32.9847 - acc: 0.4949 - val_loss: 33.2947 - val_acc: 0.4817\n",
      "Epoch 16/20\n",
      "2730/2730 [==============================] - 0s 14us/step - loss: 32.8151 - acc: 0.4857 - val_loss: 33.1249 - val_acc: 0.4788\n",
      "Epoch 17/20\n",
      "2730/2730 [==============================] - 0s 14us/step - loss: 32.6442 - acc: 0.5073 - val_loss: 32.9555 - val_acc: 0.4788\n",
      "Epoch 18/20\n",
      "2730/2730 [==============================] - 0s 15us/step - loss: 32.4773 - acc: 0.5051 - val_loss: 32.7872 - val_acc: 0.4788\n",
      "Epoch 19/20\n",
      "2730/2730 [==============================] - 0s 14us/step - loss: 32.3114 - acc: 0.4883 - val_loss: 32.6194 - val_acc: 0.4788\n",
      "Epoch 20/20\n",
      "2730/2730 [==============================] - 0s 14us/step - loss: 32.1439 - acc: 0.4912 - val_loss: 32.4524 - val_acc: 0.4802\n",
      "Train on 2730 samples, validate on 683 samples\n",
      "Epoch 1/2\n",
      "2730/2730 [==============================] - 0s 14us/step - loss: 31.9784 - acc: 0.4971 - val_loss: 32.2860 - val_acc: 0.4802\n",
      "Epoch 2/2\n",
      "2730/2730 [==============================] - 0s 14us/step - loss: 31.8130 - acc: 0.4872 - val_loss: 32.1202 - val_acc: 0.4817\n",
      "Train on 2730 samples, validate on 683 samples\n",
      "Epoch 1/2\n",
      "2730/2730 [==============================] - 0s 14us/step - loss: 31.6496 - acc: 0.4963 - val_loss: 31.9553 - val_acc: 0.4802\n",
      "Epoch 2/2\n",
      "2730/2730 [==============================] - 0s 14us/step - loss: 31.4822 - acc: 0.5095 - val_loss: 31.7906 - val_acc: 0.4817\n",
      "Train on 2730 samples, validate on 683 samples\n",
      "Epoch 1/1\n",
      "2730/2730 [==============================] - 0s 14us/step - loss: 31.3192 - acc: 0.5066 - val_loss: 31.6263 - val_acc: 0.4802\n",
      "Train on 2730 samples, validate on 683 samples\n",
      "Epoch 1/5\n",
      "2730/2730 [==============================] - 0s 14us/step - loss: 31.1573 - acc: 0.4971 - val_loss: 31.4629 - val_acc: 0.4802\n",
      "Epoch 2/5\n",
      "2730/2730 [==============================] - 0s 14us/step - loss: 30.9953 - acc: 0.4850 - val_loss: 31.2999 - val_acc: 0.4832\n",
      "Epoch 3/5\n",
      "2730/2730 [==============================] - 0s 14us/step - loss: 30.8317 - acc: 0.5007 - val_loss: 31.1377 - val_acc: 0.4817\n",
      "Epoch 4/5\n",
      "2730/2730 [==============================] - 0s 14us/step - loss: 30.6717 - acc: 0.4967 - val_loss: 30.9762 - val_acc: 0.4817\n",
      "Epoch 5/5\n",
      "2730/2730 [==============================] - 0s 14us/step - loss: 30.5098 - acc: 0.5099 - val_loss: 30.8152 - val_acc: 0.4802\n",
      "Train on 2730 samples, validate on 683 samples\n",
      "Epoch 1/20\n",
      "2730/2730 [==============================] - 0s 14us/step - loss: 30.3520 - acc: 0.4908 - val_loss: 30.6548 - val_acc: 0.4832\n",
      "Epoch 2/20\n",
      "2730/2730 [==============================] - 0s 14us/step - loss: 30.1911 - acc: 0.4960 - val_loss: 30.4949 - val_acc: 0.4832\n",
      "Epoch 3/20\n",
      "2730/2730 [==============================] - 0s 14us/step - loss: 30.0318 - acc: 0.4952 - val_loss: 30.3358 - val_acc: 0.4817\n",
      "Epoch 4/20\n",
      "2730/2730 [==============================] - 0s 14us/step - loss: 29.8715 - acc: 0.5139 - val_loss: 30.1774 - val_acc: 0.4802\n",
      "Epoch 5/20\n",
      "2730/2730 [==============================] - 0s 14us/step - loss: 29.7167 - acc: 0.5015 - val_loss: 30.0194 - val_acc: 0.4802\n",
      "Epoch 6/20\n",
      "2730/2730 [==============================] - 0s 14us/step - loss: 29.5574 - acc: 0.5077 - val_loss: 29.8620 - val_acc: 0.4817\n",
      "Epoch 7/20\n",
      "2730/2730 [==============================] - 0s 14us/step - loss: 29.4012 - acc: 0.5136 - val_loss: 29.7053 - val_acc: 0.4817\n",
      "Epoch 8/20\n",
      "2730/2730 [==============================] - 0s 14us/step - loss: 29.2465 - acc: 0.4949 - val_loss: 29.5493 - val_acc: 0.4817\n",
      "Epoch 9/20\n",
      "2730/2730 [==============================] - 0s 14us/step - loss: 29.0919 - acc: 0.4916 - val_loss: 29.3939 - val_acc: 0.4817\n",
      "Epoch 10/20\n",
      "2730/2730 [==============================] - 0s 14us/step - loss: 28.9381 - acc: 0.4908 - val_loss: 29.2390 - val_acc: 0.4802\n",
      "Epoch 11/20\n",
      "2730/2730 [==============================] - 0s 14us/step - loss: 28.7818 - acc: 0.5048 - val_loss: 29.0846 - val_acc: 0.4802\n",
      "Epoch 12/20\n",
      "2730/2730 [==============================] - 0s 14us/step - loss: 28.6277 - acc: 0.4974 - val_loss: 28.9308 - val_acc: 0.4802\n",
      "Epoch 13/20\n",
      "2730/2730 [==============================] - 0s 14us/step - loss: 28.4754 - acc: 0.5070 - val_loss: 28.7775 - val_acc: 0.4788\n",
      "Epoch 14/20\n",
      "2730/2730 [==============================] - 0s 14us/step - loss: 28.3219 - acc: 0.5084 - val_loss: 28.6250 - val_acc: 0.4788\n",
      "Epoch 15/20\n",
      "2730/2730 [==============================] - 0s 14us/step - loss: 28.1718 - acc: 0.4952 - val_loss: 28.4730 - val_acc: 0.4817\n",
      "Epoch 16/20\n",
      "2730/2730 [==============================] - 0s 14us/step - loss: 28.0186 - acc: 0.5077 - val_loss: 28.3216 - val_acc: 0.4846\n",
      "Epoch 17/20\n",
      "2730/2730 [==============================] - 0s 14us/step - loss: 27.8693 - acc: 0.4974 - val_loss: 28.1706 - val_acc: 0.4832\n",
      "Epoch 18/20\n",
      "2730/2730 [==============================] - 0s 14us/step - loss: 27.7195 - acc: 0.4967 - val_loss: 28.0204 - val_acc: 0.4832\n",
      "Epoch 19/20\n",
      "2730/2730 [==============================] - 0s 14us/step - loss: 27.5693 - acc: 0.5051 - val_loss: 27.8707 - val_acc: 0.4832\n",
      "Epoch 20/20\n",
      "2730/2730 [==============================] - 0s 14us/step - loss: 27.4215 - acc: 0.4835 - val_loss: 27.7217 - val_acc: 0.4846\n",
      "Train on 2730 samples, validate on 683 samples\n",
      "Epoch 1/40\n",
      "2730/2730 [==============================] - 0s 14us/step - loss: 27.2721 - acc: 0.5073 - val_loss: 27.5734 - val_acc: 0.4846\n",
      "Epoch 2/40\n",
      "2730/2730 [==============================] - 0s 14us/step - loss: 27.1247 - acc: 0.5136 - val_loss: 27.4256 - val_acc: 0.4846\n",
      "Epoch 3/40\n",
      "2730/2730 [==============================] - 0s 14us/step - loss: 26.9775 - acc: 0.4941 - val_loss: 27.2781 - val_acc: 0.4861\n",
      "Epoch 4/40\n",
      "2730/2730 [==============================] - 0s 14us/step - loss: 26.8332 - acc: 0.4879 - val_loss: 27.1313 - val_acc: 0.4861\n",
      "Epoch 5/40\n",
      "2730/2730 [==============================] - 0s 14us/step - loss: 26.6857 - acc: 0.4956 - val_loss: 26.9851 - val_acc: 0.4846\n"
     ]
    },
    {
     "name": "stdout",
     "output_type": "stream",
     "text": [
      "Epoch 6/40\n",
      "2730/2730 [==============================] - 0s 14us/step - loss: 26.5360 - acc: 0.5044 - val_loss: 26.8395 - val_acc: 0.4846\n",
      "Epoch 7/40\n",
      "2730/2730 [==============================] - 0s 14us/step - loss: 26.3954 - acc: 0.4901 - val_loss: 26.6945 - val_acc: 0.4832\n",
      "Epoch 8/40\n",
      "2730/2730 [==============================] - 0s 14us/step - loss: 26.2495 - acc: 0.4982 - val_loss: 26.5500 - val_acc: 0.4817\n",
      "Epoch 9/40\n",
      "2730/2730 [==============================] - 0s 14us/step - loss: 26.1060 - acc: 0.4857 - val_loss: 26.4062 - val_acc: 0.4832\n",
      "Epoch 10/40\n",
      "2730/2730 [==============================] - 0s 14us/step - loss: 25.9635 - acc: 0.4901 - val_loss: 26.2628 - val_acc: 0.4802\n",
      "Epoch 11/40\n",
      "2730/2730 [==============================] - 0s 14us/step - loss: 25.8185 - acc: 0.4978 - val_loss: 26.1202 - val_acc: 0.4802\n",
      "Epoch 12/40\n",
      "2730/2730 [==============================] - 0s 14us/step - loss: 25.6773 - acc: 0.4982 - val_loss: 25.9781 - val_acc: 0.4788\n",
      "Epoch 13/40\n",
      "2730/2730 [==============================] - 0s 14us/step - loss: 25.5350 - acc: 0.4956 - val_loss: 25.8367 - val_acc: 0.4788\n",
      "Epoch 14/40\n",
      "2730/2730 [==============================] - 0s 14us/step - loss: 25.3957 - acc: 0.5051 - val_loss: 25.6957 - val_acc: 0.4788\n",
      "Epoch 15/40\n",
      "2730/2730 [==============================] - 0s 14us/step - loss: 25.2526 - acc: 0.5048 - val_loss: 25.5553 - val_acc: 0.4788\n",
      "Epoch 16/40\n",
      "2730/2730 [==============================] - 0s 14us/step - loss: 25.1153 - acc: 0.4919 - val_loss: 25.4153 - val_acc: 0.4817\n",
      "Epoch 17/40\n",
      "2730/2730 [==============================] - 0s 14us/step - loss: 24.9752 - acc: 0.4985 - val_loss: 25.2759 - val_acc: 0.4802\n",
      "Epoch 18/40\n",
      "2730/2730 [==============================] - 0s 14us/step - loss: 24.8358 - acc: 0.4949 - val_loss: 25.1372 - val_acc: 0.4802\n",
      "Epoch 19/40\n",
      "2730/2730 [==============================] - 0s 14us/step - loss: 24.6962 - acc: 0.5059 - val_loss: 24.9991 - val_acc: 0.4788\n",
      "Epoch 20/40\n",
      "2730/2730 [==============================] - 0s 14us/step - loss: 24.5585 - acc: 0.5048 - val_loss: 24.8615 - val_acc: 0.4758\n",
      "Epoch 21/40\n",
      "2730/2730 [==============================] - 0s 14us/step - loss: 24.4223 - acc: 0.4963 - val_loss: 24.7244 - val_acc: 0.4758\n",
      "Epoch 22/40\n",
      "2730/2730 [==============================] - 0s 14us/step - loss: 24.2865 - acc: 0.5044 - val_loss: 24.5879 - val_acc: 0.4744\n",
      "Epoch 23/40\n",
      "2730/2730 [==============================] - 0s 14us/step - loss: 24.1504 - acc: 0.4912 - val_loss: 24.4519 - val_acc: 0.4714\n",
      "Epoch 24/40\n",
      "2730/2730 [==============================] - 0s 14us/step - loss: 24.0151 - acc: 0.4952 - val_loss: 24.3164 - val_acc: 0.4714\n",
      "Epoch 25/40\n",
      "2730/2730 [==============================] - 0s 14us/step - loss: 23.8805 - acc: 0.4875 - val_loss: 24.1814 - val_acc: 0.4744\n",
      "Epoch 26/40\n",
      "2730/2730 [==============================] - 0s 14us/step - loss: 23.7464 - acc: 0.4890 - val_loss: 24.0468 - val_acc: 0.4758\n",
      "Epoch 27/40\n",
      "2730/2730 [==============================] - 0s 14us/step - loss: 23.6101 - acc: 0.5070 - val_loss: 23.9127 - val_acc: 0.4758\n",
      "Epoch 28/40\n",
      "2730/2730 [==============================] - 0s 14us/step - loss: 23.4770 - acc: 0.4996 - val_loss: 23.7790 - val_acc: 0.4773\n",
      "Epoch 29/40\n",
      "2730/2730 [==============================] - 0s 14us/step - loss: 23.3438 - acc: 0.5062 - val_loss: 23.6459 - val_acc: 0.4758\n",
      "Epoch 30/40\n",
      "2730/2730 [==============================] - 0s 14us/step - loss: 23.2115 - acc: 0.4996 - val_loss: 23.5135 - val_acc: 0.4758\n",
      "Epoch 31/40\n",
      "2730/2730 [==============================] - 0s 14us/step - loss: 23.0788 - acc: 0.4967 - val_loss: 23.3814 - val_acc: 0.4773\n",
      "Epoch 32/40\n",
      "2730/2730 [==============================] - 0s 14us/step - loss: 22.9470 - acc: 0.5066 - val_loss: 23.2501 - val_acc: 0.4773\n",
      "Epoch 33/40\n",
      "2730/2730 [==============================] - 0s 14us/step - loss: 22.8176 - acc: 0.4806 - val_loss: 23.1193 - val_acc: 0.4802\n",
      "Epoch 34/40\n",
      "2730/2730 [==============================] - 0s 14us/step - loss: 22.6858 - acc: 0.4996 - val_loss: 22.9890 - val_acc: 0.4788\n",
      "Epoch 35/40\n",
      "2730/2730 [==============================] - 0s 14us/step - loss: 22.5569 - acc: 0.5059 - val_loss: 22.8591 - val_acc: 0.4788\n",
      "Epoch 36/40\n",
      "2730/2730 [==============================] - 0s 14us/step - loss: 22.4298 - acc: 0.4729 - val_loss: 22.7298 - val_acc: 0.4802\n",
      "Epoch 37/40\n",
      "2730/2730 [==============================] - 0s 14us/step - loss: 22.2978 - acc: 0.4949 - val_loss: 22.6009 - val_acc: 0.4817\n",
      "Epoch 38/40\n",
      "2730/2730 [==============================] - 0s 14us/step - loss: 22.1709 - acc: 0.4886 - val_loss: 22.4726 - val_acc: 0.4817\n",
      "Epoch 39/40\n",
      "2730/2730 [==============================] - 0s 14us/step - loss: 22.0431 - acc: 0.4897 - val_loss: 22.3449 - val_acc: 0.4802\n",
      "Epoch 40/40\n",
      "2730/2730 [==============================] - 0s 14us/step - loss: 21.9149 - acc: 0.4971 - val_loss: 22.2177 - val_acc: 0.4802\n",
      "Train on 2730 samples, validate on 683 samples\n",
      "Epoch 1/80\n",
      "2730/2730 [==============================] - 0s 14us/step - loss: 21.7885 - acc: 0.4967 - val_loss: 22.0909 - val_acc: 0.4773\n",
      "Epoch 2/80\n",
      "2730/2730 [==============================] - 0s 14us/step - loss: 21.6641 - acc: 0.4875 - val_loss: 21.9647 - val_acc: 0.4758\n",
      "Epoch 3/80\n",
      "2730/2730 [==============================] - 0s 14us/step - loss: 21.5381 - acc: 0.4842 - val_loss: 21.8392 - val_acc: 0.4773\n",
      "Epoch 4/80\n",
      "2730/2730 [==============================] - 0s 14us/step - loss: 21.4092 - acc: 0.5139 - val_loss: 21.7143 - val_acc: 0.4773\n",
      "Epoch 5/80\n",
      "2730/2730 [==============================] - 0s 14us/step - loss: 21.2876 - acc: 0.5048 - val_loss: 21.5898 - val_acc: 0.4788\n",
      "Epoch 6/80\n",
      "2730/2730 [==============================] - 0s 14us/step - loss: 21.1642 - acc: 0.4916 - val_loss: 21.4657 - val_acc: 0.4817\n",
      "Epoch 7/80\n",
      "2730/2730 [==============================] - 0s 14us/step - loss: 21.0390 - acc: 0.4985 - val_loss: 21.3422 - val_acc: 0.4817\n",
      "Epoch 8/80\n",
      "2730/2730 [==============================] - 0s 14us/step - loss: 20.9151 - acc: 0.5095 - val_loss: 21.2190 - val_acc: 0.4817\n",
      "Epoch 9/80\n",
      "2730/2730 [==============================] - 0s 14us/step - loss: 20.7934 - acc: 0.5033 - val_loss: 21.0964 - val_acc: 0.4817\n",
      "Epoch 10/80\n",
      "2730/2730 [==============================] - 0s 14us/step - loss: 20.6713 - acc: 0.4985 - val_loss: 20.9744 - val_acc: 0.4817\n",
      "Epoch 11/80\n",
      "2730/2730 [==============================] - 0s 14us/step - loss: 20.5480 - acc: 0.5136 - val_loss: 20.8530 - val_acc: 0.4832\n",
      "Epoch 12/80\n",
      "2730/2730 [==============================] - 0s 14us/step - loss: 20.4274 - acc: 0.5216 - val_loss: 20.7321 - val_acc: 0.4832\n",
      "Epoch 13/80\n",
      "2730/2730 [==============================] - 0s 14us/step - loss: 20.3078 - acc: 0.5084 - val_loss: 20.6119 - val_acc: 0.4832\n",
      "Epoch 14/80\n",
      "2730/2730 [==============================] - 0s 14us/step - loss: 20.1880 - acc: 0.4949 - val_loss: 20.4921 - val_acc: 0.4832\n",
      "Epoch 15/80\n",
      "2730/2730 [==============================] - 0s 14us/step - loss: 20.0694 - acc: 0.4971 - val_loss: 20.3730 - val_acc: 0.4832\n",
      "Epoch 16/80\n",
      "2730/2730 [==============================] - 0s 14us/step - loss: 19.9490 - acc: 0.5026 - val_loss: 20.2544 - val_acc: 0.4832\n",
      "Epoch 17/80\n",
      "2730/2730 [==============================] - 0s 14us/step - loss: 19.8308 - acc: 0.4956 - val_loss: 20.1363 - val_acc: 0.4817\n",
      "Epoch 18/80\n",
      "2730/2730 [==============================] - 0s 14us/step - loss: 19.7133 - acc: 0.4941 - val_loss: 20.0188 - val_acc: 0.4817\n",
      "Epoch 19/80\n",
      "2730/2730 [==============================] - 0s 14us/step - loss: 19.5950 - acc: 0.5081 - val_loss: 19.9016 - val_acc: 0.4832\n",
      "Epoch 20/80\n",
      "2730/2730 [==============================] - 0s 14us/step - loss: 19.4793 - acc: 0.5026 - val_loss: 19.7850 - val_acc: 0.4832\n",
      "Epoch 21/80\n",
      "2730/2730 [==============================] - 0s 14us/step - loss: 19.3621 - acc: 0.4996 - val_loss: 19.6688 - val_acc: 0.4817\n",
      "Epoch 22/80\n",
      "2730/2730 [==============================] - 0s 14us/step - loss: 19.2463 - acc: 0.4945 - val_loss: 19.5532 - val_acc: 0.4817\n",
      "Epoch 23/80\n",
      "2730/2730 [==============================] - 0s 14us/step - loss: 19.1314 - acc: 0.4897 - val_loss: 19.4381 - val_acc: 0.4832\n",
      "Epoch 24/80\n",
      "2730/2730 [==============================] - 0s 14us/step - loss: 19.0169 - acc: 0.4996 - val_loss: 19.3236 - val_acc: 0.4846\n",
      "Epoch 25/80\n"
     ]
    },
    {
     "name": "stdout",
     "output_type": "stream",
     "text": [
      "2730/2730 [==============================] - 0s 14us/step - loss: 18.9005 - acc: 0.5125 - val_loss: 19.2094 - val_acc: 0.4861\n",
      "Epoch 26/80\n",
      "2730/2730 [==============================] - 0s 14us/step - loss: 18.7885 - acc: 0.5007 - val_loss: 19.0959 - val_acc: 0.4861\n",
      "Epoch 27/80\n",
      "2730/2730 [==============================] - 0s 14us/step - loss: 18.6747 - acc: 0.4963 - val_loss: 18.9828 - val_acc: 0.4832\n",
      "Epoch 28/80\n",
      "2730/2730 [==============================] - 0s 14us/step - loss: 18.5608 - acc: 0.5073 - val_loss: 18.8703 - val_acc: 0.4817\n",
      "Epoch 29/80\n",
      "2730/2730 [==============================] - 0s 14us/step - loss: 18.4489 - acc: 0.5033 - val_loss: 18.7583 - val_acc: 0.4817\n",
      "Epoch 30/80\n",
      "2730/2730 [==============================] - 0s 14us/step - loss: 18.3366 - acc: 0.5132 - val_loss: 18.6469 - val_acc: 0.4817\n",
      "Epoch 31/80\n",
      "2730/2730 [==============================] - 0s 14us/step - loss: 18.2264 - acc: 0.4864 - val_loss: 18.5360 - val_acc: 0.4817\n",
      "Epoch 32/80\n",
      "2730/2730 [==============================] - 0s 14us/step - loss: 18.1142 - acc: 0.5048 - val_loss: 18.4255 - val_acc: 0.4817\n",
      "Epoch 33/80\n",
      "2730/2730 [==============================] - 0s 14us/step - loss: 18.0040 - acc: 0.5073 - val_loss: 18.3156 - val_acc: 0.4802\n",
      "Epoch 34/80\n",
      "2730/2730 [==============================] - 0s 14us/step - loss: 17.8962 - acc: 0.4967 - val_loss: 18.2062 - val_acc: 0.4817\n",
      "Epoch 35/80\n",
      "2730/2730 [==============================] - 0s 14us/step - loss: 17.7849 - acc: 0.5066 - val_loss: 18.0973 - val_acc: 0.4802\n",
      "Epoch 36/80\n",
      "2730/2730 [==============================] - 0s 14us/step - loss: 17.6773 - acc: 0.4978 - val_loss: 17.9888 - val_acc: 0.4802\n",
      "Epoch 37/80\n",
      "2730/2730 [==============================] - 0s 14us/step - loss: 17.5687 - acc: 0.5066 - val_loss: 17.8808 - val_acc: 0.4817\n",
      "Epoch 38/80\n",
      "2730/2730 [==============================] - 0s 14us/step - loss: 17.4622 - acc: 0.4875 - val_loss: 17.7732 - val_acc: 0.4802\n",
      "Epoch 39/80\n",
      "2730/2730 [==============================] - 0s 14us/step - loss: 17.3544 - acc: 0.4927 - val_loss: 17.6661 - val_acc: 0.4832\n",
      "Epoch 40/80\n",
      "2730/2730 [==============================] - 0s 14us/step - loss: 17.2458 - acc: 0.5066 - val_loss: 17.5595 - val_acc: 0.4861\n",
      "Epoch 41/80\n",
      "2730/2730 [==============================] - 0s 14us/step - loss: 17.1391 - acc: 0.4993 - val_loss: 17.4534 - val_acc: 0.4876\n",
      "Epoch 42/80\n",
      "2730/2730 [==============================] - 0s 14us/step - loss: 17.0342 - acc: 0.5015 - val_loss: 17.3478 - val_acc: 0.4861\n",
      "Epoch 43/80\n",
      "2730/2730 [==============================] - 0s 14us/step - loss: 16.9279 - acc: 0.5154 - val_loss: 17.2426 - val_acc: 0.4876\n",
      "Epoch 44/80\n",
      "2730/2730 [==============================] - 0s 14us/step - loss: 16.8249 - acc: 0.4886 - val_loss: 17.1380 - val_acc: 0.4890\n",
      "Epoch 45/80\n",
      "2730/2730 [==============================] - 0s 14us/step - loss: 16.7196 - acc: 0.4963 - val_loss: 17.0339 - val_acc: 0.4876\n",
      "Epoch 46/80\n",
      "2730/2730 [==============================] - 0s 14us/step - loss: 16.6146 - acc: 0.5073 - val_loss: 16.9302 - val_acc: 0.4890\n",
      "Epoch 47/80\n",
      "2730/2730 [==============================] - 0s 14us/step - loss: 16.5112 - acc: 0.5092 - val_loss: 16.8271 - val_acc: 0.4905\n",
      "Epoch 48/80\n",
      "2730/2730 [==============================] - 0s 14us/step - loss: 16.4093 - acc: 0.5051 - val_loss: 16.7246 - val_acc: 0.4905\n",
      "Epoch 49/80\n",
      "2730/2730 [==============================] - 0s 14us/step - loss: 16.3064 - acc: 0.4985 - val_loss: 16.6225 - val_acc: 0.4905\n",
      "Epoch 50/80\n",
      "2730/2730 [==============================] - 0s 14us/step - loss: 16.2050 - acc: 0.5004 - val_loss: 16.5209 - val_acc: 0.4919\n",
      "Epoch 51/80\n",
      "2730/2730 [==============================] - 0s 14us/step - loss: 16.1027 - acc: 0.4989 - val_loss: 16.4197 - val_acc: 0.4919\n",
      "Epoch 52/80\n",
      "2730/2730 [==============================] - 0s 14us/step - loss: 16.0023 - acc: 0.4941 - val_loss: 16.3190 - val_acc: 0.4919\n",
      "Epoch 53/80\n",
      "2730/2730 [==============================] - 0s 14us/step - loss: 15.9015 - acc: 0.5037 - val_loss: 16.2187 - val_acc: 0.4934\n",
      "Epoch 54/80\n",
      "2730/2730 [==============================] - 0s 14us/step - loss: 15.8019 - acc: 0.4963 - val_loss: 16.1189 - val_acc: 0.4963\n",
      "Epoch 55/80\n",
      "2730/2730 [==============================] - 0s 14us/step - loss: 15.7022 - acc: 0.4930 - val_loss: 16.0197 - val_acc: 0.4963\n",
      "Epoch 56/80\n",
      "2730/2730 [==============================] - 0s 14us/step - loss: 15.6030 - acc: 0.5018 - val_loss: 15.9209 - val_acc: 0.4993\n",
      "Epoch 57/80\n",
      "2730/2730 [==============================] - 0s 14us/step - loss: 15.5048 - acc: 0.4985 - val_loss: 15.8227 - val_acc: 0.4949\n",
      "Epoch 58/80\n",
      "2730/2730 [==============================] - 0s 14us/step - loss: 15.4066 - acc: 0.5022 - val_loss: 15.7248 - val_acc: 0.4919\n",
      "Epoch 59/80\n",
      "2730/2730 [==============================] - 0s 14us/step - loss: 15.3089 - acc: 0.4930 - val_loss: 15.6276 - val_acc: 0.4919\n",
      "Epoch 60/80\n",
      "2730/2730 [==============================] - 0s 14us/step - loss: 15.2119 - acc: 0.5081 - val_loss: 15.5308 - val_acc: 0.4934\n",
      "Epoch 61/80\n",
      "2730/2730 [==============================] - 0s 14us/step - loss: 15.1148 - acc: 0.5033 - val_loss: 15.4344 - val_acc: 0.4934\n",
      "Epoch 62/80\n",
      "2730/2730 [==============================] - 0s 14us/step - loss: 15.0179 - acc: 0.5037 - val_loss: 15.3386 - val_acc: 0.4890\n",
      "Epoch 63/80\n",
      "2730/2730 [==============================] - 0s 14us/step - loss: 14.9223 - acc: 0.5121 - val_loss: 15.2433 - val_acc: 0.4890\n",
      "Epoch 64/80\n",
      "2730/2730 [==============================] - 0s 14us/step - loss: 14.8266 - acc: 0.5073 - val_loss: 15.1485 - val_acc: 0.4905\n",
      "Epoch 65/80\n",
      "2730/2730 [==============================] - 0s 14us/step - loss: 14.7326 - acc: 0.4927 - val_loss: 15.0541 - val_acc: 0.4919\n",
      "Epoch 66/80\n",
      "2730/2730 [==============================] - 0s 14us/step - loss: 14.6370 - acc: 0.5128 - val_loss: 14.9603 - val_acc: 0.4890\n",
      "Epoch 67/80\n",
      "2730/2730 [==============================] - 0s 14us/step - loss: 14.5439 - acc: 0.5147 - val_loss: 14.8668 - val_acc: 0.4905\n",
      "Epoch 68/80\n",
      "2730/2730 [==============================] - 0s 14us/step - loss: 14.4496 - acc: 0.5227 - val_loss: 14.7738 - val_acc: 0.4890\n",
      "Epoch 69/80\n",
      "2730/2730 [==============================] - 0s 14us/step - loss: 14.3577 - acc: 0.5081 - val_loss: 14.6813 - val_acc: 0.4890\n",
      "Epoch 70/80\n",
      "2730/2730 [==============================] - 0s 14us/step - loss: 14.2659 - acc: 0.4956 - val_loss: 14.5892 - val_acc: 0.4890\n",
      "Epoch 71/80\n",
      "2730/2730 [==============================] - 0s 14us/step - loss: 14.1741 - acc: 0.5033 - val_loss: 14.4976 - val_acc: 0.4890\n",
      "Epoch 72/80\n",
      "2730/2730 [==============================] - 0s 14us/step - loss: 14.0824 - acc: 0.4883 - val_loss: 14.4064 - val_acc: 0.4861\n",
      "Epoch 73/80\n",
      "2730/2730 [==============================] - 0s 14us/step - loss: 13.9897 - acc: 0.5084 - val_loss: 14.3157 - val_acc: 0.4876\n",
      "Epoch 74/80\n",
      "2730/2730 [==============================] - 0s 14us/step - loss: 13.9007 - acc: 0.4956 - val_loss: 14.2254 - val_acc: 0.4876\n",
      "Epoch 75/80\n",
      "2730/2730 [==============================] - 0s 14us/step - loss: 13.8096 - acc: 0.5004 - val_loss: 14.1356 - val_acc: 0.4890\n",
      "Epoch 76/80\n",
      "2730/2730 [==============================] - 0s 14us/step - loss: 13.7195 - acc: 0.5044 - val_loss: 14.0462 - val_acc: 0.4905\n",
      "Epoch 77/80\n",
      "2730/2730 [==============================] - 0s 14us/step - loss: 13.6307 - acc: 0.4963 - val_loss: 13.9574 - val_acc: 0.4905\n",
      "Epoch 78/80\n",
      "2730/2730 [==============================] - 0s 14us/step - loss: 13.5436 - acc: 0.4886 - val_loss: 13.8690 - val_acc: 0.4934\n",
      "Epoch 79/80\n",
      "2730/2730 [==============================] - 0s 14us/step - loss: 13.4531 - acc: 0.5077 - val_loss: 13.7811 - val_acc: 0.4949\n",
      "Epoch 80/80\n",
      "2730/2730 [==============================] - 0s 14us/step - loss: 13.3666 - acc: 0.4941 - val_loss: 13.6936 - val_acc: 0.4949\n",
      "Train on 2730 samples, validate on 683 samples\n",
      "Epoch 1/120\n",
      "2730/2730 [==============================] - 0s 14us/step - loss: 13.2782 - acc: 0.4963 - val_loss: 13.6065 - val_acc: 0.4934\n",
      "Epoch 2/120\n",
      "2730/2730 [==============================] - 0s 14us/step - loss: 13.1918 - acc: 0.4993 - val_loss: 13.5199 - val_acc: 0.4934\n",
      "Epoch 3/120\n",
      "2730/2730 [==============================] - 0s 14us/step - loss: 13.1046 - acc: 0.5000 - val_loss: 13.4336 - val_acc: 0.4949\n",
      "Epoch 4/120\n"
     ]
    },
    {
     "name": "stdout",
     "output_type": "stream",
     "text": [
      "2730/2730 [==============================] - 0s 14us/step - loss: 13.0182 - acc: 0.5048 - val_loss: 13.3477 - val_acc: 0.4919\n",
      "Epoch 5/120\n",
      "2730/2730 [==============================] - 0s 14us/step - loss: 12.9326 - acc: 0.5037 - val_loss: 13.2623 - val_acc: 0.4949\n",
      "Epoch 6/120\n",
      "2730/2730 [==============================] - 0s 14us/step - loss: 12.8473 - acc: 0.4956 - val_loss: 13.1773 - val_acc: 0.4963\n",
      "Epoch 7/120\n",
      "2730/2730 [==============================] - 0s 14us/step - loss: 12.7609 - acc: 0.5011 - val_loss: 13.0928 - val_acc: 0.4949\n",
      "Epoch 8/120\n",
      "2730/2730 [==============================] - 0s 15us/step - loss: 12.6761 - acc: 0.5092 - val_loss: 13.0088 - val_acc: 0.4949\n",
      "Epoch 9/120\n",
      "2730/2730 [==============================] - 0s 14us/step - loss: 12.5937 - acc: 0.5004 - val_loss: 12.9252 - val_acc: 0.4934\n",
      "Epoch 10/120\n",
      "2730/2730 [==============================] - 0s 14us/step - loss: 12.5087 - acc: 0.5059 - val_loss: 12.8421 - val_acc: 0.4919\n",
      "Epoch 11/120\n",
      "2730/2730 [==============================] - 0s 14us/step - loss: 12.4265 - acc: 0.5117 - val_loss: 12.7593 - val_acc: 0.4919\n",
      "Epoch 12/120\n",
      "2730/2730 [==============================] - 0s 14us/step - loss: 12.3435 - acc: 0.5095 - val_loss: 12.6771 - val_acc: 0.4890\n",
      "Epoch 13/120\n",
      "2730/2730 [==============================] - 0s 14us/step - loss: 12.2611 - acc: 0.5092 - val_loss: 12.5953 - val_acc: 0.4905\n",
      "Epoch 14/120\n",
      "2730/2730 [==============================] - 0s 14us/step - loss: 12.1800 - acc: 0.5000 - val_loss: 12.5139 - val_acc: 0.4905\n",
      "Epoch 15/120\n",
      "2730/2730 [==============================] - 0s 14us/step - loss: 12.0989 - acc: 0.4982 - val_loss: 12.4330 - val_acc: 0.4919\n",
      "Epoch 16/120\n",
      "2730/2730 [==============================] - 0s 14us/step - loss: 12.0172 - acc: 0.5015 - val_loss: 12.3523 - val_acc: 0.4919\n",
      "Epoch 17/120\n",
      "2730/2730 [==============================] - 0s 14us/step - loss: 11.9373 - acc: 0.5044 - val_loss: 12.2723 - val_acc: 0.4919\n",
      "Epoch 18/120\n",
      "2730/2730 [==============================] - 0s 14us/step - loss: 11.8571 - acc: 0.5051 - val_loss: 12.1927 - val_acc: 0.4934\n",
      "Epoch 19/120\n",
      "2730/2730 [==============================] - 0s 14us/step - loss: 11.7760 - acc: 0.5062 - val_loss: 12.1134 - val_acc: 0.4949\n",
      "Epoch 20/120\n",
      "2730/2730 [==============================] - 0s 14us/step - loss: 11.6981 - acc: 0.4978 - val_loss: 12.0345 - val_acc: 0.4949\n",
      "Epoch 21/120\n",
      "2730/2730 [==============================] - 0s 14us/step - loss: 11.6173 - acc: 0.5114 - val_loss: 11.9561 - val_acc: 0.4949\n",
      "Epoch 22/120\n",
      "2730/2730 [==============================] - 0s 14us/step - loss: 11.5411 - acc: 0.4993 - val_loss: 11.8781 - val_acc: 0.4949\n",
      "Epoch 23/120\n",
      "2730/2730 [==============================] - 0s 14us/step - loss: 11.4628 - acc: 0.5066 - val_loss: 11.8005 - val_acc: 0.4949\n",
      "Epoch 24/120\n",
      "2730/2730 [==============================] - 0s 14us/step - loss: 11.3852 - acc: 0.4963 - val_loss: 11.7234 - val_acc: 0.4949\n",
      "Epoch 25/120\n",
      "2730/2730 [==============================] - 0s 14us/step - loss: 11.3080 - acc: 0.5026 - val_loss: 11.6466 - val_acc: 0.4949\n",
      "Epoch 26/120\n",
      "2730/2730 [==============================] - 0s 14us/step - loss: 11.2317 - acc: 0.4978 - val_loss: 11.5704 - val_acc: 0.4949\n",
      "Epoch 27/120\n",
      "2730/2730 [==============================] - 0s 14us/step - loss: 11.1553 - acc: 0.4952 - val_loss: 11.4945 - val_acc: 0.4949\n",
      "Epoch 28/120\n",
      "2730/2730 [==============================] - 0s 14us/step - loss: 11.0786 - acc: 0.5040 - val_loss: 11.4189 - val_acc: 0.4963\n",
      "Epoch 29/120\n",
      "2730/2730 [==============================] - 0s 14us/step - loss: 11.0031 - acc: 0.5018 - val_loss: 11.3438 - val_acc: 0.4963\n",
      "Epoch 30/120\n",
      "2730/2730 [==============================] - 0s 14us/step - loss: 10.9271 - acc: 0.5143 - val_loss: 11.2691 - val_acc: 0.4949\n",
      "Epoch 31/120\n",
      "2730/2730 [==============================] - 0s 14us/step - loss: 10.8510 - acc: 0.5223 - val_loss: 11.1948 - val_acc: 0.4934\n",
      "Epoch 32/120\n",
      "2730/2730 [==============================] - 0s 14us/step - loss: 10.7772 - acc: 0.5128 - val_loss: 11.1209 - val_acc: 0.4934\n",
      "Epoch 33/120\n",
      "2730/2730 [==============================] - 0s 14us/step - loss: 10.7037 - acc: 0.5081 - val_loss: 11.0475 - val_acc: 0.4949\n",
      "Epoch 34/120\n",
      "2730/2730 [==============================] - 0s 14us/step - loss: 10.6301 - acc: 0.5165 - val_loss: 10.9745 - val_acc: 0.4978\n",
      "Epoch 35/120\n",
      "2730/2730 [==============================] - 0s 14us/step - loss: 10.5567 - acc: 0.5084 - val_loss: 10.9019 - val_acc: 0.4978\n",
      "Epoch 36/120\n",
      "2730/2730 [==============================] - 0s 14us/step - loss: 10.4847 - acc: 0.5037 - val_loss: 10.8297 - val_acc: 0.4963\n",
      "Epoch 37/120\n",
      "2730/2730 [==============================] - 0s 14us/step - loss: 10.4111 - acc: 0.5154 - val_loss: 10.7579 - val_acc: 0.4963\n",
      "Epoch 38/120\n",
      "2730/2730 [==============================] - 0s 14us/step - loss: 10.3407 - acc: 0.5059 - val_loss: 10.6867 - val_acc: 0.4993\n",
      "Epoch 39/120\n",
      "2730/2730 [==============================] - 0s 14us/step - loss: 10.2695 - acc: 0.5158 - val_loss: 10.6158 - val_acc: 0.4993\n",
      "Epoch 40/120\n",
      "2730/2730 [==============================] - 0s 14us/step - loss: 10.1971 - acc: 0.5088 - val_loss: 10.5453 - val_acc: 0.5007\n",
      "Epoch 41/120\n",
      "2730/2730 [==============================] - 0s 14us/step - loss: 10.1255 - acc: 0.5117 - val_loss: 10.4752 - val_acc: 0.5007\n",
      "Epoch 42/120\n",
      "2730/2730 [==============================] - 0s 14us/step - loss: 10.0572 - acc: 0.5066 - val_loss: 10.4055 - val_acc: 0.4963\n",
      "Epoch 43/120\n",
      "2730/2730 [==============================] - 0s 14us/step - loss: 9.9882 - acc: 0.5051 - val_loss: 10.3361 - val_acc: 0.4963\n",
      "Epoch 44/120\n",
      "2730/2730 [==============================] - 0s 14us/step - loss: 9.9161 - acc: 0.5161 - val_loss: 10.2672 - val_acc: 0.4963\n",
      "Epoch 45/120\n",
      "2730/2730 [==============================] - 0s 14us/step - loss: 9.8498 - acc: 0.4919 - val_loss: 10.1987 - val_acc: 0.4949\n",
      "Epoch 46/120\n",
      "2730/2730 [==============================] - 0s 14us/step - loss: 9.7793 - acc: 0.5044 - val_loss: 10.1306 - val_acc: 0.4963\n",
      "Epoch 47/120\n",
      "2730/2730 [==============================] - 0s 14us/step - loss: 9.7121 - acc: 0.4989 - val_loss: 10.0630 - val_acc: 0.4934\n",
      "Epoch 48/120\n",
      "2730/2730 [==============================] - 0s 14us/step - loss: 9.6439 - acc: 0.5040 - val_loss: 9.9957 - val_acc: 0.4905\n",
      "Epoch 49/120\n",
      "2730/2730 [==============================] - 0s 14us/step - loss: 9.5761 - acc: 0.5059 - val_loss: 9.9288 - val_acc: 0.4919\n",
      "Epoch 50/120\n",
      "2730/2730 [==============================] - 0s 14us/step - loss: 9.5113 - acc: 0.4941 - val_loss: 9.8622 - val_acc: 0.4949\n",
      "Epoch 51/120\n",
      "2730/2730 [==============================] - 0s 14us/step - loss: 9.4422 - acc: 0.4974 - val_loss: 9.7959 - val_acc: 0.4905\n",
      "Epoch 52/120\n",
      "2730/2730 [==============================] - 0s 14us/step - loss: 9.3751 - acc: 0.5139 - val_loss: 9.7301 - val_acc: 0.4934\n",
      "Epoch 53/120\n",
      "2730/2730 [==============================] - 0s 14us/step - loss: 9.3108 - acc: 0.5051 - val_loss: 9.6645 - val_acc: 0.4963\n",
      "Epoch 54/120\n",
      "2730/2730 [==============================] - 0s 14us/step - loss: 9.2454 - acc: 0.4963 - val_loss: 9.5994 - val_acc: 0.4963\n",
      "Epoch 55/120\n",
      "2730/2730 [==============================] - 0s 14us/step - loss: 9.1784 - acc: 0.4982 - val_loss: 9.5346 - val_acc: 0.4934\n",
      "Epoch 56/120\n",
      "2730/2730 [==============================] - 0s 14us/step - loss: 9.1138 - acc: 0.5136 - val_loss: 9.4703 - val_acc: 0.4934\n",
      "Epoch 57/120\n",
      "2730/2730 [==============================] - 0s 14us/step - loss: 9.0492 - acc: 0.4996 - val_loss: 9.4063 - val_acc: 0.4905\n",
      "Epoch 58/120\n",
      "2730/2730 [==============================] - 0s 14us/step - loss: 8.9852 - acc: 0.5037 - val_loss: 9.3426 - val_acc: 0.4890\n",
      "Epoch 59/120\n",
      "2730/2730 [==============================] - 0s 14us/step - loss: 8.9215 - acc: 0.5073 - val_loss: 9.2793 - val_acc: 0.4890\n",
      "Epoch 60/120\n",
      "2730/2730 [==============================] - 0s 14us/step - loss: 8.8578 - acc: 0.5059 - val_loss: 9.2164 - val_acc: 0.4890\n",
      "Epoch 61/120\n",
      "2730/2730 [==============================] - 0s 14us/step - loss: 8.7940 - acc: 0.5168 - val_loss: 9.1540 - val_acc: 0.4905\n",
      "Epoch 62/120\n",
      "2730/2730 [==============================] - 0s 14us/step - loss: 8.7346 - acc: 0.5040 - val_loss: 9.0917 - val_acc: 0.4905\n",
      "Epoch 63/120\n"
     ]
    },
    {
     "name": "stdout",
     "output_type": "stream",
     "text": [
      "2730/2730 [==============================] - 0s 14us/step - loss: 8.6686 - acc: 0.5165 - val_loss: 9.0299 - val_acc: 0.4919\n",
      "Epoch 64/120\n",
      "2730/2730 [==============================] - 0s 14us/step - loss: 8.6091 - acc: 0.4938 - val_loss: 8.9685 - val_acc: 0.4919\n",
      "Epoch 65/120\n",
      "2730/2730 [==============================] - 0s 14us/step - loss: 8.5465 - acc: 0.5073 - val_loss: 8.9075 - val_acc: 0.4934\n",
      "Epoch 66/120\n",
      "2730/2730 [==============================] - 0s 14us/step - loss: 8.4850 - acc: 0.5037 - val_loss: 8.8468 - val_acc: 0.4963\n",
      "Epoch 67/120\n",
      "2730/2730 [==============================] - 0s 14us/step - loss: 8.4250 - acc: 0.5103 - val_loss: 8.7865 - val_acc: 0.4978\n",
      "Epoch 68/120\n",
      "2730/2730 [==============================] - 0s 14us/step - loss: 8.3642 - acc: 0.4971 - val_loss: 8.7265 - val_acc: 0.5022\n",
      "Epoch 69/120\n",
      "2730/2730 [==============================] - 0s 14us/step - loss: 8.3052 - acc: 0.4963 - val_loss: 8.6668 - val_acc: 0.5022\n",
      "Epoch 70/120\n",
      "2730/2730 [==============================] - 0s 14us/step - loss: 8.2465 - acc: 0.4952 - val_loss: 8.6076 - val_acc: 0.5007\n",
      "Epoch 71/120\n",
      "2730/2730 [==============================] - 0s 14us/step - loss: 8.1864 - acc: 0.4982 - val_loss: 8.5486 - val_acc: 0.4993\n",
      "Epoch 72/120\n",
      "2730/2730 [==============================] - 0s 14us/step - loss: 8.1253 - acc: 0.5011 - val_loss: 8.4902 - val_acc: 0.5007\n",
      "Epoch 73/120\n",
      "2730/2730 [==============================] - 0s 14us/step - loss: 8.0675 - acc: 0.5026 - val_loss: 8.4320 - val_acc: 0.4993\n",
      "Epoch 74/120\n",
      "2730/2730 [==============================] - 0s 14us/step - loss: 8.0088 - acc: 0.5092 - val_loss: 8.3743 - val_acc: 0.4993\n",
      "Epoch 75/120\n",
      "2730/2730 [==============================] - 0s 14us/step - loss: 7.9514 - acc: 0.5062 - val_loss: 8.3169 - val_acc: 0.4978\n",
      "Epoch 76/120\n",
      "2730/2730 [==============================] - 0s 14us/step - loss: 7.8934 - acc: 0.5117 - val_loss: 8.2598 - val_acc: 0.4978\n",
      "Epoch 77/120\n",
      "2730/2730 [==============================] - 0s 14us/step - loss: 7.8369 - acc: 0.4985 - val_loss: 8.2030 - val_acc: 0.4949\n",
      "Epoch 78/120\n",
      "2730/2730 [==============================] - 0s 14us/step - loss: 7.7791 - acc: 0.5037 - val_loss: 8.1466 - val_acc: 0.4919\n",
      "Epoch 79/120\n",
      "2730/2730 [==============================] - 0s 14us/step - loss: 7.7223 - acc: 0.5044 - val_loss: 8.0905 - val_acc: 0.4934\n",
      "Epoch 80/120\n",
      "2730/2730 [==============================] - 0s 14us/step - loss: 7.6680 - acc: 0.5015 - val_loss: 8.0347 - val_acc: 0.4919\n",
      "Epoch 81/120\n",
      "2730/2730 [==============================] - 0s 14us/step - loss: 7.6087 - acc: 0.5183 - val_loss: 7.9794 - val_acc: 0.4934\n",
      "Epoch 82/120\n",
      "2730/2730 [==============================] - 0s 14us/step - loss: 7.5575 - acc: 0.4875 - val_loss: 7.9243 - val_acc: 0.4949\n",
      "Epoch 83/120\n",
      "2730/2730 [==============================] - 0s 14us/step - loss: 7.5020 - acc: 0.4916 - val_loss: 7.8695 - val_acc: 0.4949\n",
      "Epoch 84/120\n",
      "2730/2730 [==============================] - 0s 14us/step - loss: 7.4464 - acc: 0.4923 - val_loss: 7.8150 - val_acc: 0.4949\n",
      "Epoch 85/120\n",
      "2730/2730 [==============================] - 0s 14us/step - loss: 7.3915 - acc: 0.5106 - val_loss: 7.7609 - val_acc: 0.4949\n",
      "Epoch 86/120\n",
      "2730/2730 [==============================] - 0s 14us/step - loss: 7.3366 - acc: 0.5106 - val_loss: 7.7071 - val_acc: 0.4963\n",
      "Epoch 87/120\n",
      "2730/2730 [==============================] - 0s 14us/step - loss: 7.2824 - acc: 0.5073 - val_loss: 7.6536 - val_acc: 0.4949\n",
      "Epoch 88/120\n",
      "2730/2730 [==============================] - 0s 14us/step - loss: 7.2295 - acc: 0.5099 - val_loss: 7.6005 - val_acc: 0.4949\n",
      "Epoch 89/120\n",
      "2730/2730 [==============================] - 0s 14us/step - loss: 7.1757 - acc: 0.5073 - val_loss: 7.5478 - val_acc: 0.4890\n",
      "Epoch 90/120\n",
      "2730/2730 [==============================] - 0s 14us/step - loss: 7.1234 - acc: 0.5125 - val_loss: 7.4953 - val_acc: 0.4876\n",
      "Epoch 91/120\n"
     ]
    },
    {
     "ename": "KeyboardInterrupt",
     "evalue": "",
     "output_type": "error",
     "traceback": [
      "\u001b[0;31m---------------------------------------------------------------------------\u001b[0m",
      "\u001b[0;31mKeyboardInterrupt\u001b[0m                         Traceback (most recent call last)",
      "\u001b[0;32m<ipython-input-203-70aaf7726aa4>\u001b[0m in \u001b[0;36m<module>\u001b[0;34m()\u001b[0m\n\u001b[1;32m      1\u001b[0m \u001b[0mdeep_estimator\u001b[0m \u001b[0;34m=\u001b[0m \u001b[0mDeepEstimator\u001b[0m\u001b[0;34m(\u001b[0m\u001b[0;34m)\u001b[0m\u001b[0;34m\u001b[0m\u001b[0m\n\u001b[0;32m----> 2\u001b[0;31m \u001b[0mdeep_estimator\u001b[0m\u001b[0;34m.\u001b[0m\u001b[0mfit\u001b[0m\u001b[0;34m(\u001b[0m\u001b[0mX_train_pca\u001b[0m\u001b[0;34m,\u001b[0m \u001b[0my_train\u001b[0m\u001b[0;34m,\u001b[0m \u001b[0mX_test_pca\u001b[0m\u001b[0;34m,\u001b[0m \u001b[0my_test\u001b[0m\u001b[0;34m)\u001b[0m\u001b[0;34m\u001b[0m\u001b[0m\n\u001b[0m",
      "\u001b[0;32m<ipython-input-202-490ce3fb63b5>\u001b[0m in \u001b[0;36mfit\u001b[0;34m(self, X, y, X_val, y_val)\u001b[0m\n\u001b[1;32m     10\u001b[0m         \u001b[0;32mfor\u001b[0m \u001b[0mlr\u001b[0m\u001b[0;34m,\u001b[0m \u001b[0mepochs\u001b[0m \u001b[0;32min\u001b[0m \u001b[0msched\u001b[0m\u001b[0;34m:\u001b[0m\u001b[0;34m\u001b[0m\u001b[0m\n\u001b[1;32m     11\u001b[0m             \u001b[0mself\u001b[0m\u001b[0;34m.\u001b[0m\u001b[0mmodel\u001b[0m\u001b[0;34m.\u001b[0m\u001b[0moptimizer\u001b[0m\u001b[0;34m.\u001b[0m\u001b[0mlr\u001b[0m \u001b[0;34m=\u001b[0m \u001b[0mlr\u001b[0m\u001b[0;34m\u001b[0m\u001b[0m\n\u001b[0;32m---> 12\u001b[0;31m             \u001b[0mself\u001b[0m\u001b[0;34m.\u001b[0m\u001b[0mmodel\u001b[0m\u001b[0;34m.\u001b[0m\u001b[0mfit\u001b[0m\u001b[0;34m(\u001b[0m\u001b[0mnp\u001b[0m\u001b[0;34m.\u001b[0m\u001b[0marray\u001b[0m\u001b[0;34m(\u001b[0m\u001b[0mX\u001b[0m\u001b[0;34m)\u001b[0m\u001b[0;34m,\u001b[0m \u001b[0mnp\u001b[0m\u001b[0;34m.\u001b[0m\u001b[0marray\u001b[0m\u001b[0;34m(\u001b[0m\u001b[0my\u001b[0m\u001b[0;34m)\u001b[0m\u001b[0;34m,\u001b[0m \u001b[0mepochs\u001b[0m\u001b[0;34m=\u001b[0m\u001b[0mepochs\u001b[0m\u001b[0;34m,\u001b[0m \u001b[0mverbose\u001b[0m\u001b[0;34m=\u001b[0m\u001b[0;32mTrue\u001b[0m\u001b[0;34m,\u001b[0m \u001b[0mclass_weight\u001b[0m\u001b[0;34m=\u001b[0m\u001b[0mclass_weight\u001b[0m\u001b[0;34m,\u001b[0m \u001b[0mbatch_size\u001b[0m\u001b[0;34m=\u001b[0m\u001b[0;36m2048\u001b[0m\u001b[0;34m,\u001b[0m \u001b[0mvalidation_data\u001b[0m\u001b[0;34m=\u001b[0m\u001b[0;34m(\u001b[0m\u001b[0mX_val\u001b[0m\u001b[0;34m,\u001b[0m \u001b[0my_val\u001b[0m\u001b[0;34m)\u001b[0m\u001b[0;34m)\u001b[0m\u001b[0;34m\u001b[0m\u001b[0m\n\u001b[0m\u001b[1;32m     13\u001b[0m         \u001b[0;32mreturn\u001b[0m \u001b[0mself\u001b[0m\u001b[0;34m\u001b[0m\u001b[0m\n\u001b[1;32m     14\u001b[0m     \u001b[0;32mdef\u001b[0m \u001b[0mpredict\u001b[0m\u001b[0;34m(\u001b[0m\u001b[0mself\u001b[0m\u001b[0;34m,\u001b[0m \u001b[0mX\u001b[0m\u001b[0;34m)\u001b[0m\u001b[0;34m:\u001b[0m\u001b[0;34m\u001b[0m\u001b[0m\n",
      "\u001b[0;32m~/anaconda2/envs/sls_sec/lib/python3.6/site-packages/keras/models.py\u001b[0m in \u001b[0;36mfit\u001b[0;34m(self, x, y, batch_size, epochs, verbose, callbacks, validation_split, validation_data, shuffle, class_weight, sample_weight, initial_epoch, steps_per_epoch, validation_steps, **kwargs)\u001b[0m\n\u001b[1;32m   1000\u001b[0m                               \u001b[0minitial_epoch\u001b[0m\u001b[0;34m=\u001b[0m\u001b[0minitial_epoch\u001b[0m\u001b[0;34m,\u001b[0m\u001b[0;34m\u001b[0m\u001b[0m\n\u001b[1;32m   1001\u001b[0m                               \u001b[0msteps_per_epoch\u001b[0m\u001b[0;34m=\u001b[0m\u001b[0msteps_per_epoch\u001b[0m\u001b[0;34m,\u001b[0m\u001b[0;34m\u001b[0m\u001b[0m\n\u001b[0;32m-> 1002\u001b[0;31m                               validation_steps=validation_steps)\n\u001b[0m\u001b[1;32m   1003\u001b[0m \u001b[0;34m\u001b[0m\u001b[0m\n\u001b[1;32m   1004\u001b[0m     def evaluate(self, x=None, y=None,\n",
      "\u001b[0;32m~/anaconda2/envs/sls_sec/lib/python3.6/site-packages/keras/engine/training.py\u001b[0m in \u001b[0;36mfit\u001b[0;34m(self, x, y, batch_size, epochs, verbose, callbacks, validation_split, validation_data, shuffle, class_weight, sample_weight, initial_epoch, steps_per_epoch, validation_steps, **kwargs)\u001b[0m\n\u001b[1;32m   1703\u001b[0m                               \u001b[0minitial_epoch\u001b[0m\u001b[0;34m=\u001b[0m\u001b[0minitial_epoch\u001b[0m\u001b[0;34m,\u001b[0m\u001b[0;34m\u001b[0m\u001b[0m\n\u001b[1;32m   1704\u001b[0m                               \u001b[0msteps_per_epoch\u001b[0m\u001b[0;34m=\u001b[0m\u001b[0msteps_per_epoch\u001b[0m\u001b[0;34m,\u001b[0m\u001b[0;34m\u001b[0m\u001b[0m\n\u001b[0;32m-> 1705\u001b[0;31m                               validation_steps=validation_steps)\n\u001b[0m\u001b[1;32m   1706\u001b[0m \u001b[0;34m\u001b[0m\u001b[0m\n\u001b[1;32m   1707\u001b[0m     def evaluate(self, x=None, y=None,\n",
      "\u001b[0;32m~/anaconda2/envs/sls_sec/lib/python3.6/site-packages/keras/engine/training.py\u001b[0m in \u001b[0;36m_fit_loop\u001b[0;34m(self, f, ins, out_labels, batch_size, epochs, verbose, callbacks, val_f, val_ins, shuffle, callback_metrics, initial_epoch, steps_per_epoch, validation_steps)\u001b[0m\n\u001b[1;32m   1220\u001b[0m                         \u001b[0;32mif\u001b[0m \u001b[0misinstance\u001b[0m\u001b[0;34m(\u001b[0m\u001b[0mins\u001b[0m\u001b[0;34m[\u001b[0m\u001b[0;34m-\u001b[0m\u001b[0;36m1\u001b[0m\u001b[0;34m]\u001b[0m\u001b[0;34m,\u001b[0m \u001b[0mfloat\u001b[0m\u001b[0;34m)\u001b[0m\u001b[0;34m:\u001b[0m\u001b[0;34m\u001b[0m\u001b[0m\n\u001b[1;32m   1221\u001b[0m                             \u001b[0;31m# Do not slice the training phase flag.\u001b[0m\u001b[0;34m\u001b[0m\u001b[0;34m\u001b[0m\u001b[0m\n\u001b[0;32m-> 1222\u001b[0;31m                             \u001b[0mins_batch\u001b[0m \u001b[0;34m=\u001b[0m \u001b[0m_slice_arrays\u001b[0m\u001b[0;34m(\u001b[0m\u001b[0mins\u001b[0m\u001b[0;34m[\u001b[0m\u001b[0;34m:\u001b[0m\u001b[0;34m-\u001b[0m\u001b[0;36m1\u001b[0m\u001b[0;34m]\u001b[0m\u001b[0;34m,\u001b[0m \u001b[0mbatch_ids\u001b[0m\u001b[0;34m)\u001b[0m \u001b[0;34m+\u001b[0m \u001b[0;34m[\u001b[0m\u001b[0mins\u001b[0m\u001b[0;34m[\u001b[0m\u001b[0;34m-\u001b[0m\u001b[0;36m1\u001b[0m\u001b[0;34m]\u001b[0m\u001b[0;34m]\u001b[0m\u001b[0;34m\u001b[0m\u001b[0m\n\u001b[0m\u001b[1;32m   1223\u001b[0m                         \u001b[0;32melse\u001b[0m\u001b[0;34m:\u001b[0m\u001b[0;34m\u001b[0m\u001b[0m\n\u001b[1;32m   1224\u001b[0m                             \u001b[0mins_batch\u001b[0m \u001b[0;34m=\u001b[0m \u001b[0m_slice_arrays\u001b[0m\u001b[0;34m(\u001b[0m\u001b[0mins\u001b[0m\u001b[0;34m,\u001b[0m \u001b[0mbatch_ids\u001b[0m\u001b[0;34m)\u001b[0m\u001b[0;34m\u001b[0m\u001b[0m\n",
      "\u001b[0;32m~/anaconda2/envs/sls_sec/lib/python3.6/site-packages/keras/engine/training.py\u001b[0m in \u001b[0;36m_slice_arrays\u001b[0;34m(arrays, start, stop)\u001b[0m\n\u001b[1;32m    383\u001b[0m             \u001b[0;32mif\u001b[0m \u001b[0mhasattr\u001b[0m\u001b[0;34m(\u001b[0m\u001b[0mstart\u001b[0m\u001b[0;34m,\u001b[0m \u001b[0;34m'shape'\u001b[0m\u001b[0;34m)\u001b[0m\u001b[0;34m:\u001b[0m\u001b[0;34m\u001b[0m\u001b[0m\n\u001b[1;32m    384\u001b[0m                 \u001b[0mstart\u001b[0m \u001b[0;34m=\u001b[0m \u001b[0mstart\u001b[0m\u001b[0;34m.\u001b[0m\u001b[0mtolist\u001b[0m\u001b[0;34m(\u001b[0m\u001b[0;34m)\u001b[0m\u001b[0;34m\u001b[0m\u001b[0m\n\u001b[0;32m--> 385\u001b[0;31m             \u001b[0;32mreturn\u001b[0m \u001b[0;34m[\u001b[0m\u001b[0;32mNone\u001b[0m \u001b[0;32mif\u001b[0m \u001b[0mx\u001b[0m \u001b[0;32mis\u001b[0m \u001b[0;32mNone\u001b[0m \u001b[0;32melse\u001b[0m \u001b[0mx\u001b[0m\u001b[0;34m[\u001b[0m\u001b[0mstart\u001b[0m\u001b[0;34m]\u001b[0m \u001b[0;32mfor\u001b[0m \u001b[0mx\u001b[0m \u001b[0;32min\u001b[0m \u001b[0marrays\u001b[0m\u001b[0;34m]\u001b[0m\u001b[0;34m\u001b[0m\u001b[0m\n\u001b[0m\u001b[1;32m    386\u001b[0m         \u001b[0;32melse\u001b[0m\u001b[0;34m:\u001b[0m\u001b[0;34m\u001b[0m\u001b[0m\n\u001b[1;32m    387\u001b[0m             \u001b[0;32mreturn\u001b[0m \u001b[0;34m[\u001b[0m\u001b[0;32mNone\u001b[0m \u001b[0;32mif\u001b[0m \u001b[0mx\u001b[0m \u001b[0;32mis\u001b[0m \u001b[0;32mNone\u001b[0m \u001b[0;32melse\u001b[0m \u001b[0mx\u001b[0m\u001b[0;34m[\u001b[0m\u001b[0mstart\u001b[0m\u001b[0;34m:\u001b[0m\u001b[0mstop\u001b[0m\u001b[0;34m]\u001b[0m \u001b[0;32mfor\u001b[0m \u001b[0mx\u001b[0m \u001b[0;32min\u001b[0m \u001b[0marrays\u001b[0m\u001b[0;34m]\u001b[0m\u001b[0;34m\u001b[0m\u001b[0m\n",
      "\u001b[0;32m~/anaconda2/envs/sls_sec/lib/python3.6/site-packages/keras/engine/training.py\u001b[0m in \u001b[0;36m<listcomp>\u001b[0;34m(.0)\u001b[0m\n\u001b[1;32m    383\u001b[0m             \u001b[0;32mif\u001b[0m \u001b[0mhasattr\u001b[0m\u001b[0;34m(\u001b[0m\u001b[0mstart\u001b[0m\u001b[0;34m,\u001b[0m \u001b[0;34m'shape'\u001b[0m\u001b[0;34m)\u001b[0m\u001b[0;34m:\u001b[0m\u001b[0;34m\u001b[0m\u001b[0m\n\u001b[1;32m    384\u001b[0m                 \u001b[0mstart\u001b[0m \u001b[0;34m=\u001b[0m \u001b[0mstart\u001b[0m\u001b[0;34m.\u001b[0m\u001b[0mtolist\u001b[0m\u001b[0;34m(\u001b[0m\u001b[0;34m)\u001b[0m\u001b[0;34m\u001b[0m\u001b[0m\n\u001b[0;32m--> 385\u001b[0;31m             \u001b[0;32mreturn\u001b[0m \u001b[0;34m[\u001b[0m\u001b[0;32mNone\u001b[0m \u001b[0;32mif\u001b[0m \u001b[0mx\u001b[0m \u001b[0;32mis\u001b[0m \u001b[0;32mNone\u001b[0m \u001b[0;32melse\u001b[0m \u001b[0mx\u001b[0m\u001b[0;34m[\u001b[0m\u001b[0mstart\u001b[0m\u001b[0;34m]\u001b[0m \u001b[0;32mfor\u001b[0m \u001b[0mx\u001b[0m \u001b[0;32min\u001b[0m \u001b[0marrays\u001b[0m\u001b[0;34m]\u001b[0m\u001b[0;34m\u001b[0m\u001b[0m\n\u001b[0m\u001b[1;32m    386\u001b[0m         \u001b[0;32melse\u001b[0m\u001b[0;34m:\u001b[0m\u001b[0;34m\u001b[0m\u001b[0m\n\u001b[1;32m    387\u001b[0m             \u001b[0;32mreturn\u001b[0m \u001b[0;34m[\u001b[0m\u001b[0;32mNone\u001b[0m \u001b[0;32mif\u001b[0m \u001b[0mx\u001b[0m \u001b[0;32mis\u001b[0m \u001b[0;32mNone\u001b[0m \u001b[0;32melse\u001b[0m \u001b[0mx\u001b[0m\u001b[0;34m[\u001b[0m\u001b[0mstart\u001b[0m\u001b[0;34m:\u001b[0m\u001b[0mstop\u001b[0m\u001b[0;34m]\u001b[0m \u001b[0;32mfor\u001b[0m \u001b[0mx\u001b[0m \u001b[0;32min\u001b[0m \u001b[0marrays\u001b[0m\u001b[0;34m]\u001b[0m\u001b[0;34m\u001b[0m\u001b[0m\n",
      "\u001b[0;31mKeyboardInterrupt\u001b[0m: "
     ]
    }
   ],
   "source": [
    "deep_estimator = DeepEstimator()\n",
    "deep_estimator.fit(X_train_pca, y_train, X_test_pca, y_test)"
   ]
  },
  {
   "cell_type": "code",
   "execution_count": 173,
   "metadata": {},
   "outputs": [],
   "source": [
    "def get_pca():\n",
    "    X_train, X_test, y_train_continuous, y_test_continuous = train_test_split(X, y, test_size=0.2, random_state=42)\n",
    "\n",
    "    y_train = bool_arr(y_train_continuous, 0.0)\n",
    "    y_test = bool_arr(y_test_continuous, 0.0)\n",
    "\n",
    "    from sklearn.decomposition import PCA\n",
    "    pca = PCA()\n",
    "    pca.fit(X_train)\n",
    "    X_train_pca = pca.transform(X_train)\n",
    "    X_test_pca = pca.transform(X_test)\n",
    "    return [X_train_pca, X_test_pca]\n",
    "    "
   ]
  },
  {
   "cell_type": "code",
   "execution_count": 196,
   "metadata": {},
   "outputs": [
    {
     "name": "stderr",
     "output_type": "stream",
     "text": [
      "100%|██████████| 10/10 [00:00<00:00, 1172.51it/s]\n"
     ]
    },
    {
     "data": {
      "image/png": "[encoded data removed]",
      "text/plain": [
       "<Figure size 432x288 with 1 Axes>"
      ]
     },
     "metadata": {},
     "output_type": "display_data"
    }
   ],
   "source": []
  },
  {
   "cell_type": "code",
   "execution_count": 169,
   "metadata": {},
   "outputs": [
    {
     "data": {
      "text/plain": [
       "-0.00016559160722919868"
      ]
     },
     "execution_count": 169,
     "metadata": {},
     "output_type": "execute_result"
    }
   ],
   "source": [
    "np.average(y_test_continuous)"
   ]
  },
  {
   "cell_type": "code",
   "execution_count": 159,
   "metadata": {},
   "outputs": [],
   "source": [
    "preds = deep_estimator.predict(X_train_pca)"
   ]
  },
  {
   "cell_type": "code",
   "execution_count": 127,
   "metadata": {},
   "outputs": [
    {
     "data": {
      "text/plain": [
       "array([[0.18163335],\n",
       "       [0.18946415],\n",
       "       [0.18070437],\n",
       "       ...,\n",
       "       [0.19051173],\n",
       "       [0.18986735],\n",
       "       [0.18386003]], dtype=float32)"
      ]
     },
     "execution_count": 127,
     "metadata": {},
     "output_type": "execute_result"
    }
   ],
   "source": [
    "preds"
   ]
  },
  {
   "cell_type": "code",
   "execution_count": 195,
   "metadata": {},
   "outputs": [
    {
     "ename": "ValueError",
     "evalue": "Error when checking : expected batch_normalization_64_input to have shape (2730,) but got array with shape (50429,)",
     "output_type": "error",
     "traceback": [
      "\u001b[0;31m---------------------------------------------------------------------------\u001b[0m",
      "\u001b[0;31mValueError\u001b[0m                                Traceback (most recent call last)",
      "\u001b[0;32m<ipython-input-195-c7c55b532fa2>\u001b[0m in \u001b[0;36m<module>\u001b[0;34m()\u001b[0m\n\u001b[1;32m     22\u001b[0m \u001b[0mxs\u001b[0m \u001b[0;34m=\u001b[0m \u001b[0;34m[\u001b[0m\u001b[0;34m]\u001b[0m\u001b[0;34m\u001b[0m\u001b[0m\n\u001b[1;32m     23\u001b[0m \u001b[0;32mfor\u001b[0m \u001b[0mi\u001b[0m \u001b[0;32min\u001b[0m \u001b[0mnp\u001b[0m\u001b[0;34m.\u001b[0m\u001b[0mlinspace\u001b[0m\u001b[0;34m(\u001b[0m\u001b[0;36m0.1\u001b[0m\u001b[0;34m,\u001b[0m \u001b[0;36m1\u001b[0m\u001b[0;34m,\u001b[0m \u001b[0mnum\u001b[0m\u001b[0;34m=\u001b[0m\u001b[0;36m10\u001b[0m\u001b[0;34m)\u001b[0m\u001b[0;34m:\u001b[0m\u001b[0;34m\u001b[0m\u001b[0m\n\u001b[0;32m---> 24\u001b[0;31m     \u001b[0msc\u001b[0m \u001b[0;34m=\u001b[0m \u001b[0mscore\u001b[0m\u001b[0;34m(\u001b[0m\u001b[0mdeep_estimator\u001b[0m\u001b[0;34m,\u001b[0m \u001b[0mX_test\u001b[0m\u001b[0;34m,\u001b[0m \u001b[0my_test_continuous\u001b[0m\u001b[0;34m,\u001b[0m\u001b[0mi\u001b[0m\u001b[0;34m)\u001b[0m\u001b[0;34m\u001b[0m\u001b[0m\n\u001b[0m\u001b[1;32m     25\u001b[0m     \u001b[0mys_attained\u001b[0m\u001b[0;34m.\u001b[0m\u001b[0mappend\u001b[0m\u001b[0;34m(\u001b[0m\u001b[0msc\u001b[0m\u001b[0;34m[\u001b[0m\u001b[0;36m0\u001b[0m\u001b[0;34m]\u001b[0m\u001b[0;34m)\u001b[0m\u001b[0;34m\u001b[0m\u001b[0m\n\u001b[1;32m     26\u001b[0m     \u001b[0mys_potential\u001b[0m\u001b[0;34m.\u001b[0m\u001b[0mappend\u001b[0m\u001b[0;34m(\u001b[0m\u001b[0msc\u001b[0m\u001b[0;34m[\u001b[0m\u001b[0;36m1\u001b[0m\u001b[0;34m]\u001b[0m\u001b[0;34m)\u001b[0m\u001b[0;34m\u001b[0m\u001b[0m\n",
      "\u001b[0;32m<ipython-input-195-c7c55b532fa2>\u001b[0m in \u001b[0;36mscore\u001b[0;34m(est, X, y, cutoff)\u001b[0m\n\u001b[1;32m      1\u001b[0m \u001b[0;32mdef\u001b[0m \u001b[0mscore\u001b[0m\u001b[0;34m(\u001b[0m\u001b[0mest\u001b[0m\u001b[0;34m,\u001b[0m \u001b[0mX\u001b[0m\u001b[0;34m,\u001b[0m \u001b[0my\u001b[0m\u001b[0;34m,\u001b[0m \u001b[0mcutoff\u001b[0m\u001b[0;34m)\u001b[0m\u001b[0;34m:\u001b[0m\u001b[0;34m\u001b[0m\u001b[0m\n\u001b[0;32m----> 2\u001b[0;31m     \u001b[0my_pred\u001b[0m \u001b[0;34m=\u001b[0m \u001b[0mest\u001b[0m\u001b[0;34m.\u001b[0m\u001b[0mpredict\u001b[0m\u001b[0;34m(\u001b[0m\u001b[0mX\u001b[0m\u001b[0;34m)\u001b[0m\u001b[0;34m\u001b[0m\u001b[0m\n\u001b[0m\u001b[1;32m      3\u001b[0m     \u001b[0my_pred_proba\u001b[0m \u001b[0;34m=\u001b[0m \u001b[0mest\u001b[0m\u001b[0;34m.\u001b[0m\u001b[0mmodel\u001b[0m\u001b[0;34m.\u001b[0m\u001b[0mpredict_proba\u001b[0m\u001b[0;34m(\u001b[0m\u001b[0mX\u001b[0m\u001b[0;34m)\u001b[0m\u001b[0;34m\u001b[0m\u001b[0m\n\u001b[1;32m      4\u001b[0m     \u001b[0;31m# Invest if over cutoff% confident\u001b[0m\u001b[0;34m\u001b[0m\u001b[0;34m\u001b[0m\u001b[0m\n\u001b[1;32m      5\u001b[0m     \u001b[0my_pred_bool\u001b[0m \u001b[0;34m=\u001b[0m \u001b[0mbool_arr\u001b[0m\u001b[0;34m(\u001b[0m\u001b[0my_pred\u001b[0m\u001b[0;34m,\u001b[0m \u001b[0mcutoff\u001b[0m\u001b[0;34m)\u001b[0m\u001b[0;34m\u001b[0m\u001b[0m\n",
      "\u001b[0;32m<ipython-input-192-2e72d4bf757b>\u001b[0m in \u001b[0;36mpredict\u001b[0;34m(self, X)\u001b[0m\n\u001b[1;32m     13\u001b[0m         \u001b[0;32mreturn\u001b[0m \u001b[0mself\u001b[0m\u001b[0;34m\u001b[0m\u001b[0m\n\u001b[1;32m     14\u001b[0m     \u001b[0;32mdef\u001b[0m \u001b[0mpredict\u001b[0m\u001b[0;34m(\u001b[0m\u001b[0mself\u001b[0m\u001b[0;34m,\u001b[0m \u001b[0mX\u001b[0m\u001b[0;34m)\u001b[0m\u001b[0;34m:\u001b[0m\u001b[0;34m\u001b[0m\u001b[0m\n\u001b[0;32m---> 15\u001b[0;31m         \u001b[0;32mreturn\u001b[0m \u001b[0mself\u001b[0m\u001b[0;34m.\u001b[0m\u001b[0mmodel\u001b[0m\u001b[0;34m.\u001b[0m\u001b[0mpredict\u001b[0m\u001b[0;34m(\u001b[0m\u001b[0mX\u001b[0m\u001b[0;34m)\u001b[0m\u001b[0;34m\u001b[0m\u001b[0m\n\u001b[0m\u001b[1;32m     16\u001b[0m \u001b[0;34m\u001b[0m\u001b[0m\n\u001b[1;32m     17\u001b[0m     \u001b[0;32mdef\u001b[0m \u001b[0mpredict_proba\u001b[0m\u001b[0;34m(\u001b[0m\u001b[0mself\u001b[0m\u001b[0;34m,\u001b[0m \u001b[0mX\u001b[0m\u001b[0;34m)\u001b[0m\u001b[0;34m:\u001b[0m\u001b[0;34m\u001b[0m\u001b[0m\n",
      "\u001b[0;32m~/anaconda2/envs/sls_sec/lib/python3.6/site-packages/keras/models.py\u001b[0m in \u001b[0;36mpredict\u001b[0;34m(self, x, batch_size, verbose, steps)\u001b[0m\n\u001b[1;32m   1062\u001b[0m             \u001b[0mself\u001b[0m\u001b[0;34m.\u001b[0m\u001b[0mbuild\u001b[0m\u001b[0;34m(\u001b[0m\u001b[0;34m)\u001b[0m\u001b[0;34m\u001b[0m\u001b[0m\n\u001b[1;32m   1063\u001b[0m         return self.model.predict(x, batch_size=batch_size, verbose=verbose,\n\u001b[0;32m-> 1064\u001b[0;31m                                   steps=steps)\n\u001b[0m\u001b[1;32m   1065\u001b[0m \u001b[0;34m\u001b[0m\u001b[0m\n\u001b[1;32m   1066\u001b[0m     \u001b[0;32mdef\u001b[0m \u001b[0mpredict_on_batch\u001b[0m\u001b[0;34m(\u001b[0m\u001b[0mself\u001b[0m\u001b[0;34m,\u001b[0m \u001b[0mx\u001b[0m\u001b[0;34m)\u001b[0m\u001b[0;34m:\u001b[0m\u001b[0;34m\u001b[0m\u001b[0m\n",
      "\u001b[0;32m~/anaconda2/envs/sls_sec/lib/python3.6/site-packages/keras/engine/training.py\u001b[0m in \u001b[0;36mpredict\u001b[0;34m(self, x, batch_size, verbose, steps)\u001b[0m\n\u001b[1;32m   1815\u001b[0m         x = _standardize_input_data(x, self._feed_input_names,\n\u001b[1;32m   1816\u001b[0m                                     \u001b[0mself\u001b[0m\u001b[0;34m.\u001b[0m\u001b[0m_feed_input_shapes\u001b[0m\u001b[0;34m,\u001b[0m\u001b[0;34m\u001b[0m\u001b[0m\n\u001b[0;32m-> 1817\u001b[0;31m                                     check_batch_axis=False)\n\u001b[0m\u001b[1;32m   1818\u001b[0m         \u001b[0;32mif\u001b[0m \u001b[0mself\u001b[0m\u001b[0;34m.\u001b[0m\u001b[0mstateful\u001b[0m\u001b[0;34m:\u001b[0m\u001b[0;34m\u001b[0m\u001b[0m\n\u001b[1;32m   1819\u001b[0m             \u001b[0;32mif\u001b[0m \u001b[0mx\u001b[0m\u001b[0;34m[\u001b[0m\u001b[0;36m0\u001b[0m\u001b[0;34m]\u001b[0m\u001b[0;34m.\u001b[0m\u001b[0mshape\u001b[0m\u001b[0;34m[\u001b[0m\u001b[0;36m0\u001b[0m\u001b[0;34m]\u001b[0m \u001b[0;34m>\u001b[0m \u001b[0mbatch_size\u001b[0m \u001b[0;32mand\u001b[0m \u001b[0mx\u001b[0m\u001b[0;34m[\u001b[0m\u001b[0;36m0\u001b[0m\u001b[0;34m]\u001b[0m\u001b[0;34m.\u001b[0m\u001b[0mshape\u001b[0m\u001b[0;34m[\u001b[0m\u001b[0;36m0\u001b[0m\u001b[0;34m]\u001b[0m \u001b[0;34m%\u001b[0m \u001b[0mbatch_size\u001b[0m \u001b[0;34m!=\u001b[0m \u001b[0;36m0\u001b[0m\u001b[0;34m:\u001b[0m\u001b[0;34m\u001b[0m\u001b[0m\n",
      "\u001b[0;32m~/anaconda2/envs/sls_sec/lib/python3.6/site-packages/keras/engine/training.py\u001b[0m in \u001b[0;36m_standardize_input_data\u001b[0;34m(data, names, shapes, check_batch_axis, exception_prefix)\u001b[0m\n\u001b[1;32m    121\u001b[0m                             \u001b[0;34m': expected '\u001b[0m \u001b[0;34m+\u001b[0m \u001b[0mnames\u001b[0m\u001b[0;34m[\u001b[0m\u001b[0mi\u001b[0m\u001b[0;34m]\u001b[0m \u001b[0;34m+\u001b[0m \u001b[0;34m' to have shape '\u001b[0m \u001b[0;34m+\u001b[0m\u001b[0;34m\u001b[0m\u001b[0m\n\u001b[1;32m    122\u001b[0m                             \u001b[0mstr\u001b[0m\u001b[0;34m(\u001b[0m\u001b[0mshape\u001b[0m\u001b[0;34m)\u001b[0m \u001b[0;34m+\u001b[0m \u001b[0;34m' but got array with shape '\u001b[0m \u001b[0;34m+\u001b[0m\u001b[0;34m\u001b[0m\u001b[0m\n\u001b[0;32m--> 123\u001b[0;31m                             str(data_shape))\n\u001b[0m\u001b[1;32m    124\u001b[0m     \u001b[0;32mreturn\u001b[0m \u001b[0mdata\u001b[0m\u001b[0;34m\u001b[0m\u001b[0m\n\u001b[1;32m    125\u001b[0m \u001b[0;34m\u001b[0m\u001b[0m\n",
      "\u001b[0;31mValueError\u001b[0m: Error when checking : expected batch_normalization_64_input to have shape (2730,) but got array with shape (50429,)"
     ]
    }
   ],
   "source": [
    "def score(est, X, y, cutoff):\n",
    "    y_pred = est.predict(X)\n",
    "    y_pred_proba = est.model.predict_proba(X)\n",
    "    # Invest if over cutoff% confident \n",
    "    y_pred_bool = bool_arr(y_pred, cutoff)\n",
    "    # Score correct if you make postive returns\n",
    "    y_true_bool = bool_arr(y, 0)\n",
    "    \n",
    "    total = np.dot(y_pred_bool.reshape(X.shape[0],), y)\n",
    "    confidence_weighted = np.dot(y_pred_proba.reshape(X.shape[0],), y)\n",
    "    buy_all = np.dot(np.ones(X.shape[0]), y)\n",
    "    \n",
    "    av = total/len(X)\n",
    "    buy_all_av = buy_all/len(X)\n",
    "    confidence_weighted_av = confidence_weighted/len(X)\n",
    "    return [av, buy_all_av, confidence_weighted_av]\n",
    "\n",
    "\n",
    "ys_attained = []\n",
    "ys_potential = []\n",
    "ys_confidence_weighted = []\n",
    "xs = []\n",
    "for i in np.linspace(0.1, 1, num=10):\n",
    "    sc = score(deep_estimator, X_test, y_test_continuous,i)\n",
    "    ys_attained.append(sc[0])\n",
    "    ys_potential.append(sc[1])\n",
    "    ys_confidence_weighted.append(sc[2])\n",
    "    xs.append(i)\n",
    "    \n",
    "buy_rec = plt.plot(xs, ys_attained, label='Buy Rec')\n",
    "buy_all = plt.plot(xs, ys_potential, label='Buy all')\n",
    "buy_wc = plt.plot(xs, ys_confidence_weighted, label='Bets Weighted Confidence')\n",
    "\n",
    "ax = plt.gca()\n",
    "\n",
    "handles, labels = ax.get_legend_handles_labels()\n",
    "ax.legend()\n",
    "\n",
    "plt.ylim(-0.01, 0.01)\n",
    "\n",
    "# set the ylim to ymin, ymax"
   ]
  },
  {
   "cell_type": "code",
   "execution_count": 33,
   "metadata": {},
   "outputs": [
    {
     "name": "stderr",
     "output_type": "stream",
     "text": [
      "\n",
      "  0%|          | 0/5 [00:00<?, ?it/s]\u001b[A"
     ]
    },
    {
     "name": "stdout",
     "output_type": "stream",
     "text": [
      "Train on 395 samples, validate on 99 samples\n",
      "Epoch 1/10\n",
      "395/395 [==============================] - 1s 3ms/step - loss: 782.9136 - acc: 0.4886 - val_loss: 385.5391 - val_acc: 0.5859\n",
      "Epoch 2/10\n",
      "395/395 [==============================] - 1s 2ms/step - loss: 184.9604 - acc: 0.4835 - val_loss: 74.3654 - val_acc: 0.5455\n",
      "Epoch 3/10\n",
      "395/395 [==============================] - 1s 2ms/step - loss: 62.9197 - acc: 0.5215 - val_loss: 55.8841 - val_acc: 0.4444\n",
      "Epoch 4/10\n",
      "395/395 [==============================] - 1s 2ms/step - loss: 51.8920 - acc: 0.5544 - val_loss: 48.8269 - val_acc: 0.5051\n",
      "Epoch 5/10\n",
      "395/395 [==============================] - 1s 2ms/step - loss: 43.0366 - acc: 0.5747 - val_loss: 39.6641 - val_acc: 0.5758\n",
      "Epoch 6/10\n",
      "395/395 [==============================] - 1s 2ms/step - loss: 36.6025 - acc: 0.5089 - val_loss: 32.4293 - val_acc: 0.4444\n",
      "Epoch 7/10\n",
      "395/395 [==============================] - 1s 2ms/step - loss: 29.2403 - acc: 0.5620 - val_loss: 28.7175 - val_acc: 0.4949\n",
      "Epoch 8/10\n",
      "395/395 [==============================] - 1s 2ms/step - loss: 23.5813 - acc: 0.5772 - val_loss: 21.0366 - val_acc: 0.5455\n",
      "Epoch 9/10\n",
      "395/395 [==============================] - 1s 2ms/step - loss: 18.0876 - acc: 0.5747 - val_loss: 16.6903 - val_acc: 0.4444\n",
      "Epoch 10/10\n",
      "395/395 [==============================] - 1s 2ms/step - loss: 13.6045 - acc: 0.5772 - val_loss: 11.8911 - val_acc: 0.5960\n"
     ]
    },
    {
     "name": "stderr",
     "output_type": "stream",
     "text": [
      "\n",
      " 20%|██        | 1/5 [00:07<00:31,  7.80s/it]\u001b[A"
     ]
    },
    {
     "name": "stdout",
     "output_type": "stream",
     "text": [
      "Train on 395 samples, validate on 99 samples\n",
      "Epoch 1/10\n",
      "395/395 [==============================] - 1s 3ms/step - loss: 838.6319 - acc: 0.5013 - val_loss: 319.5284 - val_acc: 0.4848\n",
      "Epoch 2/10\n",
      "395/395 [==============================] - 1s 2ms/step - loss: 136.0465 - acc: 0.6076 - val_loss: 71.4278 - val_acc: 0.8485\n",
      "Epoch 3/10\n",
      "395/395 [==============================] - 1s 2ms/step - loss: 61.6412 - acc: 0.6304 - val_loss: 53.3218 - val_acc: 0.4040\n",
      "Epoch 4/10\n",
      "395/395 [==============================] - 1s 2ms/step - loss: 50.5065 - acc: 0.6557 - val_loss: 44.9282 - val_acc: 0.4444\n",
      "Epoch 5/10\n",
      "395/395 [==============================] - 1s 2ms/step - loss: 42.3939 - acc: 0.6785 - val_loss: 38.5857 - val_acc: 0.7778\n",
      "Epoch 6/10\n",
      "395/395 [==============================] - 1s 2ms/step - loss: 35.3930 - acc: 0.7342 - val_loss: 30.5746 - val_acc: 0.7778\n",
      "Epoch 7/10\n",
      "395/395 [==============================] - 1s 2ms/step - loss: 28.9677 - acc: 0.7696 - val_loss: 25.3562 - val_acc: 0.8081\n",
      "Epoch 8/10\n",
      "395/395 [==============================] - 1s 2ms/step - loss: 23.2101 - acc: 0.7924 - val_loss: 20.9244 - val_acc: 0.8081\n",
      "Epoch 9/10\n",
      "395/395 [==============================] - 1s 2ms/step - loss: 17.8379 - acc: 0.8304 - val_loss: 14.8495 - val_acc: 0.8889\n",
      "Epoch 10/10\n",
      "395/395 [==============================] - 1s 2ms/step - loss: 13.4120 - acc: 0.8582 - val_loss: 10.7872 - val_acc: 0.8788\n"
     ]
    },
    {
     "name": "stderr",
     "output_type": "stream",
     "text": [
      "\n",
      " 40%|████      | 2/5 [00:15<00:23,  7.99s/it]\u001b[A"
     ]
    },
    {
     "name": "stdout",
     "output_type": "stream",
     "text": [
      "Train on 395 samples, validate on 99 samples\n",
      "Epoch 1/10\n",
      "395/395 [==============================] - 1s 3ms/step - loss: 814.4856 - acc: 0.5342 - val_loss: 336.3111 - val_acc: 0.8788\n",
      "Epoch 2/10\n",
      "395/395 [==============================] - 1s 2ms/step - loss: 141.8063 - acc: 0.5949 - val_loss: 66.6091 - val_acc: 0.4141\n",
      "Epoch 3/10\n",
      "395/395 [==============================] - 1s 2ms/step - loss: 59.3873 - acc: 0.6582 - val_loss: 54.7897 - val_acc: 0.6465\n",
      "Epoch 4/10\n",
      "395/395 [==============================] - 1s 2ms/step - loss: 49.9166 - acc: 0.7089 - val_loss: 45.4332 - val_acc: 0.6364\n",
      "Epoch 5/10\n",
      "395/395 [==============================] - 1s 2ms/step - loss: 41.3727 - acc: 0.7823 - val_loss: 37.9590 - val_acc: 0.9495\n",
      "Epoch 6/10\n",
      "395/395 [==============================] - 1s 2ms/step - loss: 35.3992 - acc: 0.8506 - val_loss: 34.5799 - val_acc: 0.4343\n",
      "Epoch 7/10\n",
      "395/395 [==============================] - 1s 2ms/step - loss: 28.8786 - acc: 0.8734 - val_loss: 25.7028 - val_acc: 0.9495\n",
      "Epoch 8/10\n",
      "395/395 [==============================] - 1s 2ms/step - loss: 23.8005 - acc: 0.8987 - val_loss: 20.4520 - val_acc: 0.9697\n",
      "Epoch 9/10\n",
      "395/395 [==============================] - 1s 2ms/step - loss: 17.7657 - acc: 0.9291 - val_loss: 15.9452 - val_acc: 0.5556\n",
      "Epoch 10/10\n",
      "395/395 [==============================] - 1s 2ms/step - loss: 13.1694 - acc: 0.9468 - val_loss: 10.8998 - val_acc: 0.9697\n"
     ]
    },
    {
     "name": "stderr",
     "output_type": "stream",
     "text": [
      "\n",
      " 60%|██████    | 3/5 [00:24<00:16,  8.04s/it]\u001b[A"
     ]
    },
    {
     "name": "stdout",
     "output_type": "stream",
     "text": [
      "Train on 395 samples, validate on 99 samples\n",
      "Epoch 1/10\n",
      "395/395 [==============================] - 1s 3ms/step - loss: 728.5609 - acc: 0.5316 - val_loss: 407.4310 - val_acc: 0.5657\n",
      "Epoch 2/10\n",
      "395/395 [==============================] - 1s 2ms/step - loss: 215.1073 - acc: 0.6152 - val_loss: 85.3864 - val_acc: 0.7879\n",
      "Epoch 3/10\n",
      "395/395 [==============================] - 1s 2ms/step - loss: 61.8023 - acc: 0.6759 - val_loss: 56.3565 - val_acc: 0.2525\n",
      "Epoch 4/10\n",
      "395/395 [==============================] - 1s 2ms/step - loss: 49.3674 - acc: 0.7443 - val_loss: 44.8255 - val_acc: 0.9697\n",
      "Epoch 5/10\n",
      "395/395 [==============================] - 1s 2ms/step - loss: 41.6270 - acc: 0.8304 - val_loss: 38.4864 - val_acc: 0.8384\n",
      "Epoch 6/10\n",
      "395/395 [==============================] - 1s 2ms/step - loss: 34.4543 - acc: 0.8734 - val_loss: 32.3487 - val_acc: 0.6768\n",
      "Epoch 7/10\n",
      "395/395 [==============================] - 1s 2ms/step - loss: 28.3719 - acc: 0.8937 - val_loss: 25.3998 - val_acc: 0.9596\n",
      "Epoch 8/10\n",
      "395/395 [==============================] - 1s 2ms/step - loss: 22.3892 - acc: 0.9392 - val_loss: 21.9376 - val_acc: 0.6465\n",
      "Epoch 9/10\n",
      "395/395 [==============================] - 1s 2ms/step - loss: 17.5234 - acc: 0.9620 - val_loss: 14.9847 - val_acc: 0.9697\n",
      "Epoch 10/10\n",
      "395/395 [==============================] - 1s 2ms/step - loss: 12.9667 - acc: 0.9671 - val_loss: 11.0789 - val_acc: 0.9697\n"
     ]
    },
    {
     "name": "stderr",
     "output_type": "stream",
     "text": [
      "\n",
      " 80%|████████  | 4/5 [00:32<00:08,  8.03s/it]\u001b[A"
     ]
    },
    {
     "name": "stdout",
     "output_type": "stream",
     "text": [
      "Train on 395 samples, validate on 99 samples\n",
      "Epoch 1/10\n",
      "395/395 [==============================] - 1s 3ms/step - loss: 696.7543 - acc: 0.5342 - val_loss: 411.0017 - val_acc: 0.4949\n",
      "Epoch 2/10\n",
      "395/395 [==============================] - 1s 2ms/step - loss: 230.0261 - acc: 0.5975 - val_loss: 98.9191 - val_acc: 0.8283\n",
      "Epoch 3/10\n",
      "395/395 [==============================] - 1s 2ms/step - loss: 61.5024 - acc: 0.6962 - val_loss: 50.3639 - val_acc: 0.8182\n",
      "Epoch 4/10\n",
      "395/395 [==============================] - 1s 2ms/step - loss: 45.5703 - acc: 0.8051 - val_loss: 41.4631 - val_acc: 0.9495\n",
      "Epoch 5/10\n",
      "395/395 [==============================] - 1s 2ms/step - loss: 37.9643 - acc: 0.8962 - val_loss: 37.8119 - val_acc: 0.6162\n",
      "Epoch 6/10\n",
      "395/395 [==============================] - 1s 2ms/step - loss: 31.1674 - acc: 0.9595 - val_loss: 28.1202 - val_acc: 0.9798\n",
      "Epoch 7/10\n",
      "395/395 [==============================] - 1s 2ms/step - loss: 25.2545 - acc: 0.9722 - val_loss: 22.6497 - val_acc: 0.9798\n",
      "Epoch 8/10\n",
      "395/395 [==============================] - 1s 2ms/step - loss: 19.9744 - acc: 0.9797 - val_loss: 17.8094 - val_acc: 0.9798\n",
      "Epoch 9/10\n",
      "395/395 [==============================] - 1s 2ms/step - loss: 15.4994 - acc: 0.9797 - val_loss: 13.6302 - val_acc: 0.9798\n",
      "Epoch 10/10\n",
      "395/395 [==============================] - 1s 2ms/step - loss: 11.6096 - acc: 0.9797 - val_loss: 9.9832 - val_acc: 0.9798\n"
     ]
    },
    {
     "name": "stderr",
     "output_type": "stream",
     "text": [
      "\n",
      "100%|██████████| 5/5 [00:40<00:00,  8.01s/it]\u001b[A\n",
      "\u001b[A"
     ]
    }
   ],
   "source": [
    "ys_confidence_weighted = []\n",
    "ys_potential = []\n",
    "xs = []\n",
    "\n",
    "for i in tqdm(np.linspace(0,0.2, num=5)):\n",
    "    X_train, X_test, y_train_continuous, y_test_continuous = train_test_split(X, y, test_size=0.2, random_state=42)\n",
    "    y_train = bool_arr(y_train_continuous, i)\n",
    "    y_test = bool_arr(y_test_continuous, i)\n",
    "\n",
    "    select_fpr = SelectFpr(alpha=0.2)\n",
    "\n",
    "    X_train = select_fpr.fit_transform(X_train, y_train)\n",
    "    X_test = select_fpr.transform(X_test)\n",
    "\n",
    "    deep_estimator = DeepEstimator()\n",
    "    deep_estimator.fit(X_train, y_train, X_test, y_test)\n",
    "    \n",
    "    round_score = score(deep_estimator, X_test, y_test_continuous,0)\n",
    "    \n",
    "    buy_all_score = round_score[1]\n",
    "    bwc_score = round_score[2]\n",
    "    \n",
    "    xs.append(i)\n",
    "    ys_potential.append(buy_all_score)\n",
    "    ys_confidence_weighted.append(bwc_score)\n",
    "\n"
   ]
  },
  {
   "cell_type": "markdown",
   "metadata": {},
   "source": [
    "# Plot earnings on buying weighted by confidence vs buying all stocks as the prediction threshold increases in training"
   ]
  },
  {
   "cell_type": "code",
   "execution_count": 34,
   "metadata": {},
   "outputs": [
    {
     "data": {
      "text/plain": [
       "<matplotlib.legend.Legend at 0x7f5c2de2c7b8>"
      ]
     },
     "execution_count": 34,
     "metadata": {},
     "output_type": "execute_result"
    },
    {
     "data": {
      "image/png": "[encoded data removed]",
      "text/plain": [
       "<Figure size 432x288 with 1 Axes>"
      ]
     },
     "metadata": {},
     "output_type": "display_data"
    }
   ],
   "source": [
    "plt.plot(xs, ys_confidence_weighted, label='Bets Weighted Confidence')\n",
    "buy_all = plt.plot(xs, ys_potential, label='Buy all')\n",
    "\n",
    "ax = plt.gca()\n",
    "\n",
    "handles, labels = ax.get_legend_handles_labels()\n",
    "ax.legend()"
   ]
  },
  {
   "cell_type": "code",
   "execution_count": 35,
   "metadata": {},
   "outputs": [
    {
     "data": {
      "text/plain": [
       "array([ 5.06329114e-02, -8.33333333e-02,  2.77752315e-02, -5.07614213e-03,\n",
       "        3.63813020e-02, -5.13392857e-02,  4.96592404e-02,  3.64958496e-02,\n",
       "        6.07476636e-02,  2.98762271e-03, -3.37804878e-02, -8.06538337e-03,\n",
       "       -3.45423143e-04,  5.00000000e-02,  1.20481928e-02,  9.83606557e-03,\n",
       "        1.39475909e-02,  3.27552987e-02,  1.27659574e-02,  1.65539753e-02,\n",
       "       -4.98960499e-02,  3.86431945e-03,  3.63108206e-03,  1.57728707e-02,\n",
       "        8.87110802e-03,  6.61150152e-03,  2.71158587e-02, -4.44444444e-02,\n",
       "       -1.57728707e-02, -3.55439965e-02, -2.62928620e-02,  4.93421053e-03,\n",
       "        2.36951983e-01,  1.26874279e-02,  2.94627383e-02, -8.69565217e-03,\n",
       "        9.99826620e-03,  2.28859238e-02,  3.09697933e-02, -1.86831594e-02,\n",
       "        1.75438596e-02, -3.11662671e-02, -2.27968697e-02,  1.78117048e-02,\n",
       "       -5.29801325e-02,  9.94087454e-03, -2.50000000e-02, -1.44000000e-01,\n",
       "        6.03681580e-02,  3.90015601e-02,  2.59342214e-02,  4.15754923e-02,\n",
       "       -6.39417240e-03,  4.31479223e-03,  1.02406554e-02, -5.50711335e-03,\n",
       "        2.42662353e-03, -3.09520612e-02, -5.31408485e-02, -2.58175559e-02,\n",
       "        1.93925419e-16,  5.39798719e-02,  1.09812879e-02,  5.94584223e-02,\n",
       "        9.35828877e-03,  1.27143132e-02,  1.44305772e-02,  1.43790850e-02,\n",
       "        3.31682102e-02, -5.10745186e-02,  4.47110142e-02,  3.94335902e-02,\n",
       "        9.50323974e-02,  4.87580497e-02,  7.58676352e-03,  1.53366584e-01,\n",
       "       -1.13360324e-02, -3.55878143e-02, -6.10932476e-02,  7.55939525e-02,\n",
       "        3.61230529e-02, -5.00454959e-02, -1.76056338e-02,  3.40479193e-02,\n",
       "       -3.30312774e-02, -5.08474576e-03, -6.77290837e-02, -1.66340509e-01,\n",
       "       -5.72088674e-03, -5.69411765e-02, -1.12745772e-02, -4.72914875e-02,\n",
       "       -2.12985228e-03,  3.06990881e-01,  4.90083593e-02, -2.33181453e-02,\n",
       "       -1.78080886e-16, -3.04182510e-02,  2.32981434e-03])"
      ]
     },
     "execution_count": 35,
     "metadata": {},
     "output_type": "execute_result"
    }
   ],
   "source": [
    "y_test_continuous"
   ]
  },
  {
   "cell_type": "code",
   "execution_count": null,
   "metadata": {},
   "outputs": [],
   "source": []
  },
  {
   "cell_type": "code",
   "execution_count": null,
   "metadata": {},
   "outputs": [],
   "source": []
  },
  {
   "cell_type": "code",
   "execution_count": null,
   "metadata": {},
   "outputs": [],
   "source": [
    "# class_weights = []\n",
    "# for i in np.linspace(0.01,0.1, num=10):\n",
    "#     class_weights.append({0: i, 1: 1-i})\n",
    "\n",
    "# param_grid = dict(\n",
    "#     class_weight=class_weights\n",
    "# )\n",
    "\n",
    "# svc_train_pipeline = Pipeline([\n",
    "#     ('reduce_false_pos', SelectFpr(alpha=0.9)),\n",
    "#     ('svc', RandomizedSearchCV(estimator=SVC(\n",
    "#         gamma='auto', \n",
    "#         kernel='sigmoid',\n",
    "#         C=0.5623,\n",
    "#         probability=True,\n",
    "#         class_weight='balanced'), \n",
    "#         scoring='average_precision',\n",
    "#         param_distributions=param_grid))\n",
    "#      ])\n"
   ]
  }
 ],
 "metadata": {
  "kernelspec": {
   "display_name": "Python [conda env:sls_sec]",
   "language": "python",
   "name": "conda-env-sls_sec-py"
  },
  "language_info": {
   "codemirror_mode": {
    "name": "ipython",
    "version": 3
   },
   "file_extension": ".py",
   "mimetype": "text/x-python",
   "name": "python",
   "nbconvert_exporter": "python",
   "pygments_lexer": "ipython3",
   "version": "3.6.5"
  }
 },
 "nbformat": 4,
 "nbformat_minor": 2
}
