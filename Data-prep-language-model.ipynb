{
 "cells": [
  {
   "cell_type": "code",
   "execution_count": 12,
   "metadata": {},
   "outputs": [],
   "source": [
    "import glob\n",
    "import os \n",
    "import pandas as pd\n",
    "import datetime\n",
    "from scipy.stats import iqr\n",
    "import numpy as np\n",
    "import math\n",
    "\n",
    "from shutil import copyfile\n",
    "from sklearn.model_selection import train_test_split\n",
    "from tqdm import tqdm"
   ]
  },
  {
   "cell_type": "code",
   "execution_count": 14,
   "metadata": {},
   "outputs": [],
   "source": [
    "PATH='data/language_model/'\n",
    "\n",
    "TRN_PATH = 'train/all/'\n",
    "VAL_PATH = 'test/all/'\n",
    "TRN = f'{PATH}{TRN_PATH}' \n",
    "VAL = f'{PATH}{VAL_PATH}' "
   ]
  },
  {
   "cell_type": "code",
   "execution_count": 15,
   "metadata": {},
   "outputs": [],
   "source": [
    "class PriceData:\n",
    "    def __init__(self, stock_name):\n",
    "        self.stock_name = stock_name\n",
    "        try:\n",
    "            self.price_data = pd.read_csv('prices/' + stock_name + '.csv')\n",
    "        except:\n",
    "            self.price_data = pd.DataFrame.from_dict({})\n",
    "\n",
    "    def on_date(self, date, market_time = 'open'): \n",
    "        try:\n",
    "            return float(self.price_data.loc[self.price_data['date'] == date][market_time])\n",
    "        except: \n",
    "            return None"
   ]
  },
  {
   "cell_type": "code",
   "execution_count": 16,
   "metadata": {},
   "outputs": [],
   "source": [
    "class X_y_mapping():\n",
    "    def __init__(self, start_int, end_int):\n",
    "        self.filing_int = start_int * -1\n",
    "        self.start_int = start_int\n",
    "        self.end_int = end_int\n",
    "        self.range = (range(start_int, end_int))\n",
    "        \n",
    "    def __stock_name_from_filename(self, filename):\n",
    "        return filename.split('/')[-1]\n",
    "        \n",
    "    def transform(self):\n",
    "        stock_names = [self.__stock_name_from_filename(filename) for filename in glob.glob('filing_texts/*')]\n",
    "        price_ranges = self.__get_price_ranges(stock_names)\n",
    "        X_y = {}\n",
    "        for stock_name in price_ranges.keys():\n",
    "            cp_ratio = self.__comparison_price_ratio(price_ranges, stock_name)\n",
    "            if cp_ratio and not math.isnan(cp_ratio):\n",
    "                X_y[stock_name] = cp_ratio\n",
    "        return X_y\n",
    "    \n",
    "    \n",
    "    def __get_price_ranges(self, stock_names):\n",
    "        h = {}\n",
    "        for i, stock_name in enumerate(stock_names):\n",
    "            try:\n",
    "                date = stock_name.split('_')[1]\n",
    "            except:\n",
    "                continue # Ignore stocks which don't have a date\n",
    "            dates = []\n",
    "            for delta in self.range:\n",
    "                date_delta = datetime.timedelta(days=delta)\n",
    "                date_string = datetime.datetime.strptime(date, '%Y-%m-%d').date()\n",
    "                dates.append(str(date_string + date_delta))\n",
    "            h[stock_name] = dates\n",
    "        return h\n",
    "    \n",
    "    def __comparison_price_ratio(self,h, stock_name_with_date):\n",
    "        earliest_price_after_filing = None\n",
    "        hist_p = []\n",
    "        stock_name = stock_name_with_date.split('_')[0]\n",
    "        for i, date in enumerate(h[stock_name_with_date]):\n",
    "            price = PriceData(stock_name).on_date(date, 'open')\n",
    "            if price and not math.isnan(price):\n",
    "                if i > self.filing_int:\n",
    "                    earliest_price_after_filing = earliest_price_after_filing or price\n",
    "                else:\n",
    "                    hist_p.append(price)\n",
    "        # Closing price on day of filing\n",
    "        price_close_filing = PriceData(stock_name).on_date(h[stock_name_with_date][self.filing_int], 'close')\n",
    "        # Use either the next open day of trading or the close price on day of filing\n",
    "        comparison_price = earliest_price_after_filing or price_close_filing\n",
    "        # Remove nans from historical prices before taking the mean\n",
    "        this_mean = np.mean(hist_p)\n",
    "        if comparison_price and this_mean:\n",
    "            return ((comparison_price-this_mean)/this_mean)\n",
    "        else:\n",
    "            return None"
   ]
  },
  {
   "cell_type": "code",
   "execution_count": 17,
   "metadata": {},
   "outputs": [
    {
     "name": "stderr",
     "output_type": "stream",
     "text": [
      "/home/piper/anaconda2/envs/fastai/lib/python3.6/site-packages/numpy/core/fromnumeric.py:2957: RuntimeWarning: Mean of empty slice.\n",
      "  out=out, **kwargs)\n",
      "/home/piper/anaconda2/envs/fastai/lib/python3.6/site-packages/numpy/core/_methods.py:80: RuntimeWarning: invalid value encountered in double_scalars\n",
      "  ret = ret.dtype.type(ret / rcount)\n"
     ]
    }
   ],
   "source": [
    "spm = X_y_mapping(-5,2).transform()"
   ]
  },
  {
   "cell_type": "code",
   "execution_count": 18,
   "metadata": {},
   "outputs": [
    {
     "data": {
      "text/plain": [
       "499"
      ]
     },
     "execution_count": 18,
     "metadata": {},
     "output_type": "execute_result"
    }
   ],
   "source": [
    "len(spm.keys())"
   ]
  },
  {
   "cell_type": "code",
   "execution_count": 19,
   "metadata": {},
   "outputs": [],
   "source": [
    "X = np.array(list(spm.keys()))\n",
    "y = np.array(list(spm.values()))"
   ]
  },
  {
   "cell_type": "code",
   "execution_count": 20,
   "metadata": {},
   "outputs": [],
   "source": [
    "X_train, X_test, y_train, y_test = train_test_split(\n",
    "    X, y, test_size=0.33)"
   ]
  },
  {
   "cell_type": "code",
   "execution_count": 72,
   "metadata": {},
   "outputs": [],
   "source": [
    "import glob as glob\n",
    "from bs4 import BeautifulSoup as Soup\n",
    "\n",
    "def stringify_file(filename):\n",
    "    res = open(filename)\n",
    "    soup = Soup(res,'html.parser')\n",
    "    text = []\n",
    "    for p in soup.find_all('p'):\n",
    "        text.append(p.text.replace(\"\\\\n\", ' -_n_- '))\n",
    "    string = ' '.join(text)\n",
    "    return string.encode('utf-8', \"backslashreplace\").decode('utf-8')"
   ]
  },
  {
   "cell_type": "code",
   "execution_count": null,
   "metadata": {},
   "outputs": [],
   "source": []
  },
  {
   "cell_type": "code",
   "execution_count": 73,
   "metadata": {},
   "outputs": [],
   "source": [
    "os.makedirs('data/language_model', exist_ok=True)\n",
    "% rm -rf 'data/language_model/all'\n",
    "% rm -rf 'data/language_model/train'\n",
    "% rm -rf 'data/language_model/val'\n",
    "\n",
    "os.makedirs(f'proc_filing_texts', exist_ok=True)\n",
    "os.makedirs(f'{PATH}train/yes', exist_ok=True)\n",
    "os.makedirs(f'{PATH}val/yes', exist_ok=True)\n",
    "os.makedirs(f'{PATH}train/no', exist_ok=True)\n",
    "os.makedirs(f'{PATH}val/no', exist_ok=True)\n",
    "os.makedirs(f'{PATH}all/train', exist_ok=True)\n",
    "os.makedirs(f'{PATH}all/val', exist_ok=True)\n",
    "os.makedirs(f'{PATH}models', exist_ok=True)\n",
    "\n",
    "atp = 'data/language_model/all/train'\n",
    "ytp = 'data/language_model/train/yes'\n",
    "ntp = 'data/language_model/train/no'\n",
    "\n",
    "avp = 'data/language_model/all/val'\n",
    "yvp = 'data/language_model/val/yes'\n",
    "nvp = 'data/language_model/val/no'\n",
    "\n",
    "threshold = 0.1\n",
    "\n",
    "for i, filename in enumerate(X):\n",
    "    sf = stringify_file(f'filing_texts/{filename}')\n",
    "    f = open(f'proc_filing_texts/{filename}', 'w+')\n",
    "    f.write(sf)\n",
    "    f.close()\n",
    "\n",
    "for i, filename in enumerate(X_train):\n",
    "    copyfile(f'proc_filing_texts/{filename}', f'{atp}/{filename}.txt')\n",
    "    if y_train[i] >= threshold:\n",
    "        copyfile(f'proc_filing_texts/{filename}', f'{ytp}/{filename}.txt')\n",
    "    else:\n",
    "        copyfile(f'proc_filing_texts/{filename}', f'{ntp}/{filename}.txt')\n",
    "for i, filename in enumerate(X_test):\n",
    "    copyfile(f'proc_filing_texts/{filename}', f'{avp}/{filename}.txt')\n",
    "    if y_train[i] >= threshold:\n",
    "        copyfile(f'proc_filing_texts/{filename}', f'{yvp}/{filename}.txt')\n",
    "    else:\n",
    "        copyfile(f'proc_filing_texts/{filename}', f'{nvp}/{filename}.txt')"
   ]
  },
  {
   "cell_type": "code",
   "execution_count": null,
   "metadata": {},
   "outputs": [],
   "source": []
  }
 ],
 "metadata": {
  "kernelspec": {
   "display_name": "Python (fastai)",
   "language": "python",
   "name": "fastai"
  },
  "language_info": {
   "codemirror_mode": {
    "name": "ipython",
    "version": 3
   },
   "file_extension": ".py",
   "mimetype": "text/x-python",
   "name": "python",
   "nbconvert_exporter": "python",
   "pygments_lexer": "ipython3",
   "version": "3.6.5"
  }
 },
 "nbformat": 4,
 "nbformat_minor": 2
}
